{
 "cells": [
  {
   "cell_type": "markdown",
   "id": "57d5cea4-1534-4b1c-a7b6-f10f9bed1a09",
   "metadata": {},
   "source": [
    "# Scripts to auto-generate nlu.yml and stories.yml"
   ]
  },
  {
   "cell_type": "code",
   "execution_count": 48,
   "id": "89a8d5f1-2696-48fc-837d-c7a7ead8de2a",
   "metadata": {},
   "outputs": [],
   "source": [
    "root = './RASA_ConceptNet5/data/'\n",
    "processed = './Data/processing/Processed_Airbnb/'"
   ]
  },
  {
   "cell_type": "markdown",
   "id": "48d7838c-01d4-4d8d-93fa-db748b562b7d",
   "metadata": {},
   "source": [
    "### Import"
   ]
  },
  {
   "cell_type": "code",
   "execution_count": 49,
   "id": "60998301-e517-487e-b025-65693a4cd9fd",
   "metadata": {},
   "outputs": [],
   "source": [
    "import pandas as pd "
   ]
  },
  {
   "cell_type": "markdown",
   "id": "7b2995a6-6373-4906-bad6-209e7b4235bf",
   "metadata": {},
   "source": [
    "## Generate nlu.yml"
   ]
  },
  {
   "cell_type": "markdown",
   "id": "07be3392-4962-4132-a48c-55fd8181fdcb",
   "metadata": {},
   "source": [
    "### Gather FAQs"
   ]
  },
  {
   "cell_type": "code",
   "execution_count": 50,
   "id": "4c1ac1f5-f0f8-438e-bdea-3bb97915b2cb",
   "metadata": {},
   "outputs": [
    {
     "data": {
      "text/html": [
       "<div>\n",
       "<style scoped>\n",
       "    .dataframe tbody tr th:only-of-type {\n",
       "        vertical-align: middle;\n",
       "    }\n",
       "\n",
       "    .dataframe tbody tr th {\n",
       "        vertical-align: top;\n",
       "    }\n",
       "\n",
       "    .dataframe thead th {\n",
       "        text-align: right;\n",
       "    }\n",
       "</style>\n",
       "<table border=\"1\" class=\"dataframe\">\n",
       "  <thead>\n",
       "    <tr style=\"text-align: right;\">\n",
       "      <th></th>\n",
       "      <th>question</th>\n",
       "      <th>answer</th>\n",
       "      <th>listing_id</th>\n",
       "      <th>context</th>\n",
       "    </tr>\n",
       "  </thead>\n",
       "  <tbody>\n",
       "    <tr>\n",
       "      <th>0</th>\n",
       "      <td>Where did I find the place from?</td>\n",
       "      <td>central station</td>\n",
       "      <td>2818.0</td>\n",
       "      <td>I didnt have any trouble finding the place fro...</td>\n",
       "    </tr>\n",
       "  </tbody>\n",
       "</table>\n",
       "</div>"
      ],
      "text/plain": [
       "                           question           answer  listing_id  \\\n",
       "0  Where did I find the place from?  central station      2818.0   \n",
       "\n",
       "                                             context  \n",
       "0  I didnt have any trouble finding the place fro...  "
      ]
     },
     "execution_count": 50,
     "metadata": {},
     "output_type": "execute_result"
    }
   ],
   "source": [
    "FAQ1 = pd.read_csv(processed+'FAQ_1.json')\n",
    "FAQ2 = pd.read_csv(processed+'FAQ_2.json')\n",
    "FAQ3 = pd.read_csv(processed+'FAQ_3.json')\n",
    "\n",
    "\n",
    "FAQ =  pd.concat([FAQ1, FAQ2, FAQ3], axis=0)\n",
    "\n",
    "FAQ.head(1)"
   ]
  },
  {
   "cell_type": "markdown",
   "id": "e7bb3d68-dfbf-4289-8a32-d5702f243b37",
   "metadata": {},
   "source": [
    "### Add intent type"
   ]
  },
  {
   "cell_type": "code",
   "execution_count": 51,
   "id": "bbba4cf5-066b-47e3-969e-82fce23f7edf",
   "metadata": {},
   "outputs": [],
   "source": [
    "FAQ['intent'] = 'find_listing_by_review_context'\n",
    "FAQ['type'] = 'intent'"
   ]
  },
  {
   "cell_type": "code",
   "execution_count": 52,
   "id": "edbcd9f0-c329-4989-b97a-dc53793e0925",
   "metadata": {},
   "outputs": [
    {
     "data": {
      "text/html": [
       "<div>\n",
       "<style scoped>\n",
       "    .dataframe tbody tr th:only-of-type {\n",
       "        vertical-align: middle;\n",
       "    }\n",
       "\n",
       "    .dataframe tbody tr th {\n",
       "        vertical-align: top;\n",
       "    }\n",
       "\n",
       "    .dataframe thead th {\n",
       "        text-align: right;\n",
       "    }\n",
       "</style>\n",
       "<table border=\"1\" class=\"dataframe\">\n",
       "  <thead>\n",
       "    <tr style=\"text-align: right;\">\n",
       "      <th></th>\n",
       "      <th>question</th>\n",
       "      <th>answer</th>\n",
       "      <th>listing_id</th>\n",
       "      <th>context</th>\n",
       "      <th>intent</th>\n",
       "      <th>type</th>\n",
       "    </tr>\n",
       "  </thead>\n",
       "  <tbody>\n",
       "    <tr>\n",
       "      <th>0</th>\n",
       "      <td>Where did I find the place from?</td>\n",
       "      <td>central station</td>\n",
       "      <td>2818.0</td>\n",
       "      <td>I didnt have any trouble finding the place fro...</td>\n",
       "      <td>find_listing_by_review_context</td>\n",
       "      <td>intent</td>\n",
       "    </tr>\n",
       "    <tr>\n",
       "      <th>1</th>\n",
       "      <td>Who is really cool?</td>\n",
       "      <td>daniel</td>\n",
       "      <td>2818.0</td>\n",
       "      <td>Daniel is really cool.</td>\n",
       "      <td>find_listing_by_review_context</td>\n",
       "      <td>intent</td>\n",
       "    </tr>\n",
       "    <tr>\n",
       "      <th>2</th>\n",
       "      <td>What was in the room for you to use?</td>\n",
       "      <td>maps</td>\n",
       "      <td>2818.0</td>\n",
       "      <td>He had maps and a lonely planet guide book in ...</td>\n",
       "      <td>find_listing_by_review_context</td>\n",
       "      <td>intent</td>\n",
       "    </tr>\n",
       "    <tr>\n",
       "      <th>3</th>\n",
       "      <td>What is the best book you could ever need?</td>\n",
       "      <td>guidebooks</td>\n",
       "      <td>2818.0</td>\n",
       "      <td>His place is extremely clean, and he provides ...</td>\n",
       "      <td>find_listing_by_review_context</td>\n",
       "      <td>intent</td>\n",
       "    </tr>\n",
       "    <tr>\n",
       "      <th>4</th>\n",
       "      <td>What is the best thing about the place?</td>\n",
       "      <td>comfy bed</td>\n",
       "      <td>2818.0</td>\n",
       "      <td>His place is extremely clean, and he provides ...</td>\n",
       "      <td>find_listing_by_review_context</td>\n",
       "      <td>intent</td>\n",
       "    </tr>\n",
       "  </tbody>\n",
       "</table>\n",
       "</div>"
      ],
      "text/plain": [
       "                                     question           answer  listing_id  \\\n",
       "0            Where did I find the place from?  central station      2818.0   \n",
       "1                         Who is really cool?           daniel      2818.0   \n",
       "2        What was in the room for you to use?             maps      2818.0   \n",
       "3  What is the best book you could ever need?       guidebooks      2818.0   \n",
       "4     What is the best thing about the place?        comfy bed      2818.0   \n",
       "\n",
       "                                             context  \\\n",
       "0  I didnt have any trouble finding the place fro...   \n",
       "1                             Daniel is really cool.   \n",
       "2  He had maps and a lonely planet guide book in ...   \n",
       "3  His place is extremely clean, and he provides ...   \n",
       "4  His place is extremely clean, and he provides ...   \n",
       "\n",
       "                           intent    type  \n",
       "0  find_listing_by_review_context  intent  \n",
       "1  find_listing_by_review_context  intent  \n",
       "2  find_listing_by_review_context  intent  \n",
       "3  find_listing_by_review_context  intent  \n",
       "4  find_listing_by_review_context  intent  "
      ]
     },
     "execution_count": 52,
     "metadata": {},
     "output_type": "execute_result"
    }
   ],
   "source": [
    "FAQ.head(5)"
   ]
  },
  {
   "cell_type": "markdown",
   "id": "246fa6fc-b2f0-4daa-9156-352ac081013f",
   "metadata": {},
   "source": [
    "### Append entity and entity value to the intent."
   ]
  },
  {
   "cell_type": "code",
   "execution_count": 53,
   "id": "8837b143-2284-4cd0-a483-871f4cba093f",
   "metadata": {},
   "outputs": [
    {
     "data": {
      "text/html": [
       "<div>\n",
       "<style scoped>\n",
       "    .dataframe tbody tr th:only-of-type {\n",
       "        vertical-align: middle;\n",
       "    }\n",
       "\n",
       "    .dataframe tbody tr th {\n",
       "        vertical-align: top;\n",
       "    }\n",
       "\n",
       "    .dataframe thead th {\n",
       "        text-align: right;\n",
       "    }\n",
       "</style>\n",
       "<table border=\"1\" class=\"dataframe\">\n",
       "  <thead>\n",
       "    <tr style=\"text-align: right;\">\n",
       "      <th></th>\n",
       "      <th>question</th>\n",
       "      <th>answer</th>\n",
       "      <th>listing_id</th>\n",
       "      <th>context</th>\n",
       "      <th>intent</th>\n",
       "      <th>type</th>\n",
       "    </tr>\n",
       "  </thead>\n",
       "  <tbody>\n",
       "    <tr>\n",
       "      <th>0</th>\n",
       "      <td>Where did I find the place from</td>\n",
       "      <td>central station</td>\n",
       "      <td>2818.0</td>\n",
       "      <td>I didnt have any trouble finding the place fro...</td>\n",
       "      <td>find_listing_by_review_context</td>\n",
       "      <td>intent</td>\n",
       "    </tr>\n",
       "    <tr>\n",
       "      <th>1</th>\n",
       "      <td>Who is really cool</td>\n",
       "      <td>daniel</td>\n",
       "      <td>2818.0</td>\n",
       "      <td>Daniel is really cool.</td>\n",
       "      <td>find_listing_by_review_context</td>\n",
       "      <td>intent</td>\n",
       "    </tr>\n",
       "    <tr>\n",
       "      <th>2</th>\n",
       "      <td>What was in the room for you to use</td>\n",
       "      <td>maps</td>\n",
       "      <td>2818.0</td>\n",
       "      <td>He had maps and a lonely planet guide book in ...</td>\n",
       "      <td>find_listing_by_review_context</td>\n",
       "      <td>intent</td>\n",
       "    </tr>\n",
       "    <tr>\n",
       "      <th>3</th>\n",
       "      <td>What is the best book you could ever need</td>\n",
       "      <td>guidebooks</td>\n",
       "      <td>2818.0</td>\n",
       "      <td>His place is extremely clean, and he provides ...</td>\n",
       "      <td>find_listing_by_review_context</td>\n",
       "      <td>intent</td>\n",
       "    </tr>\n",
       "    <tr>\n",
       "      <th>4</th>\n",
       "      <td>What is the best thing about the place</td>\n",
       "      <td>comfy bed</td>\n",
       "      <td>2818.0</td>\n",
       "      <td>His place is extremely clean, and he provides ...</td>\n",
       "      <td>find_listing_by_review_context</td>\n",
       "      <td>intent</td>\n",
       "    </tr>\n",
       "  </tbody>\n",
       "</table>\n",
       "</div>"
      ],
      "text/plain": [
       "                                     question           answer  listing_id  \\\n",
       "0            Where did I find the place from   central station      2818.0   \n",
       "1                         Who is really cool            daniel      2818.0   \n",
       "2        What was in the room for you to use              maps      2818.0   \n",
       "3  What is the best book you could ever need        guidebooks      2818.0   \n",
       "4     What is the best thing about the place         comfy bed      2818.0   \n",
       "\n",
       "                                             context  \\\n",
       "0  I didnt have any trouble finding the place fro...   \n",
       "1                             Daniel is really cool.   \n",
       "2  He had maps and a lonely planet guide book in ...   \n",
       "3  His place is extremely clean, and he provides ...   \n",
       "4  His place is extremely clean, and he provides ...   \n",
       "\n",
       "                           intent    type  \n",
       "0  find_listing_by_review_context  intent  \n",
       "1  find_listing_by_review_context  intent  \n",
       "2  find_listing_by_review_context  intent  \n",
       "3  find_listing_by_review_context  intent  \n",
       "4  find_listing_by_review_context  intent  "
      ]
     },
     "execution_count": 53,
     "metadata": {},
     "output_type": "execute_result"
    }
   ],
   "source": [
    "#Remove ? from the question \n",
    "#Append entity value and entity at the end and append '?' => [answer](wordid)?\n",
    "\n",
    "FAQ['question'] = FAQ['question'].str.replace(r'?', ' ',regex=True)\n",
    "FAQ.head(5)"
   ]
  },
  {
   "cell_type": "code",
   "execution_count": 54,
   "id": "76f75594-8d6b-49c7-84a2-08c315db169e",
   "metadata": {},
   "outputs": [],
   "source": [
    "FAQ['question'] = FAQ['question'].astype(str) +'['+FAQ['answer'].astype(str)+'](wordid)?'"
   ]
  },
  {
   "cell_type": "code",
   "execution_count": 55,
   "id": "43752da8-1a93-4548-ab86-88acebc4e4fa",
   "metadata": {},
   "outputs": [
    {
     "data": {
      "text/html": [
       "<div>\n",
       "<style scoped>\n",
       "    .dataframe tbody tr th:only-of-type {\n",
       "        vertical-align: middle;\n",
       "    }\n",
       "\n",
       "    .dataframe tbody tr th {\n",
       "        vertical-align: top;\n",
       "    }\n",
       "\n",
       "    .dataframe thead th {\n",
       "        text-align: right;\n",
       "    }\n",
       "</style>\n",
       "<table border=\"1\" class=\"dataframe\">\n",
       "  <thead>\n",
       "    <tr style=\"text-align: right;\">\n",
       "      <th></th>\n",
       "      <th>question</th>\n",
       "      <th>answer</th>\n",
       "      <th>listing_id</th>\n",
       "      <th>context</th>\n",
       "      <th>intent</th>\n",
       "      <th>type</th>\n",
       "    </tr>\n",
       "  </thead>\n",
       "  <tbody>\n",
       "    <tr>\n",
       "      <th>0</th>\n",
       "      <td>Where did I find the place from [central stati...</td>\n",
       "      <td>central station</td>\n",
       "      <td>2818.0</td>\n",
       "      <td>I didnt have any trouble finding the place fro...</td>\n",
       "      <td>find_listing_by_review_context</td>\n",
       "      <td>intent</td>\n",
       "    </tr>\n",
       "    <tr>\n",
       "      <th>1</th>\n",
       "      <td>Who is really cool [daniel](wordid)?</td>\n",
       "      <td>daniel</td>\n",
       "      <td>2818.0</td>\n",
       "      <td>Daniel is really cool.</td>\n",
       "      <td>find_listing_by_review_context</td>\n",
       "      <td>intent</td>\n",
       "    </tr>\n",
       "    <tr>\n",
       "      <th>2</th>\n",
       "      <td>What was in the room for you to use [maps](wor...</td>\n",
       "      <td>maps</td>\n",
       "      <td>2818.0</td>\n",
       "      <td>He had maps and a lonely planet guide book in ...</td>\n",
       "      <td>find_listing_by_review_context</td>\n",
       "      <td>intent</td>\n",
       "    </tr>\n",
       "    <tr>\n",
       "      <th>3</th>\n",
       "      <td>What is the best book you could ever need [gui...</td>\n",
       "      <td>guidebooks</td>\n",
       "      <td>2818.0</td>\n",
       "      <td>His place is extremely clean, and he provides ...</td>\n",
       "      <td>find_listing_by_review_context</td>\n",
       "      <td>intent</td>\n",
       "    </tr>\n",
       "    <tr>\n",
       "      <th>4</th>\n",
       "      <td>What is the best thing about the place [comfy ...</td>\n",
       "      <td>comfy bed</td>\n",
       "      <td>2818.0</td>\n",
       "      <td>His place is extremely clean, and he provides ...</td>\n",
       "      <td>find_listing_by_review_context</td>\n",
       "      <td>intent</td>\n",
       "    </tr>\n",
       "  </tbody>\n",
       "</table>\n",
       "</div>"
      ],
      "text/plain": [
       "                                            question           answer  \\\n",
       "0  Where did I find the place from [central stati...  central station   \n",
       "1               Who is really cool [daniel](wordid)?           daniel   \n",
       "2  What was in the room for you to use [maps](wor...             maps   \n",
       "3  What is the best book you could ever need [gui...       guidebooks   \n",
       "4  What is the best thing about the place [comfy ...        comfy bed   \n",
       "\n",
       "   listing_id                                            context  \\\n",
       "0      2818.0  I didnt have any trouble finding the place fro...   \n",
       "1      2818.0                             Daniel is really cool.   \n",
       "2      2818.0  He had maps and a lonely planet guide book in ...   \n",
       "3      2818.0  His place is extremely clean, and he provides ...   \n",
       "4      2818.0  His place is extremely clean, and he provides ...   \n",
       "\n",
       "                           intent    type  \n",
       "0  find_listing_by_review_context  intent  \n",
       "1  find_listing_by_review_context  intent  \n",
       "2  find_listing_by_review_context  intent  \n",
       "3  find_listing_by_review_context  intent  \n",
       "4  find_listing_by_review_context  intent  "
      ]
     },
     "execution_count": 55,
     "metadata": {},
     "output_type": "execute_result"
    }
   ],
   "source": [
    "FAQ.head(5)"
   ]
  },
  {
   "cell_type": "markdown",
   "id": "509642e7-ff2c-4fe4-9c0e-b01e6bca1596",
   "metadata": {},
   "source": [
    "### Auto-generate NLU intents"
   ]
  },
  {
   "cell_type": "code",
   "execution_count": 56,
   "id": "6e5650cd-3f3a-4d9c-b80d-445fcabfb202",
   "metadata": {},
   "outputs": [],
   "source": [
    "nlus = FAQ.groupby('intent')['question'].apply(list).to_dict()"
   ]
  },
  {
   "cell_type": "code",
   "execution_count": 57,
   "id": "8511672d-4bff-4883-bf84-56141b8f2fd1",
   "metadata": {},
   "outputs": [],
   "source": [
    "#;TYPE;INTENT;VALUE\n",
    "f = open(root+\"nlu.yml\",\"a\")\n",
    "# f.write('version: \"2.0\"\\n')\n",
    "# f.write(\"nlu:\\n\")\n",
    "for intent in nlus:\n",
    "    f.write(\"- intent: {}\\n\".format(intent))\n",
    "    f.write(\"  examples: |\\n\")\n",
    "    for value in nlus[intent]:\n",
    "        f.write(\" - {}\\n\".format(value))\n",
    "f.close()"
   ]
  },
  {
   "cell_type": "code",
   "execution_count": null,
   "id": "eceaa6e1-01e0-4376-84c5-7bb1f2441b52",
   "metadata": {},
   "outputs": [],
   "source": []
  }
 ],
 "metadata": {
  "kernelspec": {
   "display_name": "Python 3 (ipykernel)",
   "language": "python",
   "name": "python3"
  },
  "language_info": {
   "codemirror_mode": {
    "name": "ipython",
    "version": 3
   },
   "file_extension": ".py",
   "mimetype": "text/x-python",
   "name": "python",
   "nbconvert_exporter": "python",
   "pygments_lexer": "ipython3",
   "version": "3.8.8"
  }
 },
 "nbformat": 4,
 "nbformat_minor": 5
}
