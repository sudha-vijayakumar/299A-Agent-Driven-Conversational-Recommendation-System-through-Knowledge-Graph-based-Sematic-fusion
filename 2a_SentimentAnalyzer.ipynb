{
 "cells": [
  {
   "cell_type": "markdown",
   "id": "ea075b38-0dbe-47c3-8415-85f91ea295e2",
   "metadata": {},
   "source": [
    "## Purpose\n",
    "- Sentiment Analysis"
   ]
  },
  {
   "cell_type": "markdown",
   "id": "ab53d627",
   "metadata": {},
   "source": [
    "### Import libraries, raw data"
   ]
  },
  {
   "cell_type": "code",
   "execution_count": 1,
   "id": "af6bccdc-4cb5-4d43-9012-2dce994b5874",
   "metadata": {},
   "outputs": [],
   "source": [
    "import pandas as pd\n",
    "import os\n",
    "import numpy as np\n",
    "import warnings\n",
    "warnings.filterwarnings('ignore')"
   ]
  },
  {
   "cell_type": "code",
   "execution_count": 2,
   "id": "4b2cdf47",
   "metadata": {},
   "outputs": [
    {
     "name": "stdout",
     "output_type": "stream",
     "text": [
      "1a_Get_AirbnbData.ipynb\n",
      "1b_quora-scrapper[inActive].ipynb\n",
      "1c_Twitter-read.ipynb\n",
      "2a_SentimentAnalyzer.ipynb\n",
      "2b_Data_Gen.ipynb\n",
      "3a_EmbeddingsAndModels.ipynb\n",
      "4a_GenerateRASA_Conversational_Data copy.ipynb\n",
      "5a_offlineRecommendation.ipynb\n",
      "6a_NEO4J_QUERIES.docx\n",
      "\u001b[34mArchitecture\u001b[m\u001b[m/\n",
      "\u001b[34mData\u001b[m\u001b[m/\n",
      "LICENSE\n",
      "\u001b[34mPapers\u001b[m\u001b[m/\n",
      "\u001b[34mPersonas\u001b[m\u001b[m/\n",
      "\u001b[34mRASA\u001b[m\u001b[m/\n",
      "\u001b[34mRASA_Neo4j\u001b[m\u001b[m/\n",
      "README.md\n",
      "Twitter_APIKey.ipynb\n",
      "\u001b[34mmodels\u001b[m\u001b[m/\n",
      "workspace.code-workspace\n"
     ]
    }
   ],
   "source": [
    "ls"
   ]
  },
  {
   "cell_type": "code",
   "execution_count": 3,
   "id": "69d8e93a-fe14-458c-960e-ec08a0b62c66",
   "metadata": {},
   "outputs": [],
   "source": [
    "root='./Data/raw/'\n",
    "processor = './Data/processing/'"
   ]
  },
  {
   "cell_type": "code",
   "execution_count": 4,
   "id": "5c73b58e",
   "metadata": {},
   "outputs": [],
   "source": [
    "reviews=pd.read_csv(root+'reviews.csv.gz')\n",
    "reviews=reviews.dropna()"
   ]
  },
  {
   "cell_type": "markdown",
   "id": "b1f28736-33a0-4809-8513-045dbdb04209",
   "metadata": {},
   "source": [
    "#### Compute rating from review : StandfordNLP Sentiment Analysis"
   ]
  },
  {
   "cell_type": "code",
   "execution_count": 831,
   "id": "bdf88dc0-0474-451b-b1d6-32bae89d0e91",
   "metadata": {},
   "outputs": [],
   "source": [
    "# !pip install pycorenlp\n",
    "# https://towardsdatascience.com/natural-language-processing-using-stanfords-corenlp-d9e64c1e1024"
   ]
  },
  {
   "cell_type": "code",
   "execution_count": 832,
   "id": "0b5c7f0b-45c4-4b35-bbe3-2b87d05bfa20",
   "metadata": {},
   "outputs": [
    {
     "ename": "ModuleNotFoundError",
     "evalue": "No module named 'pycorenlp'",
     "output_type": "error",
     "traceback": [
      "\u001b[0;31m---------------------------------------------------------------------------\u001b[0m",
      "\u001b[0;31mModuleNotFoundError\u001b[0m                       Traceback (most recent call last)",
      "\u001b[0;32m<ipython-input-832-09fd6fc57d96>\u001b[0m in \u001b[0;36m<module>\u001b[0;34m\u001b[0m\n\u001b[0;32m----> 1\u001b[0;31m \u001b[0;32mfrom\u001b[0m \u001b[0mpycorenlp\u001b[0m \u001b[0;32mimport\u001b[0m \u001b[0mStanfordCoreNLP\u001b[0m\u001b[0;34m\u001b[0m\u001b[0;34m\u001b[0m\u001b[0m\n\u001b[0m\u001b[1;32m      2\u001b[0m \u001b[0;31m# Need to start the java server.stanford-corenlp-4.3.1 % java -mx4g -cp \"*\" edu.stanford.nlp.pipeline.StanfordCoreNLPServer -port 9000 -timeout 50000\u001b[0m\u001b[0;34m\u001b[0m\u001b[0;34m\u001b[0m\u001b[0;34m\u001b[0m\u001b[0m\n\u001b[1;32m      3\u001b[0m \u001b[0mnlp_wrapper\u001b[0m \u001b[0;34m=\u001b[0m \u001b[0mStanfordCoreNLP\u001b[0m\u001b[0;34m(\u001b[0m\u001b[0;34m'http://localhost:9000'\u001b[0m\u001b[0;34m)\u001b[0m\u001b[0;34m\u001b[0m\u001b[0;34m\u001b[0m\u001b[0m\n",
      "\u001b[0;31mModuleNotFoundError\u001b[0m: No module named 'pycorenlp'"
     ]
    }
   ],
   "source": [
    "from pycorenlp import StanfordCoreNLP\n",
    "# Need to start the java server.stanford-corenlp-4.3.1 % java -mx4g -cp \"*\" edu.stanford.nlp.pipeline.StanfordCoreNLPServer -port 9000 -timeout 50000\n",
    "nlp_wrapper = StanfordCoreNLP('http://localhost:9000')"
   ]
  },
  {
   "cell_type": "code",
   "execution_count": null,
   "id": "ca67a7a8-ee3c-42c3-989e-4cb3159f3a2a",
   "metadata": {},
   "outputs": [],
   "source": [
    "def computeRatingfromReview(doc):\n",
    "    overall_sentiment=0\n",
    "    count=0\n",
    "    \n",
    "    annot_doc = nlp_wrapper.annotate(doc,\n",
    "    properties={\n",
    "       'annotators': 'sentiment',\n",
    "       'outputFormat': 'json',\n",
    "       'timeout': 100000,\n",
    "    })\n",
    "    \n",
    "    try:\n",
    "        for s in annot_doc[\"sentences\"]:\n",
    "            sentiment = s[\"sentiment\"]\n",
    "            if(sentiment=='Verypositive'):\n",
    "                overall_sentiment = overall_sentiment+5\n",
    "            elif(sentiment=='Positive'):\n",
    "                overall_sentiment = overall_sentiment+4\n",
    "            elif(sentiment=='Neutral'):\n",
    "                overall_sentiment = overall_sentiment+3\n",
    "            elif(sentiment=='Negative'):\n",
    "                overall_sentiment = overall_sentiment+2\n",
    "            elif(sentiment=='Verynegative'):\n",
    "                overall_sentiment = overall_sentiment+1\n",
    "            count+=1\n",
    "\n",
    "    except:\n",
    "            return 0\n",
    "        \n",
    "    return ((int)(overall_sentiment/count))"
   ]
  },
  {
   "cell_type": "code",
   "execution_count": null,
   "id": "3b533256-a5b4-4ca8-8c7b-dded416e6640",
   "metadata": {},
   "outputs": [
    {
     "data": {
      "text/plain": [
       "397185"
      ]
     },
     "execution_count": 38,
     "metadata": {},
     "output_type": "execute_result"
    }
   ],
   "source": [
    "len(reviews)"
   ]
  },
  {
   "cell_type": "code",
   "execution_count": null,
   "id": "36bfaa75-9fb7-46bb-87ae-8c23672f3967",
   "metadata": {},
   "outputs": [],
   "source": [
    "import time\n",
    "st = time.time()\n",
    "print(st)"
   ]
  },
  {
   "cell_type": "code",
   "execution_count": null,
   "id": "fe230021-dd4b-4e8a-b908-a5a58437f8d4",
   "metadata": {},
   "outputs": [
    {
     "name": "stderr",
     "output_type": "stream",
     "text": [
      "/var/folders/18/1rt0491s0d5c46mtpnlpm6000000gn/T/ipykernel_35434/906954042.py:1: SettingWithCopyWarning: \n",
      "A value is trying to be set on a copy of a slice from a DataFrame.\n",
      "Try using .loc[row_indexer,col_indexer] = value instead\n",
      "\n",
      "See the caveats in the documentation: https://pandas.pydata.org/pandas-docs/stable/user_guide/indexing.html#returning-a-view-versus-a-copy\n",
      "  reviews['rating'] = reviews['comments']\n",
      "/Users/sudhavijayakumar/opt/anaconda3/lib/python3.8/site-packages/pandas/core/indexing.py:1732: SettingWithCopyWarning: \n",
      "A value is trying to be set on a copy of a slice from a DataFrame\n",
      "\n",
      "See the caveats in the documentation: https://pandas.pydata.org/pandas-docs/stable/user_guide/indexing.html#returning-a-view-versus-a-copy\n",
      "  self._setitem_single_block(indexer, value, name)\n"
     ]
    }
   ],
   "source": [
    "reviews['rating'] = reviews['comments']\n",
    "\n",
    "for x in range(len(reviews.index)):\n",
    "    try:\n",
    "        reviews['rating'].iloc[x] = computeRatingfromReview(reviews['comments'].iloc[x])\n",
    "    except:\n",
    "        reviews['rating'].iloc[x] = 0"
   ]
  },
  {
   "cell_type": "code",
   "execution_count": null,
   "id": "9f78ba52-3f25-4ef5-827a-a0fcb88fa38d",
   "metadata": {},
   "outputs": [],
   "source": [
    "reviews = reviews[['listing_id','reviewer_id','rating']]\n",
    "reviews = reviews.rename(columns={\"listing_id\": \"business_id\", \"reviewer_id\": \"user_id\",\"rating\":\"stars\"})"
   ]
  },
  {
   "cell_type": "code",
   "execution_count": null,
   "id": "56436bb8-1c6c-4d4f-b2eb-3420784383ea",
   "metadata": {},
   "outputs": [
    {
     "data": {
      "text/html": [
       "<div>\n",
       "<style scoped>\n",
       "    .dataframe tbody tr th:only-of-type {\n",
       "        vertical-align: middle;\n",
       "    }\n",
       "\n",
       "    .dataframe tbody tr th {\n",
       "        vertical-align: top;\n",
       "    }\n",
       "\n",
       "    .dataframe thead th {\n",
       "        text-align: right;\n",
       "    }\n",
       "</style>\n",
       "<table border=\"1\" class=\"dataframe\">\n",
       "  <thead>\n",
       "    <tr style=\"text-align: right;\">\n",
       "      <th></th>\n",
       "      <th>business_id</th>\n",
       "      <th>user_id</th>\n",
       "      <th>stars</th>\n",
       "    </tr>\n",
       "  </thead>\n",
       "  <tbody>\n",
       "    <tr>\n",
       "      <th>0</th>\n",
       "      <td>2818</td>\n",
       "      <td>10952</td>\n",
       "      <td>3</td>\n",
       "    </tr>\n",
       "    <tr>\n",
       "      <th>1</th>\n",
       "      <td>2818</td>\n",
       "      <td>12798</td>\n",
       "      <td>4</td>\n",
       "    </tr>\n",
       "    <tr>\n",
       "      <th>2</th>\n",
       "      <td>2818</td>\n",
       "      <td>11869</td>\n",
       "      <td>3</td>\n",
       "    </tr>\n",
       "    <tr>\n",
       "      <th>3</th>\n",
       "      <td>2818</td>\n",
       "      <td>14064</td>\n",
       "      <td>4</td>\n",
       "    </tr>\n",
       "    <tr>\n",
       "      <th>4</th>\n",
       "      <td>2818</td>\n",
       "      <td>17977</td>\n",
       "      <td>3</td>\n",
       "    </tr>\n",
       "  </tbody>\n",
       "</table>\n",
       "</div>"
      ],
      "text/plain": [
       "   business_id  user_id stars\n",
       "0         2818    10952     3\n",
       "1         2818    12798     4\n",
       "2         2818    11869     3\n",
       "3         2818    14064     4\n",
       "4         2818    17977     3"
      ]
     },
     "execution_count": 42,
     "metadata": {},
     "output_type": "execute_result"
    }
   ],
   "source": [
    "reviews.head()"
   ]
  },
  {
   "cell_type": "code",
   "execution_count": null,
   "id": "2fe671d4-e5fd-4662-98cd-e7795ae542a2",
   "metadata": {},
   "outputs": [],
   "source": [
    "reviews.to_csv(processor+'Processed_Airbnb/ratings_filter.csv',index=False)"
   ]
  },
  {
   "cell_type": "code",
   "execution_count": null,
   "id": "f72d0a88-54b0-49dd-984b-48096bc21575",
   "metadata": {},
   "outputs": [],
   "source": [
    "end = time.time()\n",
    "print(end)"
   ]
  }
 ],
 "metadata": {
  "kernelspec": {
   "display_name": "Python 3 (ipykernel)",
   "language": "python",
   "name": "python3"
  },
  "language_info": {
   "codemirror_mode": {
    "name": "ipython",
    "version": 3
   },
   "file_extension": ".py",
   "mimetype": "text/x-python",
   "name": "python",
   "nbconvert_exporter": "python",
   "pygments_lexer": "ipython3",
   "version": "3.8.8"
  }
 },
 "nbformat": 4,
 "nbformat_minor": 5
}
