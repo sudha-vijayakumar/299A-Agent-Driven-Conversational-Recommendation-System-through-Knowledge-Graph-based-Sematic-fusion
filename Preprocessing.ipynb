{
 "cells": [
  {
   "cell_type": "code",
   "execution_count": 1,
   "metadata": {},
   "outputs": [],
   "source": [
    "import pandas as pd\n",
    "import gensim\n",
    "from gensim.parsing.preprocessing import preprocess_documents\n",
    "from gensim.models.doc2vec import Doc2Vec, TaggedDocument"
   ]
  },
  {
   "cell_type": "markdown",
   "metadata": {},
   "source": [
    "# References:\n",
    "- https://rasa.com/docs/rasa/testing-your-assistant/\n"
   ]
  },
  {
   "cell_type": "code",
   "execution_count": 2,
   "metadata": {},
   "outputs": [
    {
     "name": "stdout",
     "output_type": "stream",
     "text": [
      "1a_Get_AirbnbData.ipynb\n",
      "1b_quora-scrapper[inActive].ipynb\n",
      "1c_Twitter-read[inActive].ipynb\n",
      "1d_Twitter_APIKey.ipynb\n",
      "2a_SentimentAnalyzer.ipynb\n",
      "2b_FAQ_Questgen_NLP.ipynb\n",
      "2c_ProcessText.ipynb\n",
      "2d_Neo4jData_Gen.ipynb\n",
      "3a_EmbeddingsAndModels.ipynb\n",
      "4a_GenerateRASA_Conversational_Data.ipynb\n",
      "5a_offlineRecommendation.ipynb\n",
      "5b_realTimeRecommendation.ipynb\n",
      "6a_ConceptNet5Query.ipynb\n",
      "\u001b[34mChatbot-Widget\u001b[m\u001b[m/\n",
      "Chatbot-Widget.zip\n",
      "\u001b[34mData\u001b[m\u001b[m/\n",
      "\u001b[34mDocuments\u001b[m\u001b[m/\n",
      "LICENSE\n",
      "\u001b[34mPapers\u001b[m\u001b[m/\n",
      "\u001b[34mPersonas\u001b[m\u001b[m/\n",
      "Preprocessing.ipynb\n",
      "\u001b[34mRASA\u001b[m\u001b[m/\n",
      "\u001b[34mRASA_ConceptNet5\u001b[m\u001b[m/\n",
      "README.md\n",
      "mem_cache_conceptNet5.json\n",
      "\u001b[34mplugins\u001b[m\u001b[m/\n",
      "\u001b[34ms2v_old\u001b[m\u001b[m/\n",
      "s2v_reddit_2015_md.tar.gz\n",
      "s2v_reddit_2015_md.tar.gz.1\n",
      "s2v_reddit_2015_md.tar.gz.2\n",
      "s2v_reddit_2015_md.tar.gz.3\n",
      "s2v_reddit_2015_md.tar.gz.4\n",
      "s2v_reddit_2015_md.tar.gz.5\n",
      "s2v_reddit_2015_md.tar.gz.6\n"
     ]
    }
   ],
   "source": [
    "ls"
   ]
  },
  {
   "cell_type": "code",
   "execution_count": 3,
   "metadata": {},
   "outputs": [],
   "source": [
    "root = './RASA/data/'\n",
    "model_root='./RASA/offline_models/'\n",
    "processed = './Data/processing/Processed_Airbnb/'\n",
    "raw = './Data/raw/'\n",
    "\n",
    "listings = pd.read_csv(raw+'listings.csv.gz', sep=',')\n",
    "reviews = pd.read_csv(processed+'ratings_filter.csv', sep=',')\n",
    "listings=listings.rename(columns={\"id\": \"listing_id\"})\n",
    "listings.to_csv(processed+'listings.csv.gz', sep=',')"
   ]
  },
  {
   "cell_type": "code",
   "execution_count": 4,
   "metadata": {},
   "outputs": [],
   "source": [
    "# drop columns that have no value to our recommendation\n",
    "listings = listings[['listing_id','listing_url','name','description','neighborhood_overview','picture_url', \n",
    "'property_type','room_type','accommodates','bathrooms','bathrooms_text',                               \n",
    "'bedrooms','beds','amenities','price','minimum_nights','maximum_nights','review_scores_rating',                         \n",
    "'review_scores_accuracy','review_scores_cleanliness','review_scores_checkin',\n",
    "'review_scores_communication','review_scores_location']]\n",
    "\n",
    "listings.fillna('0', inplace=True)\n",
    "\n",
    "listings.reset_index(drop = True, inplace = True)"
   ]
  },
  {
   "cell_type": "code",
   "execution_count": 5,
   "metadata": {},
   "outputs": [],
   "source": [
    "import string\n",
    "def remove_punc(sample_str):\n",
    "    # Create translation table in which special charcters\n",
    "    # are mapped to empty string\n",
    "    translation_table = str.maketrans('', '', string.punctuation)\n",
    "    # Remove special characters from the string using translation table\n",
    "    sample_str = sample_str.translate(translation_table)\n",
    "    return sample_str"
   ]
  },
  {
   "cell_type": "code",
   "execution_count": 6,
   "metadata": {},
   "outputs": [
    {
     "name": "stderr",
     "output_type": "stream",
     "text": [
      "/var/folders/s8/wjstlrhj169345phv980cwx80000gn/T/ipykernel_14475/2060811252.py:4: SettingWithCopyWarning: \n",
      "A value is trying to be set on a copy of a slice from a DataFrame\n",
      "\n",
      "See the caveats in the documentation: https://pandas.pydata.org/pandas-docs/stable/user_guide/indexing.html#returning-a-view-versus-a-copy\n",
      "  listings['review_scores_rating'][ind] = (float(listings['review_scores_rating'][ind]) + float(listings['review_scores_accuracy'][ind]) + float(listings['review_scores_cleanliness'][ind]) + float(listings['review_scores_checkin'][ind]) + float(listings['review_scores_communication'][ind]) + float(listings['review_scores_location'][ind]))\n",
      "/var/folders/s8/wjstlrhj169345phv980cwx80000gn/T/ipykernel_14475/2060811252.py:5: SettingWithCopyWarning: \n",
      "A value is trying to be set on a copy of a slice from a DataFrame\n",
      "\n",
      "See the caveats in the documentation: https://pandas.pydata.org/pandas-docs/stable/user_guide/indexing.html#returning-a-view-versus-a-copy\n",
      "  listings['review_scores_rating'][ind] = (listings['review_scores_rating'][ind])/6\n",
      "/var/folders/s8/wjstlrhj169345phv980cwx80000gn/T/ipykernel_14475/2060811252.py:6: SettingWithCopyWarning: \n",
      "A value is trying to be set on a copy of a slice from a DataFrame\n",
      "\n",
      "See the caveats in the documentation: https://pandas.pydata.org/pandas-docs/stable/user_guide/indexing.html#returning-a-view-versus-a-copy\n",
      "  listings['words_features'][ind] = 'amenities:'+listings['words_features'][ind] +'description:'+  listings['description'][ind] +'neighborhood_overview:'+  listings['neighborhood_overview'][ind]+'property_type:'+  listings['property_type'][ind]+'room_type:'+  listings['room_type'][ind]+'accommodates:'+  str(listings['accommodates'][ind])+'bedrooms:'+  str(listings['bedrooms'][ind])+'beds:'+  str(listings['beds'][ind])+'price range:'+  listings['price'][ind]\n"
     ]
    }
   ],
   "source": [
    "listings['words_features'] = listings['amenities'].apply(remove_punc)\n",
    "\n",
    "for ind in listings.index:\n",
    "     listings['review_scores_rating'][ind] = (float(listings['review_scores_rating'][ind]) + float(listings['review_scores_accuracy'][ind]) + float(listings['review_scores_cleanliness'][ind]) + float(listings['review_scores_checkin'][ind]) + float(listings['review_scores_communication'][ind]) + float(listings['review_scores_location'][ind]))\n",
    "     listings['review_scores_rating'][ind] = (listings['review_scores_rating'][ind])/6\n",
    "     listings['words_features'][ind] = 'amenities:'+listings['words_features'][ind] +'description:'+  listings['description'][ind] +'neighborhood_overview:'+  listings['neighborhood_overview'][ind]+'property_type:'+  listings['property_type'][ind]+'room_type:'+  listings['room_type'][ind]+'accommodates:'+  str(listings['accommodates'][ind])+'bedrooms:'+  str(listings['bedrooms'][ind])+'beds:'+  str(listings['beds'][ind])+'price range:'+  listings['price'][ind]\n",
    "listingss = listings.rename(columns={\"review_scores_rating\": \"overall_rating\"})"
   ]
  },
  {
   "cell_type": "code",
   "execution_count": 7,
   "metadata": {},
   "outputs": [],
   "source": [
    "text_corpus = listingss['words_features'].values"
   ]
  },
  {
   "cell_type": "code",
   "execution_count": 8,
   "metadata": {},
   "outputs": [],
   "source": [
    "processed_corpus = preprocess_documents(text_corpus)\n",
    "tagged_corpus = [TaggedDocument(d, [i]) for i, d in enumerate(processed_corpus)]"
   ]
  },
  {
   "cell_type": "code",
   "execution_count": 9,
   "metadata": {},
   "outputs": [],
   "source": [
    "model = Doc2Vec(tagged_corpus, dm=0, vector_size=200, window=2, min_count=1, epochs=100, hs=1)"
   ]
  },
  {
   "cell_type": "code",
   "execution_count": 11,
   "metadata": {},
   "outputs": [],
   "source": [
    "model1= model\n",
    "model.save('RASA/data/embeddings/lst_embeddings')"
   ]
  },
  {
   "cell_type": "code",
   "execution_count": 12,
   "metadata": {},
   "outputs": [
    {
     "name": "stdout",
     "output_type": "stream",
     "text": [
      "0.452333927154541 | https://www.airbnb.com/rooms/25991654\n",
      "0.43859487771987915 | https://www.airbnb.com/rooms/16685383\n",
      "0.4372003972530365 | https://www.airbnb.com/rooms/49927889\n",
      "0.4354342520236969 | https://www.airbnb.com/rooms/51961840\n",
      "0.430204302072525 | https://www.airbnb.com/rooms/8641456\n",
      "0.4221857786178589 | https://www.airbnb.com/rooms/40247038\n",
      "0.42049500346183777 | https://www.airbnb.com/rooms/32729549\n",
      "0.4142203629016876 | https://www.airbnb.com/rooms/39642322\n",
      "0.40605443716049194 | https://www.airbnb.com/rooms/6356312\n",
      "0.39622607827186584 | https://www.airbnb.com/rooms/16737594\n"
     ]
    },
    {
     "name": "stderr",
     "output_type": "stream",
     "text": [
      "/var/folders/s8/wjstlrhj169345phv980cwx80000gn/T/ipykernel_14475/2108765969.py:3: DeprecationWarning: Call to deprecated `docvecs` (The `docvecs` property has been renamed `dv`.).\n",
      "  sims = model.docvecs.most_similar(positive = [test_doc_vector])\n"
     ]
    }
   ],
   "source": [
    "new_doc = gensim.parsing.preprocessing.preprocess_string(\"private room dishwasher\")\n",
    "test_doc_vector = model1.infer_vector(new_doc)\n",
    "sims = model.docvecs.most_similar(positive = [test_doc_vector])\n",
    "for s in sims:\n",
    "    print(f\"{(s[1])} | {listings['listing_url'].iloc[s[0]]}\")"
   ]
  }
 ],
 "metadata": {
  "interpreter": {
   "hash": "31f2aee4e71d21fbe5cf8b01ff0e069b9275f58929596ceb00d14d90e3e16cd6"
  },
  "kernelspec": {
   "display_name": "Python 3.8.2 64-bit",
   "language": "python",
   "name": "python3"
  },
  "language_info": {
   "codemirror_mode": {
    "name": "ipython",
    "version": 3
   },
   "file_extension": ".py",
   "mimetype": "text/x-python",
   "name": "python",
   "nbconvert_exporter": "python",
   "pygments_lexer": "ipython3",
   "version": "3.8.2"
  },
  "orig_nbformat": 4
 },
 "nbformat": 4,
 "nbformat_minor": 2
}
