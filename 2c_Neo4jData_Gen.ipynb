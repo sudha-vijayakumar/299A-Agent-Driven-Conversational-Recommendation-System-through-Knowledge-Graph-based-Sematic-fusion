{
 "cells": [
  {
   "cell_type": "markdown",
   "id": "ea075b38-0dbe-47c3-8415-85f91ea295e2",
   "metadata": {},
   "source": [
    "## Purpose\n",
    "- **Input:** Airbnb - listings, reviews, single location.\n",
    "- **Output:** Creating the below files to generate dialogues, train data for conversation recommendation module.\n",
    "    - listings_info_filter\n",
    "    - ratings_filter\n",
    "    - listings_slot_value_filter\n",
    "    - Neo4j_nodes.csv\n",
    "    \n",
    "- 5.5k listings | 250k reviews"
   ]
  },
  {
   "cell_type": "markdown",
   "id": "9aeb710e",
   "metadata": {},
   "source": [
    "### References:\n",
    "\n",
    "- https://neo4j.com/developer/guide-import-csv/"
   ]
  },
  {
   "cell_type": "markdown",
   "id": "ab53d627",
   "metadata": {},
   "source": [
    "### Import libraries, raw data"
   ]
  },
  {
   "cell_type": "code",
   "execution_count": 50,
   "id": "af6bccdc-4cb5-4d43-9012-2dce994b5874",
   "metadata": {},
   "outputs": [],
   "source": [
    "import pandas as pd\n",
    "import os\n",
    "import numpy as np\n",
    "import warnings\n",
    "warnings.filterwarnings('ignore')"
   ]
  },
  {
   "cell_type": "code",
   "execution_count": 51,
   "id": "4b2cdf47",
   "metadata": {},
   "outputs": [
    {
     "name": "stdout",
     "output_type": "stream",
     "text": [
      "1a_Get_AirbnbData.ipynb\n",
      "1b_quora-scrapper[inActive].ipynb\n",
      "1c_Twitter-read.ipynb\n",
      "2a_SentimentAnalyzer.ipynb\n",
      "2b_FAQ_Questgen_NLP.ipynb\n",
      "2c_Neo4jData_Gen.ipynb\n",
      "3a_EmbeddingsAndModels.ipynb\n",
      "4a_GenerateRASA_Conversational_Data.ipynb\n",
      "5a_offlineRecommendation.ipynb\n",
      "5b_realTimeRecommendation.ipynb\n",
      "6a_realTimeRecommendation.ipynb\n",
      "\u001b[34mData\u001b[m\u001b[m/\n",
      "\u001b[34mDocuments\u001b[m\u001b[m/\n",
      "LICENSE\n",
      "\u001b[34mPapers\u001b[m\u001b[m/\n",
      "\u001b[34mPersonas\u001b[m\u001b[m/\n",
      "\u001b[34mRASA\u001b[m\u001b[m/\n",
      "README.md\n",
      "Twitter_APIKey.ipynb\n"
     ]
    }
   ],
   "source": [
    "ls"
   ]
  },
  {
   "cell_type": "code",
   "execution_count": 52,
   "id": "69d8e93a-fe14-458c-960e-ec08a0b62c66",
   "metadata": {},
   "outputs": [],
   "source": [
    "root='./Data/raw/'\n",
    "processor = './Data/processing/'"
   ]
  },
  {
   "cell_type": "code",
   "execution_count": 53,
   "id": "c5991c1c",
   "metadata": {},
   "outputs": [],
   "source": [
    "listings = pd.read_csv(root+'listings.csv.gz')\n"
   ]
  },
  {
   "cell_type": "code",
   "execution_count": 54,
   "id": "76cbcc53",
   "metadata": {},
   "outputs": [],
   "source": [
    "## These are the columns that will be used in the dialog generation.\n",
    "listingTemplate = pd.read_csv(processor+'listing_Template.csv')"
   ]
  },
  {
   "cell_type": "markdown",
   "id": "fa7677da-d641-4b91-a989-38a4fa6dc86d",
   "metadata": {},
   "source": [
    "### Compute unique entities, create Neo4j nodes & edge map."
   ]
  },
  {
   "cell_type": "code",
   "execution_count": 55,
   "id": "c2c5dc56-572d-4b6f-8fc8-28140cf824b7",
   "metadata": {},
   "outputs": [
    {
     "name": "stdout",
     "output_type": "stream",
     "text": [
      "<class 'pandas.core.frame.DataFrame'>\n",
      "RangeIndex: 5402 entries, 0 to 5401\n",
      "Data columns (total 19 columns):\n",
      " #   Column                       Non-Null Count  Dtype  \n",
      "---  ------                       --------------  -----  \n",
      " 0   id                           5402 non-null   int64  \n",
      " 1   picture_url                  5402 non-null   object \n",
      " 2   host_identity_verified       5401 non-null   object \n",
      " 3   neighbourhood                3908 non-null   object \n",
      " 4   neighbourhood_cleansed       5402 non-null   object \n",
      " 5   property_type                5402 non-null   object \n",
      " 6   room_type                    5402 non-null   object \n",
      " 7   accommodates                 5402 non-null   int64  \n",
      " 8   bathrooms_text               5388 non-null   object \n",
      " 9   bedrooms                     5081 non-null   float64\n",
      " 10  beds                         5163 non-null   float64\n",
      " 11  amenities                    5402 non-null   object \n",
      " 12  price                        5402 non-null   object \n",
      " 13  review_scores_rating         4934 non-null   float64\n",
      " 14  review_scores_accuracy       4923 non-null   float64\n",
      " 15  review_scores_cleanliness    4923 non-null   float64\n",
      " 16  review_scores_checkin        4923 non-null   float64\n",
      " 17  review_scores_communication  4923 non-null   float64\n",
      " 18  review_scores_location       4923 non-null   float64\n",
      "dtypes: float64(8), int64(2), object(9)\n",
      "memory usage: 802.0+ KB\n"
     ]
    }
   ],
   "source": [
    "listings = listings[listingTemplate.columns]\n",
    "listings.dropna()\n",
    "listings.info()"
   ]
  },
  {
   "cell_type": "code",
   "execution_count": 56,
   "id": "f8f71b65-721a-4e98-a652-b27010360504",
   "metadata": {},
   "outputs": [
    {
     "data": {
      "text/plain": [
       "5402"
      ]
     },
     "execution_count": 56,
     "metadata": {},
     "output_type": "execute_result"
    }
   ],
   "source": [
    "len(listings)"
   ]
  },
  {
   "cell_type": "code",
   "execution_count": 57,
   "id": "a857e1e7",
   "metadata": {},
   "outputs": [],
   "source": [
    "### Add Geo-location, check more efficient way to add location.\n",
    "listings['City'] = 'Amsterdam'\n",
    "listings['Country'] = 'Netherlands'\n",
    "listings[listings['neighbourhood_cleansed'].isna()]\n",
    "listings['neighbourhood'] = listings['neighbourhood'].fillna(listings['neighbourhood_cleansed'])\n",
    "listings['neighbourhood'] = listings['neighbourhood'].str.strip()\n",
    "listings['State'] = listings['neighbourhood']"
   ]
  },
  {
   "cell_type": "markdown",
   "id": "e4a16afd",
   "metadata": {},
   "source": [
    "#### Add all unique entities"
   ]
  },
  {
   "cell_type": "code",
   "execution_count": 58,
   "id": "a28e6413-cec0-4132-8f14-17273ae07fbd",
   "metadata": {},
   "outputs": [],
   "source": [
    "# https://towardsdatascience.com/dealing-with-list-values-in-pandas-dataframes-a177e534f173\n",
    "def to_1D(series):\n",
    "    return pd.Series([x for _list in series for x in _list])"
   ]
  },
  {
   "cell_type": "code",
   "execution_count": 59,
   "id": "6508d078-a88a-439f-9cd4-d1e9d3c59343",
   "metadata": {},
   "outputs": [],
   "source": [
    "listings[\"amenities\"] = listings[\"amenities\"].apply(eval)\n",
    "amenities = to_1D(listings[\"amenities\"]).unique()"
   ]
  },
  {
   "cell_type": "code",
   "execution_count": 60,
   "id": "9e908812",
   "metadata": {},
   "outputs": [],
   "source": [
    "### Add listings text description\n",
    "# \n",
    "\n",
    "col_parse = ['id',\n",
    " 'picture_url',\n",
    " 'host_identity_verified',\n",
    " 'neighbourhood',\n",
    " 'neighbourhood_cleansed',\n",
    " 'property_type',\n",
    " 'room_type',\n",
    " 'accommodates',\n",
    " 'bathrooms_text',\n",
    " 'bedrooms',\n",
    " 'beds',\n",
    " 'price',\n",
    " 'City',\n",
    " 'Country',\n",
    " 'State']\n",
    "\n",
    "listings['Listing_Text'] = listings['City']\n",
    "\n",
    "col = list(listings.columns.values)\n",
    "for i,j in listings.iterrows():\n",
    "    for c_name in col_parse:\n",
    "        listings['Listing_Text'][i] = listings['Listing_Text'][i] + str(c_name) + ':' + str(j[str(c_name)])+';'"
   ]
  },
  {
   "cell_type": "code",
   "execution_count": 61,
   "id": "dbab128c-8145-4851-8ff5-006a26153002",
   "metadata": {},
   "outputs": [],
   "source": [
    "#[_id,_labels,name]\n",
    "_id=[]\n",
    "_labels=[]\n",
    "name=[]\n",
    "_start = []\n",
    "_end = []\n",
    "_rating = []\n",
    "_relationship=[]\n",
    "\n",
    "_listing_url=[]\n",
    "_picture_url=[]\n",
    "_host_identity_verified=[]\n",
    "_accomodates=[]\n",
    "_bedrooms=[]\n",
    "_bathrooms=[]\n",
    "_beds=[]\n",
    "_price=[]\n",
    "_review_scores_rating=[]\n",
    "\n",
    "def convertList2Dict(lst,prev_index,label):\n",
    "    dict_ret = dict() \n",
    "    for index,value in enumerate(lst):\n",
    "        rec_index = index + prev_index\n",
    "        dict_ret[value] = int(rec_index)\n",
    "\n",
    "        ##\n",
    "        _id.append(int(rec_index))\n",
    "        _labels.append(label)\n",
    "        name.append(value)\n",
    "        _start.append(np.NaN)\n",
    "        _end.append(np.NaN)\n",
    "        _relationship.append(np.NaN)\n",
    "        _rating.append(np.NaN)\n",
    "        _listing_url.append(np.NaN)\n",
    "        _picture_url.append(np.NaN)\n",
    "        _host_identity_verified.append(np.NaN)\n",
    "        _accomodates.append(np.NaN)\n",
    "        _bedrooms.append(np.NaN)\n",
    "        _bathrooms.append(np.NaN)\n",
    "        _beds.append(np.NaN)\n",
    "        _price.append(np.NaN)\n",
    "        _review_scores_rating.append(np.NaN)\n",
    "\n",
    "    prev_index = int(rec_index)\n",
    "    return dict_ret, prev_index"
   ]
  },
  {
   "cell_type": "code",
   "execution_count": 62,
   "id": "a22293b4-e1a6-4894-80af-f93c974f34f5",
   "metadata": {},
   "outputs": [],
   "source": [
    "City = listings[\"City\"].dropna().unique()\n",
    "State = listings[\"State\"].dropna().unique()\n",
    "Country = listings[\"Country\"].dropna().unique()\n",
    "Listing_Text = listings[\"Listing_Text\"].dropna().unique()"
   ]
  },
  {
   "cell_type": "code",
   "execution_count": 63,
   "id": "27bd7fe0-15d5-4d7f-82e1-973e4c7ee25c",
   "metadata": {},
   "outputs": [],
   "source": [
    "# listings[\"price\"].min()\n",
    "# listings[\"price\"].max()\n",
    "# listings[\"price\"] = listings[\"price\"].replace('[\\$,]', '', regex=True).astype(float)\n",
    "# listings[\"price\"] = pd.cut(listings['price'], [0, 250, 500,750,999], labels=['low', 'average', 'high','expensive'])\n",
    "price = listings[\"price\"].dropna().unique()"
   ]
  },
  {
   "cell_type": "code",
   "execution_count": 64,
   "id": "a8de2a6e-82f1-4a75-815c-9599baba0f70",
   "metadata": {},
   "outputs": [],
   "source": [
    "listings[\"review_scores_rating\"].dropna()\n",
    "listings[\"review_scores_rating\"] = pd.cut(listings['review_scores_rating'], [0, 1, 2, 3,4,5], labels=['horrible', 'bad', 'average','good','very good'])\n",
    "rating = listings[\"review_scores_rating\"].unique()"
   ]
  },
  {
   "cell_type": "code",
   "execution_count": 65,
   "id": "eb4a7c0b-a09b-4caf-8d1f-9b9646b81d55",
   "metadata": {},
   "outputs": [],
   "source": [
    "listings[\"review_scores_accuracy\"].dropna()\n",
    "listings[\"review_scores_accuracy\"] = pd.cut(listings['review_scores_accuracy'], [0, 1, 2, 3,4,5], labels=['horrible', 'bad', 'average','good','very good'])\n",
    "acc_rating = listings[\"review_scores_accuracy\"].unique()"
   ]
  },
  {
   "cell_type": "code",
   "execution_count": 66,
   "id": "ab2303e4-517d-4ce4-965d-c9319781cab5",
   "metadata": {},
   "outputs": [],
   "source": [
    "listings[\"review_scores_cleanliness\"].dropna()\n",
    "listings[\"review_scores_cleanliness\"] = pd.cut(listings['review_scores_cleanliness'], [0, 1, 2, 3,4,5], labels=['horrible', 'bad', 'average','good','very good'])\n",
    "clean_rating = listings[\"review_scores_cleanliness\"].unique()"
   ]
  },
  {
   "cell_type": "code",
   "execution_count": 67,
   "id": "881754dd-ba8c-419d-8fc5-bbd7f9a1fab1",
   "metadata": {},
   "outputs": [],
   "source": [
    "listings[\"review_scores_checkin\"].dropna()\n",
    "listings[\"review_scores_checkin\"] = pd.cut(listings['review_scores_checkin'], [0, 1, 2, 3,4,5], labels=['horrible', 'bad', 'average','good','smooth'])\n",
    "checkin_rating = listings[\"review_scores_checkin\"].unique()"
   ]
  },
  {
   "cell_type": "code",
   "execution_count": 68,
   "id": "d055c327-48d8-450c-83bf-dbe063c2ec9c",
   "metadata": {},
   "outputs": [],
   "source": [
    "listings[\"review_scores_communication\"].dropna()\n",
    "listings[\"review_scores_communication\"] = pd.cut(listings['review_scores_communication'], [0, 1, 2, 3,4,5], labels=['horrible', 'bad', 'average','good','very good'])\n",
    "communication_rating = listings[\"review_scores_communication\"].unique()"
   ]
  },
  {
   "cell_type": "code",
   "execution_count": 69,
   "id": "f58cb662-e0d1-4c1d-b922-80316f40e77b",
   "metadata": {},
   "outputs": [],
   "source": [
    "listings[\"review_scores_location\"].dropna()\n",
    "listings[\"review_scores_location\"] = pd.cut(listings['review_scores_location'], [0, 1, 2, 3,4,5], labels=['horrible', 'bad', 'average','good','very good'])\n",
    "location_rating = listings[\"review_scores_location\"].unique()"
   ]
  },
  {
   "cell_type": "code",
   "execution_count": 70,
   "id": "d1d879fa-83e8-417c-b1e3-d7512cc53ebd",
   "metadata": {},
   "outputs": [],
   "source": [
    "host_identity_verified = listings[\"host_identity_verified\"].dropna().unique()    \n",
    "property_type = listings[\"property_type\"].dropna().unique()    \n",
    "room_type = listings[\"room_type\"].dropna().unique()    \n",
    "accommodates = listings[\"accommodates\"].dropna().unique().astype(float)    \n",
    "bathrooms = listings[\"bathrooms_text\"].dropna().unique()    \n",
    "bedrooms = listings[\"bedrooms\"].dropna().unique()    \n",
    "beds = listings[\"beds\"].dropna().unique()    "
   ]
  },
  {
   "cell_type": "code",
   "execution_count": 71,
   "id": "6d9e3eb4-c05c-46c4-9758-66de8535330b",
   "metadata": {},
   "outputs": [],
   "source": [
    "accommodates=np.delete(accommodates,np.where(accommodates == 0))"
   ]
  },
  {
   "cell_type": "code",
   "execution_count": 72,
   "id": "5cb3085c-a2c2-4221-bdda-0782ece25229",
   "metadata": {},
   "outputs": [],
   "source": [
    "amenities_dict, last_index = convertList2Dict(amenities,0,':Amenities')\n",
    "City_dict, last_index = convertList2Dict(City,(last_index+1),':City')\n",
    "State_dict, last_index = convertList2Dict(State,(last_index+1),':State')\n",
    "Country_dict, last_index = convertList2Dict(Country,(last_index+1),':Country')\n",
    "price_dict, last_index = convertList2Dict(price,(last_index+1),':price')\n",
    "property_type_dict, last_index = convertList2Dict(property_type,(last_index+1),':property_type')\n",
    "room_type_dict, last_index = convertList2Dict(room_type,(last_index+1),':room_type')\n",
    "accommodates_dict, last_index = convertList2Dict(accommodates,(last_index+1),':accommodates')\n",
    "bathrooms_dict, last_index = convertList2Dict(bathrooms,(last_index+1),':bathrooms')\n",
    "bedrooms_dict, last_index = convertList2Dict(bedrooms,(last_index+1),':bedrooms')\n",
    "beds_dict, last_index = convertList2Dict(beds,(last_index+1),':beds')\n",
    "listingText_dict, last_index = convertList2Dict(Listing_Text,(last_index+1),':Listing_Text')"
   ]
  },
  {
   "cell_type": "code",
   "execution_count": 73,
   "id": "91f8c164-2a50-4454-a621-1e7aacd570e5",
   "metadata": {},
   "outputs": [],
   "source": [
    "import json \n",
    "dictionary = {\n",
    " \"amenities\":amenities_dict,\n",
    " \"City\": City_dict,\n",
    " \"State\":State_dict,\n",
    " \"Country\":Country_dict,\n",
    " \"price\":price_dict,\n",
    " \"property_type\":property_type_dict,\n",
    " \"room_type\":room_type_dict,\n",
    " \"accommodates\":accommodates_dict, \n",
    " \"bathrooms\":bathrooms_dict,\n",
    " \"bedrooms\":bedrooms_dict,\n",
    " \"beds\":beds_dict,\n",
    " \"Listing_Text\":listingText_dict\n",
    "}\n",
    "with open(processor+'Processed_Airbnb/listings_entities_filter.json', 'w', encoding='utf-8') as f:\n",
    "    f.write(json.dumps(dictionary, ensure_ascii=False))"
   ]
  },
  {
   "cell_type": "code",
   "execution_count": 74,
   "id": "4c9e39a6",
   "metadata": {},
   "outputs": [],
   "source": [
    "df = pd.read_json(processor+'Processed_Airbnb/listings_entities_filter.json')\n",
    "df.to_csv(processor+'Processed_Airbnb/listings_entities_filter.csv')"
   ]
  },
  {
   "cell_type": "code",
   "execution_count": 75,
   "id": "5a9d9a66-4ffa-4785-b145-2ecd09190d05",
   "metadata": {},
   "outputs": [],
   "source": [
    "with open(processor+'Processed_Airbnb/listings_info_filter.json', 'w', encoding='utf-8') as f:\n",
    "    f.write(listings.to_json(orient = 'records'))"
   ]
  },
  {
   "cell_type": "code",
   "execution_count": 76,
   "id": "9a15e2c2-9a09-4be3-98d3-f82d7ad35ee7",
   "metadata": {},
   "outputs": [
    {
     "name": "stdout",
     "output_type": "stream",
     "text": [
      "<class 'pandas.core.frame.DataFrame'>\n",
      "RangeIndex: 254721 entries, 0 to 254720\n",
      "Data columns (total 7 columns):\n",
      " #   Column         Non-Null Count   Dtype  \n",
      "---  ------         --------------   -----  \n",
      " 0   listing_id     254721 non-null  object \n",
      " 1   id             251546 non-null  float64\n",
      " 2   date           249402 non-null  object \n",
      " 3   reviewer_id    249402 non-null  float64\n",
      " 4   reviewer_name  249402 non-null  object \n",
      " 5   comments       249373 non-null  object \n",
      " 6   rating         247258 non-null  float64\n",
      "dtypes: float64(3), object(4)\n",
      "memory usage: 13.6+ MB\n"
     ]
    }
   ],
   "source": [
    "reviews0 = pd.read_csv(processor+'Processed_Airbnb/ratings_filter.csv')\n",
    "reviews0.info()"
   ]
  },
  {
   "cell_type": "code",
   "execution_count": 77,
   "id": "19250607-0207-4b78-80ff-18f0dbd1b28a",
   "metadata": {},
   "outputs": [],
   "source": [
    "reviews=reviews0.dropna()\n",
    "reviews = reviews[['listing_id','id','reviewer_id','comments','rating']]"
   ]
  },
  {
   "cell_type": "markdown",
   "id": "9f8d6a50",
   "metadata": {},
   "source": [
    "#### Add users"
   ]
  },
  {
   "cell_type": "code",
   "execution_count": 78,
   "id": "237f7484",
   "metadata": {},
   "outputs": [],
   "source": [
    "reviewer = reviews['reviewer_id'].unique() \n",
    "for user in reviewer:\n",
    "    if user>1:\n",
    "        last_index = last_index+1\n",
    "        _id.append(last_index)\n",
    "        _labels.append(':User')\n",
    "        name.append(int(user))\n",
    "        _start.append(np.NaN)\n",
    "        _end.append(np.NaN)\n",
    "        _relationship.append(np.NaN)\n",
    "        _rating.append(np.NaN)\n",
    "        _listing_url.append(np.NaN)\n",
    "        _picture_url.append(np.NaN)\n",
    "        _host_identity_verified.append(np.NaN)\n",
    "        _accomodates.append(np.NaN)\n",
    "        _bedrooms.append(np.NaN)\n",
    "        _bathrooms.append(np.NaN)\n",
    "        _beds.append(np.NaN)\n",
    "        _price.append(np.NaN)\n",
    "        _review_scores_rating.append(np.NaN)"
   ]
  },
  {
   "cell_type": "markdown",
   "id": "11fa22db",
   "metadata": {},
   "source": [
    "#### Add listings"
   ]
  },
  {
   "cell_type": "code",
   "execution_count": 79,
   "id": "c5ef8f85",
   "metadata": {},
   "outputs": [],
   "source": [
    "for index in listings.index:\n",
    "    last_index = last_index+1\n",
    "    _id.append(last_index)\n",
    "    _labels.append(':Listing')\n",
    "    name.append(listings['id'][index])\n",
    "    _start.append(np.NaN)\n",
    "    _end.append(np.NaN)\n",
    "    _relationship.append(np.NaN)\n",
    "    _rating.append(np.NaN)\n",
    "\n",
    "    _listing_url.append('https://www.airbnb.com/rooms/'+str(listings['id'][index]))\n",
    "    _picture_url.append(listings['picture_url'][index])\n",
    "    _host_identity_verified.append(listings['host_identity_verified'][index])\n",
    "    _accomodates.append(listings['accommodates'][index])\n",
    "    _bedrooms.append(listings['bedrooms'][index])\n",
    "    _bathrooms.append(listings['bathrooms_text'][index])\n",
    "    _beds.append(listings['beds'][index])\n",
    "    _price.append(listings['price'][index])\n",
    "    _review_scores_rating.append(listings['review_scores_rating'][index])\n",
    "        "
   ]
  },
  {
   "cell_type": "code",
   "execution_count": 80,
   "id": "beba9b4f",
   "metadata": {},
   "outputs": [],
   "source": [
    "#form a list of (u_id,l_id)\n",
    "\n",
    "data = {'_id':_id,\n",
    "        '_labels':_labels,\n",
    "        'name':name,\n",
    "        '_start':_start,\n",
    "        '_end':_end,\n",
    "        '_type':_relationship,\n",
    "        'rating':_rating,\n",
    "        'url':_listing_url,\n",
    "        'picture_url':_picture_url,\n",
    "        'host_identity_verified':_host_identity_verified,\n",
    "        'accomodates':_accomodates,\n",
    "        'bedrooms':_bedrooms,\n",
    "        'bathrooms':_bathrooms,\n",
    "        'beds':_beds,\n",
    "        'price':_price,\n",
    "        'review_scores_rating':_review_scores_rating\n",
    "        }\n",
    "\n",
    "#Create DataFrame\n",
    "neo4J_format_df = pd.DataFrame(data)\n",
    "neo4J_format_df.to_csv(processor+'Neo4j/neo4J_nodes.csv',index=False)"
   ]
  },
  {
   "cell_type": "markdown",
   "id": "ddffc7b9",
   "metadata": {},
   "source": [
    "#### Create edge maps"
   ]
  },
  {
   "cell_type": "code",
   "execution_count": 81,
   "id": "9fed0494",
   "metadata": {},
   "outputs": [],
   "source": [
    "# Store listing ids\n",
    "# Store user ids\n",
    "\n",
    "neoNodes = pd.read_csv(processor+'Neo4j/neo4J_nodes.csv')"
   ]
  },
  {
   "cell_type": "code",
   "execution_count": 82,
   "id": "b624bce6",
   "metadata": {},
   "outputs": [
    {
     "name": "stdout",
     "output_type": "stream",
     "text": [
      "Unique listings:5402\n",
      "Unique Amenities:889\n",
      "Unique City:1\n",
      "Unique State:72\n",
      "Unique Country:1\n",
      "Unique property_type:57\n",
      "Unique room_type:4\n",
      "Unique User:240950\n",
      "Unique listings:5402\n"
     ]
    }
   ],
   "source": [
    "neoListings = neoNodes[neoNodes['_labels']==':Listing']\n",
    "neoAmenities = neoNodes[neoNodes['_labels']==':Amenities']\n",
    "neoCity = neoNodes[neoNodes['_labels']==':City']\n",
    "neoState = neoNodes[neoNodes['_labels']==':State']\n",
    "neoCountry = neoNodes[neoNodes['_labels']==':Country']\n",
    "neoProperty_type = neoNodes[neoNodes['_labels']==':property_type']\n",
    "neoRoom_type = neoNodes[neoNodes['_labels']==':room_type']\n",
    "neoUser = neoNodes[neoNodes['_labels']==':User']\n",
    "neoListingText = neoNodes[neoNodes['_labels']==':Listing_Text']\n",
    "\n",
    "print('Unique listings:'+str(len(neoListings)))\n",
    "print('Unique Amenities:'+str(len(neoAmenities)))\n",
    "print('Unique City:'+str(len(neoCity)))\n",
    "print('Unique State:'+str(len(neoState)))\n",
    "print('Unique Country:'+str(len(neoCountry)))\n",
    "print('Unique property_type:'+str(len(neoProperty_type)))\n",
    "print('Unique room_type:'+str(len(neoRoom_type)))\n",
    "print('Unique User:'+str(len(neoUser)))\n",
    "print('Unique listings:'+str(len(neoListingText)))"
   ]
  },
  {
   "cell_type": "code",
   "execution_count": 83,
   "id": "42a7f63e",
   "metadata": {},
   "outputs": [],
   "source": [
    "neoAmenities1 = neoAmenities[['_id','name','_labels']]\n",
    "neoAmenities1['_labels'] = 'Amenity; Amenity'\n",
    "neoAmenities1 = neoAmenities.rename(columns={\"_id\": \"id:ID(Amenity)\", \"_labels\": \":LABEL\"})\n",
    "neoAmenities1.to_csv(processor+\"Neo4j/Amenity.csv\",index=False)\n",
    "\n",
    "neoCity1 = neoCity[['_id','name','_labels']]\n",
    "neoCity1['_labels'] = 'City; City'\n",
    "neoCity1 = neoCity1.rename(columns={\"_id\": \"id:ID(City)\", \"_labels\": \":LABEL\"})\n",
    "neoCity1.to_csv(processor+\"Neo4j/City.csv\",index=False)\n",
    "\n",
    "neoState1 = neoState[['_id','name','_labels']]\n",
    "neoState1['_labels'] = 'State; State'\n",
    "neoState1 = neoState1.rename(columns={\"_id\": \"id:ID(State)\", \"_labels\": \":LABEL\"})\n",
    "neoState1.to_csv(processor+\"Neo4j/State.csv\",index=False)\n",
    "\n",
    "neoCountry1 = neoCountry[['_id','name','_labels']]\n",
    "neoCountry1['_labels'] = 'Country; Country'\n",
    "neoCountry1 = neoCountry1.rename(columns={\"_id\": \"id:ID(Country)\", \"_labels\": \":LABEL\"})\n",
    "neoCountry1.to_csv(processor+\"Neo4j/Country.csv\",index=False)\n",
    "\n",
    "neoProperty_type1 = neoProperty_type[['_id','name','_labels']]\n",
    "neoProperty_type1['_labels'] = 'Property_type; Property_type'\n",
    "neoProperty_type1 = neoProperty_type1.rename(columns={\"_id\": \"id:ID(property_type)\", \"_labels\": \":LABEL\"})\n",
    "neoProperty_type1.to_csv(processor+\"Neo4j/Property_type.csv\",index=False)\n",
    "\n",
    "neoRoom_type1 = neoRoom_type[['_id','name','_labels']]\n",
    "neoRoom_type1['_labels'] = 'Room_type; Room_type'\n",
    "neoRoom_type1 = neoRoom_type1.rename(columns={\"_id\": \"id:ID(room_type)\", \"_labels\": \":LABEL\"})\n",
    "neoRoom_type1.to_csv(processor+\"Neo4j/Room_type.csv\",index=False)\n",
    "\n",
    "neoListingText1 = neoListingText[['_id','name','_labels']]\n",
    "neoListingText1['_labels'] = 'Listing_Text; Listing_Text'\n",
    "neoListingText1 = neoListingText1.rename(columns={\"_id\": \"id:ID(Listing_Text)\", \"_labels\": \":LABEL\"})\n",
    "neoListingText1.to_csv(processor+\"Neo4j/Listing_Text.csv\",index=False)\n"
   ]
  },
  {
   "cell_type": "code",
   "execution_count": 84,
   "id": "19e79529",
   "metadata": {},
   "outputs": [],
   "source": [
    "neoUser1 = neoUser[['_id','name','_labels']]\n",
    "neoUser1['_labels'] = 'User; User'\n",
    "neoUser1 = neoUser1.rename(columns={\"_id\": \"id:ID(User)\", \"_labels\": \":LABEL\"})\n",
    "neoUser1.to_csv(processor+\"Neo4j/User.csv\",index=False)"
   ]
  },
  {
   "cell_type": "code",
   "execution_count": 85,
   "id": "dd65e606",
   "metadata": {},
   "outputs": [],
   "source": [
    "neoListings1 = neoListings[['_id','name','_labels','url','picture_url','host_identity_verified','accomodates','bedrooms','bathrooms','beds','price','review_scores_rating']]\n",
    "neoListings1['_labels'] = 'Listing; Listing'\n",
    "neoListings1 = neoListings1.rename(columns={\"_id\": \"id:ID(Listing)\", \"_labels\": \":LABEL\"})\n",
    "neoListings1.to_csv(processor+\"Neo4j/Listings.csv\",index=False)"
   ]
  },
  {
   "cell_type": "markdown",
   "id": "a7d922d9",
   "metadata": {},
   "source": [
    "### Define headers"
   ]
  },
  {
   "cell_type": "code",
   "execution_count": 86,
   "id": "b5f58386",
   "metadata": {},
   "outputs": [],
   "source": [
    "amenities_header = pd.DataFrame(columns=[':END_ID(Amenity)',':START_ID(Listing)'])\n",
    "amenities_header.to_csv(processor+\"Neo4j/amenity_header.csv\",index=False)\n",
    "\n",
    "city_header = pd.DataFrame(columns=[':END_ID(City)',':START_ID(Listing)'])\n",
    "city_header.to_csv(processor+\"Neo4j/city_header.csv\",index=False)\n",
    "\n",
    "state_header = pd.DataFrame(columns=[':END_ID(State)',':START_ID(Listing)'])\n",
    "state_header.to_csv(processor+\"Neo4j/state_header.csv\",index=False)\n",
    "\n",
    "country_header = pd.DataFrame(columns=[':END_ID(Country)',':START_ID(Listing)'])\n",
    "country_header.to_csv(processor+\"Neo4j/country_header.csv\",index=False)\n",
    "\n",
    "property_type_header = pd.DataFrame(columns=[':END_ID(property_type)',':START_ID(Listing)'])\n",
    "property_type_header.to_csv(processor+\"Neo4j/property_type_header.csv\",index=False)\n",
    "\n",
    "room_type_header = pd.DataFrame(columns=[':END_ID(room_type)',':START_ID(Listing)'])\n",
    "room_type_header.to_csv(processor+\"Neo4j/room_type_header.csv\",index=False)\n",
    "\n",
    "listing_text_header = pd.DataFrame(columns=[':END_ID(Listing_Text)',':START_ID(Listing)'])\n",
    "listing_text_header.to_csv(processor+\"Neo4j/listing_text_header.csv\",index=False)\n",
    "\n",
    "user_rating_header = pd.DataFrame(columns=[':END_ID(Listing)','RATED',':START_ID(User)'])\n",
    "user_rating_header.to_csv(processor+\"Neo4j/user_rating_header.csv\",index=False)"
   ]
  },
  {
   "cell_type": "markdown",
   "id": "7bd8fc96",
   "metadata": {},
   "source": [
    "### Construct edges"
   ]
  },
  {
   "cell_type": "code",
   "execution_count": 87,
   "id": "4a541049",
   "metadata": {},
   "outputs": [],
   "source": [
    "def UserListingRating(neoListings,neoUser,reviews):\n",
    "    neoListings['listing_id']=neoListings['name']\n",
    "    neoListings['listing_id'] = (neoListings['listing_id']).astype('str')\n",
    "    neoListings = neoListings[['listing_id','_id']]\n",
    "    trans_df = neoListings.set_index(\"listing_id\").T\n",
    "    neoListingsDict = trans_df.to_dict(\"records\")\n",
    "\n",
    "    reviews=reviews.replace({\"listing_id\": neoListingsDict[0]})\n",
    "    reviews['_end'] = reviews['listing_id']\n",
    "\n",
    "    neoUser['reviewer_id']= neoUser['name']\n",
    "    neoUser['reviewer_id'] = (neoUser['reviewer_id']).astype('int')\n",
    "    neoUser = neoUser[['reviewer_id','_id']]\n",
    "    trans_df = neoUser.set_index(\"reviewer_id\").T\n",
    "    neoUserDict = trans_df.to_dict(\"records\")\n",
    "\n",
    "    # print(neoUserDict)\n",
    "    reviews=reviews.replace({\"reviewer_id\": neoUserDict[0]})\n",
    "    # print(reviews)\n",
    "\n",
    "    reviews['_start'] = (reviews['reviewer_id']).astype('int')\n",
    "    reviews['_end'] = (reviews['listing_id']).astype('int')\n",
    "    reviews['_type'] = 'RATED'\n",
    "\n",
    "    reviews = reviews[['_end','rating','_start']]\n",
    "\n",
    "    reviews.to_csv(processor+'Neo4j/user_rating.csv',index=False,header=False)\n",
    "    \n",
    "UserListingRating(neoListings,neoUser,reviews)"
   ]
  },
  {
   "cell_type": "code",
   "execution_count": 88,
   "id": "df93469f",
   "metadata": {},
   "outputs": [],
   "source": [
    "\n",
    "def ListingEdges(neoListings,neoEdge,listings,edge,type,id_col):\n",
    "    neoListings['listing_id']=neoListings['name']\n",
    "    neoListings['listing_id'] = (neoListings['listing_id'])\n",
    "    neoListings = neoListings[['listing_id','_id']]\n",
    "    trans_df = neoListings.set_index(\"listing_id\").T\n",
    "    neoListingsDict = trans_df.to_dict(\"records\")\n",
    "    listings=listings.replace({\"id\": neoListingsDict[0]})\n",
    "\n",
    "    listings['_start'] = listings['id']\n",
    "\n",
    "    neoEdge[edge]= neoEdge['name']\n",
    "    neoEdge[edge] = (neoEdge[edge]).astype(str)\n",
    "    neoEdge = neoEdge[[edge,'_id']]\n",
    "    trans_df = neoEdge.set_index(edge).T\n",
    "    neoEdgeDict = trans_df.to_dict(\"records\")\n",
    "\n",
    "    listings=listings.replace({edge: neoEdgeDict[0]})\n",
    "    listings['_end'] = listings[edge]\n",
    "    \n",
    "    listings['_type'] = type\n",
    "\n",
    "    header_list = ['_id','_labels','name', '_start','_end','_type','rating','url','picture_url','host_identity_verified','accomodates','bedrooms','bathrooms','beds','price','review_scores_rating']\n",
    "    listings = listings.reindex(columns = header_list)   \n",
    "    listings = listings[['_end','_start']]\n",
    "    listings.to_csv(processor+'Neo4j/'+ edge +'_Listing.csv',index=False,header=False)\n",
    "\n",
    "col_name = 'City'\n",
    "listingCity = listings[['id',col_name]]   \n",
    "ListingEdges(neoListings,neoCity,listingCity,col_name,'IN_CITY','id:ID(City)')\n",
    "\n",
    "col_name = 'State'\n",
    "listingState = listings[['id',col_name]]   \n",
    "ListingEdges(neoListings,neoState,listingState,col_name,'IN_STATE','id:ID(State)')\n",
    "\n",
    "col_name = 'Country'\n",
    "listingCountry = listings[['id',col_name]]   \n",
    "ListingEdges(neoListings,neoCountry,listingCountry,col_name,'IN_COUNTRY','id:ID(Country)')\n",
    "\n",
    "col_name = 'property_type'\n",
    "listingPropType = listings[['id',col_name]]   \n",
    "ListingEdges(neoListings,neoProperty_type,listingPropType,col_name,'HAS_PROPERTY_TYPE','id:ID(property_type)')\n",
    "\n",
    "col_name = 'room_type'\n",
    "listingRoomType = listings[['id',col_name]]   \n",
    "ListingEdges(neoListings,neoRoom_type,listingRoomType,col_name,'HAS_ROOM_TYPE','id:ID(room_type)')\n",
    "\n",
    "col_name = 'Listing_Text'\n",
    "listingText = listings[['id',col_name]]   \n",
    "ListingEdges(neoListings,neoListingText,listingText,col_name,'HAS_TEXT','id:ID(Listing_Text)')"
   ]
  },
  {
   "cell_type": "code",
   "execution_count": null,
   "id": "6da690b4",
   "metadata": {},
   "outputs": [],
   "source": [
    "def ListingAmenities(listings):\n",
    "    ListingID=[]\n",
    "    AmenityID=[]\n",
    "    for index in listings.index:\n",
    "        try:    \n",
    "            listing_id = int(listings['id'][index])\n",
    "            if(listing_id>=1):\n",
    "                try:\n",
    "                    #nodes\n",
    "                    amenities = listings['amenities'][index]\n",
    "                    for every_amenity in amenities: \n",
    "                        ListingID.append(listing_id)\n",
    "                        AmenityID.append(every_amenity)\n",
    "                except:\n",
    "                    print('No amenties found')\n",
    "        except:\n",
    "            print('listing id null')\n",
    "        \n",
    "    data={'id':ListingID,'Amenity':AmenityID}\n",
    "    listingsAmenity = pd.DataFrame(data)\n",
    "    return listingsAmenity"
   ]
  },
  {
   "cell_type": "code",
   "execution_count": null,
   "id": "210914a5",
   "metadata": {},
   "outputs": [],
   "source": [
    "listingsAmenity=ListingAmenities(listings)\n",
    "col_name = 'Amenity'\n",
    "listingAmenities = listingsAmenity[['id',col_name]]   \n",
    "ListingEdges(neoListings,neoAmenities,listingAmenities,col_name,'HAS_AMENITY','aId:ID(Amenity)')"
   ]
  }
 ],
 "metadata": {
  "kernelspec": {
   "display_name": "Python 3 (ipykernel)",
   "language": "python",
   "name": "python3"
  },
  "language_info": {
   "codemirror_mode": {
    "name": "ipython",
    "version": 3
   },
   "file_extension": ".py",
   "mimetype": "text/x-python",
   "name": "python",
   "nbconvert_exporter": "python",
   "pygments_lexer": "ipython3",
   "version": "3.8.8"
  }
 },
 "nbformat": 4,
 "nbformat_minor": 5
}
