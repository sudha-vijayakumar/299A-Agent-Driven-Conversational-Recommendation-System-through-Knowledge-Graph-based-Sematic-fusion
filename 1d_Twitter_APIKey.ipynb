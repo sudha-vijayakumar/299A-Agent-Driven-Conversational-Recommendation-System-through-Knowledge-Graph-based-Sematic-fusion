{
 "cells": [
  {
   "cell_type": "code",
   "execution_count": 2,
   "id": "a4c3bbe1-77c2-45a2-b6e3-b81cedc2632d",
   "metadata": {},
   "outputs": [],
   "source": [
    "import os \n",
    "os.environ['TOKEN'] = 'AAAAAAAAAAAAAAAAAAAAAP2SSwEAAAAAP3YsyQMv3P23uXMjYkGxW8C1f7w%3DYrdvQJLTbIIeIqZYwV9DGw7LVoIpx3dv8X7i7FTCKxFuD8YTzc'"
   ]
  },
  {
   "cell_type": "code",
   "execution_count": null,
   "id": "8d7d436f-8b47-4718-bad8-6c98243bb3a9",
   "metadata": {},
   "outputs": [],
   "source": [
    "#do not checkin this document."
   ]
  }
 ],
 "metadata": {
  "kernelspec": {
   "display_name": "Python 3 (ipykernel)",
   "language": "python",
   "name": "python3"
  },
  "language_info": {
   "codemirror_mode": {
    "name": "ipython",
    "version": 3
   },
   "file_extension": ".py",
   "mimetype": "text/x-python",
   "name": "python",
   "nbconvert_exporter": "python",
   "pygments_lexer": "ipython3",
   "version": "3.8.8"
  }
 },
 "nbformat": 4,
 "nbformat_minor": 5
}
