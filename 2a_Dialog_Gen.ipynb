{
 "cells": [
  {
   "cell_type": "markdown",
   "id": "ea075b38-0dbe-47c3-8415-85f91ea295e2",
   "metadata": {},
   "source": [
    "## Purpose\n",
    "- **Input:** Airbnb - listings, reviews, single location.\n",
    "- **Output:** Creating the below files to generate dialogues, train data for conversation recommendation module.\n",
    "    - listings_info_filter\n",
    "    - ratings_filter\n",
    "    - listings_slot_value_filter\n",
    "    \n",
    "- 16k listings | 397k reviews"
   ]
  },
  {
   "cell_type": "markdown",
   "id": "ab53d627",
   "metadata": {},
   "source": [
    "### Import libraries, raw data"
   ]
  },
  {
   "cell_type": "code",
   "execution_count": 24,
   "id": "af6bccdc-4cb5-4d43-9012-2dce994b5874",
   "metadata": {},
   "outputs": [],
   "source": [
    "import pandas as pd\n",
    "import os\n",
    "import numpy as np"
   ]
  },
  {
   "cell_type": "code",
   "execution_count": 25,
   "id": "4b2cdf47",
   "metadata": {},
   "outputs": [
    {
     "name": "stdout",
     "output_type": "stream",
     "text": [
      "1a_Get_AirbnbData.ipynb            \u001b[34mPapers\u001b[m\u001b[m/\n",
      "1b_quora-scrapper[inActive].ipynb  \u001b[34mPersonas\u001b[m\u001b[m/\n",
      "1c_Twitter-read.ipynb              \u001b[34mRASA\u001b[m\u001b[m/\n",
      "2a_Dialog_Gen.ipynb                \u001b[34mRASA_Neo4j\u001b[m\u001b[m/\n",
      "\u001b[34mArchitecture\u001b[m\u001b[m/                      README.md\n",
      "\u001b[34mData\u001b[m\u001b[m/                              Twitter_API.ipynb\n",
      "LICENSE\n"
     ]
    }
   ],
   "source": [
    "ls"
   ]
  },
  {
   "cell_type": "code",
   "execution_count": 26,
   "id": "69d8e93a-fe14-458c-960e-ec08a0b62c66",
   "metadata": {},
   "outputs": [],
   "source": [
    "root='./Data/raw/'\n",
    "processor = './Data/processing/'"
   ]
  },
  {
   "cell_type": "code",
   "execution_count": 36,
   "id": "c5991c1c",
   "metadata": {},
   "outputs": [],
   "source": [
    "listings = pd.read_csv(root+'listings.csv.gz')"
   ]
  },
  {
   "cell_type": "code",
   "execution_count": 60,
   "id": "76cbcc53",
   "metadata": {},
   "outputs": [
    {
     "data": {
      "text/plain": [
       "['id',\n",
       " 'picture_url',\n",
       " 'host_identity_verified',\n",
       " 'neighbourhood',\n",
       " 'property_type',\n",
       " 'room_type',\n",
       " 'accommodates',\n",
       " 'bathrooms_text',\n",
       " 'bedrooms',\n",
       " 'beds',\n",
       " 'amenities',\n",
       " 'price',\n",
       " 'review_scores_rating',\n",
       " 'review_scores_accuracy',\n",
       " 'review_scores_cleanliness',\n",
       " 'review_scores_checkin',\n",
       " 'review_scores_communication',\n",
       " 'review_scores_location']"
      ]
     },
     "execution_count": 60,
     "metadata": {},
     "output_type": "execute_result"
    }
   ],
   "source": [
    "## These are the columns that will be used in the dialog generation.\n",
    "listingTemplate = pd.read_csv(processor+'listing_Template.csv')\n",
    "list(listingTemplate.columns)"
   ]
  },
  {
   "cell_type": "markdown",
   "id": "fa7677da-d641-4b91-a989-38a4fa6dc86d",
   "metadata": {},
   "source": [
    "### Compute unique entities, get sentiment score(user rating 0-5) for user comments."
   ]
  },
  {
   "cell_type": "code",
   "execution_count": 38,
   "id": "c2c5dc56-572d-4b6f-8fc8-28140cf824b7",
   "metadata": {},
   "outputs": [
    {
     "name": "stdout",
     "output_type": "stream",
     "text": [
      "<class 'pandas.core.frame.DataFrame'>\n",
      "RangeIndex: 5402 entries, 0 to 5401\n",
      "Data columns (total 18 columns):\n",
      " #   Column                       Non-Null Count  Dtype  \n",
      "---  ------                       --------------  -----  \n",
      " 0   id                           5402 non-null   int64  \n",
      " 1   picture_url                  5402 non-null   object \n",
      " 2   host_identity_verified       5401 non-null   object \n",
      " 3   neighbourhood                3908 non-null   object \n",
      " 4   property_type                5402 non-null   object \n",
      " 5   room_type                    5402 non-null   object \n",
      " 6   accommodates                 5402 non-null   int64  \n",
      " 7   bathrooms_text               5388 non-null   object \n",
      " 8   bedrooms                     5081 non-null   float64\n",
      " 9   beds                         5163 non-null   float64\n",
      " 10  amenities                    5402 non-null   object \n",
      " 11  price                        5402 non-null   object \n",
      " 12  review_scores_rating         4934 non-null   float64\n",
      " 13  review_scores_accuracy       4923 non-null   float64\n",
      " 14  review_scores_cleanliness    4923 non-null   float64\n",
      " 15  review_scores_checkin        4923 non-null   float64\n",
      " 16  review_scores_communication  4923 non-null   float64\n",
      " 17  review_scores_location       4923 non-null   float64\n",
      "dtypes: float64(8), int64(2), object(8)\n",
      "memory usage: 759.8+ KB\n"
     ]
    }
   ],
   "source": [
    "listings = listings[listingTemplate.columns]\n",
    "listings.dropna()\n",
    "listings.info()"
   ]
  },
  {
   "cell_type": "code",
   "execution_count": 39,
   "id": "c3c24354",
   "metadata": {},
   "outputs": [
    {
     "name": "stdout",
     "output_type": "stream",
     "text": [
      "<class 'pandas.core.frame.DataFrame'>\n",
      "RangeIndex: 5402 entries, 0 to 5401\n",
      "Data columns (total 18 columns):\n",
      " #   Column                       Non-Null Count  Dtype  \n",
      "---  ------                       --------------  -----  \n",
      " 0   id                           5402 non-null   int64  \n",
      " 1   picture_url                  5402 non-null   object \n",
      " 2   host_identity_verified       5401 non-null   object \n",
      " 3   location                     3908 non-null   object \n",
      " 4   property_type                5402 non-null   object \n",
      " 5   room_type                    5402 non-null   object \n",
      " 6   accommodates                 5402 non-null   int64  \n",
      " 7   bathrooms_text               5388 non-null   object \n",
      " 8   bedrooms                     5081 non-null   float64\n",
      " 9   beds                         5163 non-null   float64\n",
      " 10  amenities                    5402 non-null   object \n",
      " 11  price                        5402 non-null   object \n",
      " 12  review_scores_rating         4934 non-null   float64\n",
      " 13  review_scores_accuracy       4923 non-null   float64\n",
      " 14  review_scores_cleanliness    4923 non-null   float64\n",
      " 15  review_scores_checkin        4923 non-null   float64\n",
      " 16  review_scores_communication  4923 non-null   float64\n",
      " 17  review_scores_location       4923 non-null   float64\n",
      "dtypes: float64(8), int64(2), object(8)\n",
      "memory usage: 759.8+ KB\n"
     ]
    }
   ],
   "source": [
    "listings = listings.rename(columns={\"neighbourhood\": \"location\"})\n",
    "listings.info()"
   ]
  },
  {
   "cell_type": "code",
   "execution_count": 40,
   "id": "f8f71b65-721a-4e98-a652-b27010360504",
   "metadata": {},
   "outputs": [
    {
     "data": {
      "text/plain": [
       "5402"
      ]
     },
     "execution_count": 40,
     "metadata": {},
     "output_type": "execute_result"
    }
   ],
   "source": [
    "len(listings)"
   ]
  },
  {
   "cell_type": "markdown",
   "id": "e4a16afd",
   "metadata": {},
   "source": [
    "#### Extract unique entities"
   ]
  },
  {
   "cell_type": "code",
   "execution_count": 41,
   "id": "a28e6413-cec0-4132-8f14-17273ae07fbd",
   "metadata": {},
   "outputs": [],
   "source": [
    "# https://towardsdatascience.com/dealing-with-list-values-in-pandas-dataframes-a177e534f173\n",
    "def to_1D(series):\n",
    "    return pd.Series([x for _list in series for x in _list])"
   ]
  },
  {
   "cell_type": "code",
   "execution_count": 42,
   "id": "6508d078-a88a-439f-9cd4-d1e9d3c59343",
   "metadata": {},
   "outputs": [],
   "source": [
    "listings[\"amenities\"] = listings[\"amenities\"].apply(eval)\n",
    "amenities = to_1D(listings[\"amenities\"]).unique()"
   ]
  },
  {
   "cell_type": "code",
   "execution_count": 43,
   "id": "dbab128c-8145-4851-8ff5-006a26153002",
   "metadata": {},
   "outputs": [],
   "source": [
    "def convertList2Dict(lst):\n",
    "    dict_ret = dict() \n",
    "    for index,value in enumerate(lst):\n",
    "        dict_ret[value] = index\n",
    "    return dict_ret"
   ]
  },
  {
   "cell_type": "code",
   "execution_count": 44,
   "id": "a22293b4-e1a6-4894-80af-f93c974f34f5",
   "metadata": {},
   "outputs": [],
   "source": [
    "location = listings[\"location\"].dropna().str.split(\",\", n = 2, expand = True)\n",
    "\n",
    "listings[\"City\"]= location[0]\n",
    "listings[\"State\"]= location[1]\n",
    "listings[\"Country\"]= location[2]\n",
    "\n",
    "City = listings[\"City\"].dropna().unique()\n",
    "State = listings[\"State\"].dropna().unique()\n",
    "Country = listings[\"Country\"].dropna().unique()"
   ]
  },
  {
   "cell_type": "code",
   "execution_count": 45,
   "id": "27bd7fe0-15d5-4d7f-82e1-973e4c7ee25c",
   "metadata": {},
   "outputs": [],
   "source": [
    "listings[\"price\"].min()\n",
    "listings[\"price\"].max()\n",
    "listings[\"price\"] = listings[\"price\"].replace('[\\$,]', '', regex=True).astype(float)\n",
    "listings[\"price\"] = pd.cut(listings['price'], [0, 250, 500,750,999], labels=['low', 'average', 'high','expensive'])\n",
    "price = listings[\"price\"].dropna().unique()"
   ]
  },
  {
   "cell_type": "code",
   "execution_count": 46,
   "id": "a8de2a6e-82f1-4a75-815c-9599baba0f70",
   "metadata": {},
   "outputs": [],
   "source": [
    "listings[\"review_scores_rating\"].dropna()\n",
    "listings[\"review_scores_rating\"] = pd.cut(listings['review_scores_rating'], [0, 1, 2, 3,4,5], labels=['horrible', 'bad', 'average','good','very good'])\n",
    "rating = listings[\"review_scores_rating\"].unique()"
   ]
  },
  {
   "cell_type": "code",
   "execution_count": 47,
   "id": "eb4a7c0b-a09b-4caf-8d1f-9b9646b81d55",
   "metadata": {},
   "outputs": [],
   "source": [
    "listings[\"review_scores_accuracy\"].dropna()\n",
    "listings[\"review_scores_accuracy\"] = pd.cut(listings['review_scores_accuracy'], [0, 1, 2, 3,4,5], labels=['horrible', 'bad', 'average','good','very good'])\n",
    "acc_rating = listings[\"review_scores_accuracy\"].unique()"
   ]
  },
  {
   "cell_type": "code",
   "execution_count": 48,
   "id": "ab2303e4-517d-4ce4-965d-c9319781cab5",
   "metadata": {},
   "outputs": [],
   "source": [
    "listings[\"review_scores_cleanliness\"].dropna()\n",
    "listings[\"review_scores_cleanliness\"] = pd.cut(listings['review_scores_cleanliness'], [0, 1, 2, 3,4,5], labels=['horrible', 'bad', 'average','good','very good'])\n",
    "clean_rating = listings[\"review_scores_cleanliness\"].unique()"
   ]
  },
  {
   "cell_type": "code",
   "execution_count": 49,
   "id": "881754dd-ba8c-419d-8fc5-bbd7f9a1fab1",
   "metadata": {},
   "outputs": [],
   "source": [
    "listings[\"review_scores_checkin\"].dropna()\n",
    "listings[\"review_scores_checkin\"] = pd.cut(listings['review_scores_checkin'], [0, 1, 2, 3,4,5], labels=['horrible', 'bad', 'average','good','smooth'])\n",
    "checkin_rating = listings[\"review_scores_checkin\"].unique()"
   ]
  },
  {
   "cell_type": "code",
   "execution_count": 50,
   "id": "d055c327-48d8-450c-83bf-dbe063c2ec9c",
   "metadata": {},
   "outputs": [],
   "source": [
    "listings[\"review_scores_communication\"].dropna()\n",
    "listings[\"review_scores_communication\"] = pd.cut(listings['review_scores_communication'], [0, 1, 2, 3,4,5], labels=['horrible', 'bad', 'average','good','very good'])\n",
    "communication_rating = listings[\"review_scores_communication\"].unique()"
   ]
  },
  {
   "cell_type": "code",
   "execution_count": 51,
   "id": "f58cb662-e0d1-4c1d-b922-80316f40e77b",
   "metadata": {},
   "outputs": [],
   "source": [
    "listings[\"review_scores_location\"].dropna()\n",
    "listings[\"review_scores_location\"] = pd.cut(listings['review_scores_location'], [0, 1, 2, 3,4,5], labels=['horrible', 'bad', 'average','good','very good'])\n",
    "location_rating = listings[\"review_scores_location\"].unique()"
   ]
  },
  {
   "cell_type": "code",
   "execution_count": 52,
   "id": "d1d879fa-83e8-417c-b1e3-d7512cc53ebd",
   "metadata": {},
   "outputs": [],
   "source": [
    "host_identity_verified = listings[\"host_identity_verified\"].dropna().unique()    \n",
    "property_type = listings[\"property_type\"].dropna().unique()    \n",
    "room_type = listings[\"room_type\"].dropna().unique()    \n",
    "accommodates = listings[\"accommodates\"].dropna().unique().astype(float)    \n",
    "bathrooms = listings[\"bathrooms_text\"].dropna().unique()    \n",
    "bedrooms = listings[\"bedrooms\"].dropna().unique()    \n",
    "beds = listings[\"beds\"].dropna().unique()    "
   ]
  },
  {
   "cell_type": "code",
   "execution_count": 53,
   "id": "6d9e3eb4-c05c-46c4-9758-66de8535330b",
   "metadata": {},
   "outputs": [],
   "source": [
    "accommodates=np.delete(accommodates,np.where(accommodates == 0))"
   ]
  },
  {
   "cell_type": "code",
   "execution_count": 54,
   "id": "5cb3085c-a2c2-4221-bdda-0782ece25229",
   "metadata": {},
   "outputs": [],
   "source": [
    "amenities_dict = convertList2Dict(amenities)\n",
    "City_dict = convertList2Dict(City)\n",
    "State_dict = convertList2Dict(State)\n",
    "Country_dict = convertList2Dict(Country)\n",
    "price_dict = convertList2Dict(price)\n",
    "rating_dict = convertList2Dict(rating)\n",
    "acc_rating_dict = convertList2Dict(acc_rating)\n",
    "clean_rating_dict = convertList2Dict(clean_rating)\n",
    "checkin_rating_dict = convertList2Dict(checkin_rating)\n",
    "communication_rating_dict = convertList2Dict(communication_rating)\n",
    "location_rating_dict = convertList2Dict(location_rating)\n",
    "host_identity_verified_dict = convertList2Dict(host_identity_verified)\n",
    "property_type_dict = convertList2Dict(property_type)\n",
    "room_type_dict = convertList2Dict(room_type)\n",
    "accommodates_dict = convertList2Dict(accommodates)\n",
    "bathrooms_dict = convertList2Dict(bathrooms)\n",
    "bedrooms_dict = convertList2Dict(bedrooms)\n",
    "beds_dict = convertList2Dict(beds)"
   ]
  },
  {
   "cell_type": "code",
   "execution_count": 55,
   "id": "91f8c164-2a50-4454-a621-1e7aacd570e5",
   "metadata": {},
   "outputs": [],
   "source": [
    "import json \n",
    "dictionary = {\n",
    " \"amenities\":amenities_dict,\n",
    " \"City\": City_dict,\n",
    " \"State\":State_dict,\n",
    " \"Country\":Country_dict,\n",
    " \"price\":price_dict,\n",
    " \"rating\":rating_dict,\n",
    " \"accuracy\":acc_rating_dict,\n",
    " \"cleanliness\":clean_rating_dict,\n",
    " \"checkin\":checkin_rating_dict,\n",
    " \"communication\":communication_rating_dict,\n",
    " \"location\":location_rating_dict,\n",
    " \"host_identity_verified\":host_identity_verified_dict,\n",
    " \"property_type\":property_type_dict,\n",
    " \"room_type\":room_type_dict,\n",
    " \"accommodates\":accommodates_dict, \n",
    " \"bathrooms\":bathrooms_dict,\n",
    " \"bedrooms\":bedrooms_dict,\n",
    " \"beds\":beds_dict\n",
    "}\n",
    "with open(processor+'Processed_Airbnb/listings_entities_filter.json', 'w', encoding='utf-8') as f:\n",
    "    f.write(json.dumps(dictionary, ensure_ascii=False))"
   ]
  },
  {
   "cell_type": "code",
   "execution_count": 56,
   "id": "5a9d9a66-4ffa-4785-b145-2ecd09190d05",
   "metadata": {},
   "outputs": [],
   "source": [
    "with open(processor+'Processed_Airbnb/listings_info_filter.json', 'w', encoding='utf-8') as f:\n",
    "    f.write(listings.to_json(orient = 'records'))"
   ]
  },
  {
   "cell_type": "code",
   "execution_count": 57,
   "id": "9a15e2c2-9a09-4be3-98d3-f82d7ad35ee7",
   "metadata": {},
   "outputs": [
    {
     "name": "stdout",
     "output_type": "stream",
     "text": [
      "<class 'pandas.core.frame.DataFrame'>\n",
      "RangeIndex: 266861 entries, 0 to 266860\n",
      "Data columns (total 6 columns):\n",
      " #   Column         Non-Null Count   Dtype \n",
      "---  ------         --------------   ----- \n",
      " 0   listing_id     266861 non-null  int64 \n",
      " 1   id             266861 non-null  int64 \n",
      " 2   date           266861 non-null  object\n",
      " 3   reviewer_id    266861 non-null  int64 \n",
      " 4   reviewer_name  266861 non-null  object\n",
      " 5   comments       266622 non-null  object\n",
      "dtypes: int64(3), object(3)\n",
      "memory usage: 12.2+ MB\n"
     ]
    }
   ],
   "source": [
    "reviews0 = pd.read_csv(root+'reviews.csv.gz')\n",
    "reviews0.info()"
   ]
  },
  {
   "cell_type": "code",
   "execution_count": 58,
   "id": "19250607-0207-4b78-80ff-18f0dbd1b28a",
   "metadata": {},
   "outputs": [],
   "source": [
    "reviews = reviews0[['listing_id','id','reviewer_id','comments']]"
   ]
  },
  {
   "cell_type": "code",
   "execution_count": 59,
   "id": "f5454d46-80b0-48e9-b763-a7436075049e",
   "metadata": {},
   "outputs": [
    {
     "data": {
      "text/html": [
       "<div>\n",
       "<style scoped>\n",
       "    .dataframe tbody tr th:only-of-type {\n",
       "        vertical-align: middle;\n",
       "    }\n",
       "\n",
       "    .dataframe tbody tr th {\n",
       "        vertical-align: top;\n",
       "    }\n",
       "\n",
       "    .dataframe thead th {\n",
       "        text-align: right;\n",
       "    }\n",
       "</style>\n",
       "<table border=\"1\" class=\"dataframe\">\n",
       "  <thead>\n",
       "    <tr style=\"text-align: right;\">\n",
       "      <th></th>\n",
       "      <th>listing_id</th>\n",
       "      <th>id</th>\n",
       "      <th>reviewer_id</th>\n",
       "      <th>comments</th>\n",
       "    </tr>\n",
       "  </thead>\n",
       "  <tbody>\n",
       "    <tr>\n",
       "      <th>0</th>\n",
       "      <td>2818</td>\n",
       "      <td>1191</td>\n",
       "      <td>10952</td>\n",
       "      <td>Daniel is really cool. The place was nice and ...</td>\n",
       "    </tr>\n",
       "  </tbody>\n",
       "</table>\n",
       "</div>"
      ],
      "text/plain": [
       "   listing_id    id  reviewer_id  \\\n",
       "0        2818  1191        10952   \n",
       "\n",
       "                                            comments  \n",
       "0  Daniel is really cool. The place was nice and ...  "
      ]
     },
     "execution_count": 59,
     "metadata": {},
     "output_type": "execute_result"
    }
   ],
   "source": [
    "reviews.head(1)"
   ]
  },
  {
   "cell_type": "markdown",
   "id": "b1f28736-33a0-4809-8513-045dbdb04209",
   "metadata": {},
   "source": [
    "#### Compute rating from review : StandfordNLP Sentiment Analysis"
   ]
  },
  {
   "cell_type": "code",
   "execution_count": 35,
   "id": "bdf88dc0-0474-451b-b1d6-32bae89d0e91",
   "metadata": {},
   "outputs": [],
   "source": [
    "# !pip install pycorenlp\n",
    "# https://towardsdatascience.com/natural-language-processing-using-stanfords-corenlp-d9e64c1e1024"
   ]
  },
  {
   "cell_type": "code",
   "execution_count": 36,
   "id": "0b5c7f0b-45c4-4b35-bbe3-2b87d05bfa20",
   "metadata": {},
   "outputs": [],
   "source": [
    "from pycorenlp import StanfordCoreNLP\n",
    "# Need to start the java server.stanford-corenlp-4.3.1 % java -mx4g -cp \"*\" edu.stanford.nlp.pipeline.StanfordCoreNLPServer -port 9000 -timeout 50000\n",
    "nlp_wrapper = StanfordCoreNLP('http://localhost:9000')"
   ]
  },
  {
   "cell_type": "code",
   "execution_count": 37,
   "id": "ca67a7a8-ee3c-42c3-989e-4cb3159f3a2a",
   "metadata": {},
   "outputs": [],
   "source": [
    "def computeRatingfromReview(doc):\n",
    "    overall_sentiment=0\n",
    "    count=0\n",
    "    \n",
    "    annot_doc = nlp_wrapper.annotate(doc,\n",
    "    properties={\n",
    "       'annotators': 'sentiment',\n",
    "       'outputFormat': 'json',\n",
    "       'timeout': 100000,\n",
    "    })\n",
    "    \n",
    "    try:\n",
    "        for s in annot_doc[\"sentences\"]:\n",
    "            sentiment = s[\"sentiment\"]\n",
    "            if(sentiment=='Verypositive'):\n",
    "                overall_sentiment = overall_sentiment+5\n",
    "            elif(sentiment=='Positive'):\n",
    "                overall_sentiment = overall_sentiment+4\n",
    "            elif(sentiment=='Neutral'):\n",
    "                overall_sentiment = overall_sentiment+3\n",
    "            elif(sentiment=='Negative'):\n",
    "                overall_sentiment = overall_sentiment+2\n",
    "            elif(sentiment=='Verynegative'):\n",
    "                overall_sentiment = overall_sentiment+1\n",
    "            count+=1\n",
    "\n",
    "    except:\n",
    "            return 0\n",
    "        \n",
    "    return ((int)(overall_sentiment/count))"
   ]
  },
  {
   "cell_type": "code",
   "execution_count": 38,
   "id": "3b533256-a5b4-4ca8-8c7b-dded416e6640",
   "metadata": {},
   "outputs": [
    {
     "data": {
      "text/plain": [
       "397185"
      ]
     },
     "execution_count": 38,
     "metadata": {},
     "output_type": "execute_result"
    }
   ],
   "source": [
    "len(reviews)"
   ]
  },
  {
   "cell_type": "code",
   "execution_count": 39,
   "id": "36bfaa75-9fb7-46bb-87ae-8c23672f3967",
   "metadata": {},
   "outputs": [],
   "source": [
    "# reviews=reviews[:100]\n",
    "import time\n",
    "st = time.time()\n",
    "print(st)"
   ]
  },
  {
   "cell_type": "code",
   "execution_count": 40,
   "id": "fe230021-dd4b-4e8a-b908-a5a58437f8d4",
   "metadata": {},
   "outputs": [
    {
     "name": "stderr",
     "output_type": "stream",
     "text": [
      "/var/folders/18/1rt0491s0d5c46mtpnlpm6000000gn/T/ipykernel_35434/906954042.py:1: SettingWithCopyWarning: \n",
      "A value is trying to be set on a copy of a slice from a DataFrame.\n",
      "Try using .loc[row_indexer,col_indexer] = value instead\n",
      "\n",
      "See the caveats in the documentation: https://pandas.pydata.org/pandas-docs/stable/user_guide/indexing.html#returning-a-view-versus-a-copy\n",
      "  reviews['rating'] = reviews['comments']\n",
      "/Users/sudhavijayakumar/opt/anaconda3/lib/python3.8/site-packages/pandas/core/indexing.py:1732: SettingWithCopyWarning: \n",
      "A value is trying to be set on a copy of a slice from a DataFrame\n",
      "\n",
      "See the caveats in the documentation: https://pandas.pydata.org/pandas-docs/stable/user_guide/indexing.html#returning-a-view-versus-a-copy\n",
      "  self._setitem_single_block(indexer, value, name)\n"
     ]
    }
   ],
   "source": [
    "reviews['rating'] = reviews['comments']\n",
    "for x in range(len(reviews.index)):\n",
    "    try:\n",
    "        reviews['rating'].iloc[x] = computeRatingfromReview(reviews['comments'].iloc[x])\n",
    "    except:\n",
    "        reviews['rating'].iloc[x] = 0"
   ]
  },
  {
   "cell_type": "code",
   "execution_count": 41,
   "id": "9f78ba52-3f25-4ef5-827a-a0fcb88fa38d",
   "metadata": {},
   "outputs": [],
   "source": [
    "reviews = reviews[['listing_id','reviewer_id','rating']]\n",
    "reviews = reviews.rename(columns={\"listing_id\": \"business_id\", \"reviewer_id\": \"user_id\",\"rating\":\"stars\"})"
   ]
  },
  {
   "cell_type": "code",
   "execution_count": 42,
   "id": "56436bb8-1c6c-4d4f-b2eb-3420784383ea",
   "metadata": {},
   "outputs": [
    {
     "data": {
      "text/html": [
       "<div>\n",
       "<style scoped>\n",
       "    .dataframe tbody tr th:only-of-type {\n",
       "        vertical-align: middle;\n",
       "    }\n",
       "\n",
       "    .dataframe tbody tr th {\n",
       "        vertical-align: top;\n",
       "    }\n",
       "\n",
       "    .dataframe thead th {\n",
       "        text-align: right;\n",
       "    }\n",
       "</style>\n",
       "<table border=\"1\" class=\"dataframe\">\n",
       "  <thead>\n",
       "    <tr style=\"text-align: right;\">\n",
       "      <th></th>\n",
       "      <th>business_id</th>\n",
       "      <th>user_id</th>\n",
       "      <th>stars</th>\n",
       "    </tr>\n",
       "  </thead>\n",
       "  <tbody>\n",
       "    <tr>\n",
       "      <th>0</th>\n",
       "      <td>2818</td>\n",
       "      <td>10952</td>\n",
       "      <td>3</td>\n",
       "    </tr>\n",
       "    <tr>\n",
       "      <th>1</th>\n",
       "      <td>2818</td>\n",
       "      <td>12798</td>\n",
       "      <td>4</td>\n",
       "    </tr>\n",
       "    <tr>\n",
       "      <th>2</th>\n",
       "      <td>2818</td>\n",
       "      <td>11869</td>\n",
       "      <td>3</td>\n",
       "    </tr>\n",
       "    <tr>\n",
       "      <th>3</th>\n",
       "      <td>2818</td>\n",
       "      <td>14064</td>\n",
       "      <td>4</td>\n",
       "    </tr>\n",
       "    <tr>\n",
       "      <th>4</th>\n",
       "      <td>2818</td>\n",
       "      <td>17977</td>\n",
       "      <td>3</td>\n",
       "    </tr>\n",
       "  </tbody>\n",
       "</table>\n",
       "</div>"
      ],
      "text/plain": [
       "   business_id  user_id stars\n",
       "0         2818    10952     3\n",
       "1         2818    12798     4\n",
       "2         2818    11869     3\n",
       "3         2818    14064     4\n",
       "4         2818    17977     3"
      ]
     },
     "execution_count": 42,
     "metadata": {},
     "output_type": "execute_result"
    }
   ],
   "source": [
    "reviews.head()"
   ]
  },
  {
   "cell_type": "code",
   "execution_count": 43,
   "id": "2fe671d4-e5fd-4662-98cd-e7795ae542a2",
   "metadata": {},
   "outputs": [],
   "source": [
    "reviews.to_csv(processor+'Processed_Airbnb/ratings_filter.csv',index=False)"
   ]
  },
  {
   "cell_type": "code",
   "execution_count": 44,
   "id": "f72d0a88-54b0-49dd-984b-48096bc21575",
   "metadata": {},
   "outputs": [],
   "source": [
    "end = time.time()\n",
    "print(end)"
   ]
  },
  {
   "cell_type": "code",
   "execution_count": 67,
   "id": "b18b77ac-eff9-43e3-811f-c4f0653ecf16",
   "metadata": {},
   "outputs": [],
   "source": [
    "review_rated = pd.read_csv(processor+'Processed_Airbnb/ratings_filter.csv')\n",
    "reviews = pd.read_csv(root+'reviews.csv.gz')\n",
    "reviews['rating'] = review_rated['rating']\n",
    "reviews.to_csv(processor+'Processed_Airbnb/ratings_filter.csv')"
   ]
  }
 ],
 "metadata": {
  "kernelspec": {
   "display_name": "Python 3 (ipykernel)",
   "language": "python",
   "name": "python3"
  },
  "language_info": {
   "codemirror_mode": {
    "name": "ipython",
    "version": 3
   },
   "file_extension": ".py",
   "mimetype": "text/x-python",
   "name": "python",
   "nbconvert_exporter": "python",
   "pygments_lexer": "ipython3",
   "version": "3.8.8"
  }
 },
 "nbformat": 4,
 "nbformat_minor": 5
}
