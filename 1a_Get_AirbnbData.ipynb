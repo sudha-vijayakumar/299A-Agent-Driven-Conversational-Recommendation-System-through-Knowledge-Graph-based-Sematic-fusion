{
 "cells": [
  {
   "cell_type": "markdown",
   "id": "f9407d9e",
   "metadata": {
    "colab_type": "text",
    "id": "view-in-github"
   },
   "source": [
    "<a href=\"https://colab.research.google.com/github/sudha-vijayakumar/299A-SMARTRec-A-Smart-Conversational-Recommendation-System-using-Semantic-Knowledge-Graphs/blob/main/QA%20DataScrappers/Get_AirbnbData.ipynb\" target=\"_parent\"><img src=\"https://colab.research.google.com/assets/colab-badge.svg\" alt=\"Open In Colab\"/></a>"
   ]
  },
  {
   "cell_type": "markdown",
   "id": "662c17a7",
   "metadata": {},
   "source": [
    "### References:\n",
    "- https://github.com/x-technology/airbnb-analytics/blob/main/Part%201%20-%20Web%20Scraping/airbnb_parser.py"
   ]
  },
  {
   "cell_type": "code",
   "execution_count": 1,
   "id": "a917f257",
   "metadata": {
    "id": "a917f257"
   },
   "outputs": [],
   "source": [
    "import requests\n",
    "from bs4 import BeautifulSoup\n",
    "import pandas as pd\n",
    "import requests\n",
    "from bs4 import BeautifulSoup\n",
    " "
   ]
  },
  {
   "cell_type": "code",
   "execution_count": 2,
   "id": "952d7162-106d-4af4-b48c-c85426b58ef7",
   "metadata": {},
   "outputs": [
    {
     "name": "stdout",
     "output_type": "stream",
     "text": [
      "1a_Get_AirbnbData.ipynb\n",
      "1b_quora-scrapper[inActive].ipynb\n",
      "1c_Twitter-read.ipynb\n",
      "2a_SentimentAnalyzer.ipynb\n",
      "2b_Neo4jData_Gen.ipynb\n",
      "3a_EmbeddingsAndModels.ipynb\n",
      "4a_GenerateRASA_Conversational_Data copy.ipynb\n",
      "5a_offlineRecommendation.ipynb\n",
      "6a_NEO4J_QUERIES.docx\n",
      "\u001b[34mArchitecture\u001b[m\u001b[m/\n",
      "\u001b[34mData\u001b[m\u001b[m/\n",
      "LICENSE\n",
      "\u001b[34mPapers\u001b[m\u001b[m/\n",
      "\u001b[34mPersonas\u001b[m\u001b[m/\n",
      "\u001b[34mRASA\u001b[m\u001b[m/\n",
      "\u001b[34mRASA_Neo4j\u001b[m\u001b[m/\n",
      "README.md\n",
      "Twitter_APIKey.ipynb\n",
      "\u001b[34mmodels\u001b[m\u001b[m/\n",
      "workspace.code-workspace\n"
     ]
    }
   ],
   "source": [
    "ls"
   ]
  },
  {
   "cell_type": "code",
   "execution_count": 3,
   "id": "2cf0e25e-43be-4f00-9e05-573af8f9a4de",
   "metadata": {},
   "outputs": [],
   "source": [
    "root = './Data/raw/'"
   ]
  },
  {
   "cell_type": "markdown",
   "id": "672df592",
   "metadata": {},
   "source": [
    "### Get FAQ links from Airbnb : https://www.airbnb.com/help/home"
   ]
  },
  {
   "cell_type": "code",
   "execution_count": 4,
   "id": "8dab7d8a",
   "metadata": {},
   "outputs": [],
   "source": [
    "FAQ_links = []\n",
    "FAQ_Topic=[]\n",
    "index=[]\n",
    "count=0\n",
    "\n",
    "url = 'https://www.airbnb.com/help/home'\n",
    "reqs = requests.get(url)\n",
    "soup = BeautifulSoup(reqs.text, 'html.parser')\n",
    " \n",
    "for link in soup.find_all('a'):\n",
    "    link = 'https://www.airbnb.com'+link.get('href')\n",
    "    if link not in FAQ_links:\n",
    "        index.append(count)\n",
    "        FAQ_links.append(link)\n",
    "        FAQ_Topic.append(link.split('/')[-1])\n",
    "\n",
    "        count=count+1\n",
    "    "
   ]
  },
  {
   "cell_type": "code",
   "execution_count": 5,
   "id": "26ffc4e2",
   "metadata": {},
   "outputs": [],
   "source": [
    "url = 'https://www.airbnb.com/help/topic/1382/about-airbnb'\n",
    "reqs = requests.get(url)\n",
    "soup = BeautifulSoup(reqs.text, 'html.parser')\n",
    " \n",
    "for link in soup.find_all('a'):\n",
    "    link = 'https://www.airbnb.com'+link.get('href')\n",
    "    if link not in FAQ_links:\n",
    "        index.append(count)\n",
    "        FAQ_links.append(link)\n",
    "        FAQ_Topic.append(link.split('/')[-1])\n",
    "\n",
    "        count=count+1"
   ]
  },
  {
   "cell_type": "code",
   "execution_count": 6,
   "id": "576b30bb",
   "metadata": {},
   "outputs": [
    {
     "data": {
      "text/plain": [
       "88"
      ]
     },
     "execution_count": 6,
     "metadata": {},
     "output_type": "execute_result"
    }
   ],
   "source": [
    "len(FAQ_links)"
   ]
  },
  {
   "cell_type": "code",
   "execution_count": 7,
   "id": "de763a16",
   "metadata": {},
   "outputs": [],
   "source": [
    "data = {'a':FAQ_links,'q':FAQ_Topic,'index':index}\n",
    "df = pd.DataFrame(data,columns =['a','q','index'])\n",
    "df.drop_duplicates()\n",
    "df.to_json(root+'faq.json',orient=\"records\")"
   ]
  },
  {
   "cell_type": "markdown",
   "id": "WnzxCQPEpFWg",
   "metadata": {
    "id": "WnzxCQPEpFWg"
   },
   "source": [
    "### Get all dataset links from inside Airbnb"
   ]
  },
  {
   "cell_type": "code",
   "execution_count": 8,
   "id": "MK-HuTD4oWIy",
   "metadata": {
    "id": "MK-HuTD4oWIy"
   },
   "outputs": [],
   "source": [
    "\n",
    "dataset_links = []\n",
    "url = 'http://insideairbnb.com/get-the-data.html'\n",
    "reqs = requests.get(url)\n",
    "soup = BeautifulSoup(reqs.text, 'html.parser')\n",
    " \n",
    "urls = []\n",
    "for link in soup.find_all('a'):\n",
    "    dataset_links.append(link.get('href'))"
   ]
  },
  {
   "cell_type": "code",
   "execution_count": 9,
   "id": "Gkg6_TDnoWQo",
   "metadata": {
    "id": "Gkg6_TDnoWQo"
   },
   "outputs": [],
   "source": [
    "dataset_links = dataset_links[22:29]"
   ]
  },
  {
   "cell_type": "code",
   "execution_count": 10,
   "id": "ad008d14-cac8-428b-a656-9016a2acd0f1",
   "metadata": {},
   "outputs": [
    {
     "data": {
      "text/plain": [
       "['http://data.insideairbnb.com/the-netherlands/north-holland/amsterdam/2021-11-04/data/listings.csv.gz',\n",
       " 'http://data.insideairbnb.com/the-netherlands/north-holland/amsterdam/2021-11-04/data/calendar.csv.gz',\n",
       " 'http://data.insideairbnb.com/the-netherlands/north-holland/amsterdam/2021-11-04/data/reviews.csv.gz',\n",
       " 'http://data.insideairbnb.com/the-netherlands/north-holland/amsterdam/2021-11-04/visualisations/listings.csv',\n",
       " 'http://data.insideairbnb.com/the-netherlands/north-holland/amsterdam/2021-11-04/visualisations/reviews.csv',\n",
       " 'http://data.insideairbnb.com/the-netherlands/north-holland/amsterdam/2021-11-04/visualisations/neighbourhoods.csv',\n",
       " 'http://data.insideairbnb.com/the-netherlands/north-holland/amsterdam/2021-11-04/visualisations/neighbourhoods.geojson']"
      ]
     },
     "execution_count": 10,
     "metadata": {},
     "output_type": "execute_result"
    }
   ],
   "source": [
    "dataset_links"
   ]
  },
  {
   "cell_type": "markdown",
   "id": "7WOhma3Qpk0O",
   "metadata": {
    "id": "7WOhma3Qpk0O"
   },
   "source": [
    "### Download dataset from the links"
   ]
  },
  {
   "cell_type": "code",
   "execution_count": 11,
   "id": "zgcgnsS6wqFu",
   "metadata": {
    "colab": {
     "base_uri": "https://localhost:8080/"
    },
    "id": "zgcgnsS6wqFu",
    "outputId": "dd267cc3-5c23-4553-c33b-a7250e21274c"
   },
   "outputs": [
    {
     "name": "stdout",
     "output_type": "stream",
     "text": [
      "\u001b[33mWARNING: Ignoring invalid distribution -atplotlib (/opt/anaconda3/lib/python3.8/site-packages)\u001b[0m\n",
      "\u001b[33mWARNING: Ignoring invalid distribution -atplotlib (/opt/anaconda3/lib/python3.8/site-packages)\u001b[0m\n",
      "Requirement already satisfied: wget in /opt/anaconda3/lib/python3.8/site-packages (3.2)\n",
      "\u001b[33mWARNING: Ignoring invalid distribution -atplotlib (/opt/anaconda3/lib/python3.8/site-packages)\u001b[0m\n",
      "\u001b[33mWARNING: Ignoring invalid distribution -atplotlib (/opt/anaconda3/lib/python3.8/site-packages)\u001b[0m\n",
      "\u001b[33mWARNING: Ignoring invalid distribution -atplotlib (/opt/anaconda3/lib/python3.8/site-packages)\u001b[0m\n"
     ]
    }
   ],
   "source": [
    "!pip install wget"
   ]
  },
  {
   "cell_type": "code",
   "execution_count": 12,
   "id": "uI-7msLZppR2",
   "metadata": {
    "id": "uI-7msLZppR2"
   },
   "outputs": [],
   "source": [
    "import wget\n",
    "import os\n",
    "from urllib.parse import urlparse\n",
    "\n",
    "def download_file(remote_url):\n",
    "\n",
    "  # Define the local filename to save data\n",
    "    remote_file = urlparse(url)\n",
    "    local_file = os.path.basename(remote_file.path)\n",
    "\n",
    "  # Make http request for remote file data\n",
    "    try:\n",
    "        wget.download(remote_url, root+local_file)\n",
    "        print(remote_url)\n",
    "    except:\n",
    "        print('file not downloaded')"
   ]
  },
  {
   "cell_type": "code",
   "execution_count": 13,
   "id": "iTFBMMADxXzS",
   "metadata": {
    "colab": {
     "base_uri": "https://localhost:8080/",
     "height": 329
    },
    "id": "iTFBMMADxXzS",
    "outputId": "f86245f1-a89e-4f96-fcac-145470548fc6"
   },
   "outputs": [
    {
     "name": "stdout",
     "output_type": "stream",
     "text": [
      "http://data.insideairbnb.com/the-netherlands/north-holland/amsterdam/2021-11-04/data/listings.csv.gz\n",
      "http://data.insideairbnb.com/the-netherlands/north-holland/amsterdam/2021-11-04/data/calendar.csv.gz\n",
      "http://data.insideairbnb.com/the-netherlands/north-holland/amsterdam/2021-11-04/data/reviews.csv.gz\n",
      "http://data.insideairbnb.com/the-netherlands/north-holland/amsterdam/2021-11-04/visualisations/listings.csv\n",
      "http://data.insideairbnb.com/the-netherlands/north-holland/amsterdam/2021-11-04/visualisations/reviews.csv\n",
      "http://data.insideairbnb.com/the-netherlands/north-holland/amsterdam/2021-11-04/visualisations/neighbourhoods.csv\n",
      "http://data.insideairbnb.com/the-netherlands/north-holland/amsterdam/2021-11-04/visualisations/neighbourhoods.geojson\n"
     ]
    }
   ],
   "source": [
    "for url in dataset_links:\n",
    "  download_file(url)"
   ]
  }
 ],
 "metadata": {
  "colab": {
   "include_colab_link": true,
   "name": "Get_AirbnbData.ipynb",
   "provenance": []
  },
  "kernelspec": {
   "display_name": "Python 3 (ipykernel)",
   "language": "python",
   "name": "python3"
  },
  "language_info": {
   "codemirror_mode": {
    "name": "ipython",
    "version": 3
   },
   "file_extension": ".py",
   "mimetype": "text/x-python",
   "name": "python",
   "nbconvert_exporter": "python",
   "pygments_lexer": "ipython3",
   "version": "3.8.8"
  }
 },
 "nbformat": 4,
 "nbformat_minor": 5
}
