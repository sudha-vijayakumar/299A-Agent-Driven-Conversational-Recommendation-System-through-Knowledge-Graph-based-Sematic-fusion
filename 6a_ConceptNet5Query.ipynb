{
 "cells": [
  {
   "cell_type": "markdown",
   "id": "10556ad5",
   "metadata": {},
   "source": [
    "### Script\n",
    "- **Input:** real-time querying on ConceptNet5 number-batch in the Neo4j Graph database.\n",
    "- **Output:** Micro-tags(concepts) generated for listing amenities and stored in a redis like memcache locally.\n",
    "              \n",
    "- **Note:** \n",
    "    - This is a workaround to minimize the response time in a real-time conversation. \n",
    "    - The mem cache can be synchronized in a distributed system on data-event triggers.\n",
    "    - The micro-tags(related concepts) will be stored as dictionary values with the actual\n",
    "      amenity as keys and used for enhaned search for matched listings(item attributes) in the Neo4j Graph DB. \n"
   ]
  },
  {
   "cell_type": "code",
   "execution_count": 5,
   "id": "004996a0",
   "metadata": {},
   "outputs": [
    {
     "name": "stdout",
     "output_type": "stream",
     "text": [
      "\u001b[33mWARNING: Ignoring invalid distribution -eras-preprocessing (/opt/anaconda3/lib/python3.8/site-packages)\u001b[0m\u001b[33m\n",
      "\u001b[0m\u001b[33mWARNING: Ignoring invalid distribution -atplotlib (/opt/anaconda3/lib/python3.8/site-packages)\u001b[0m\u001b[33m\n",
      "\u001b[0m\u001b[33mWARNING: Ignoring invalid distribution -eras-preprocessing (/opt/anaconda3/lib/python3.8/site-packages)\u001b[0m\u001b[33m\n",
      "\u001b[0m\u001b[33mWARNING: Ignoring invalid distribution -atplotlib (/opt/anaconda3/lib/python3.8/site-packages)\u001b[0m\u001b[33m\n",
      "\u001b[0mRequirement already satisfied: py2neo in /opt/anaconda3/lib/python3.8/site-packages (2021.2.3)\n",
      "Requirement already satisfied: packaging in /opt/anaconda3/lib/python3.8/site-packages (from py2neo) (20.9)\n",
      "Requirement already satisfied: urllib3 in /opt/anaconda3/lib/python3.8/site-packages (from py2neo) (1.25.11)\n",
      "Requirement already satisfied: pygments>=2.0.0 in /opt/anaconda3/lib/python3.8/site-packages (from py2neo) (2.8.1)\n",
      "Requirement already satisfied: pansi>=2020.7.3 in /opt/anaconda3/lib/python3.8/site-packages (from py2neo) (2020.7.3)\n",
      "Requirement already satisfied: monotonic in /opt/anaconda3/lib/python3.8/site-packages (from py2neo) (1.6)\n",
      "Requirement already satisfied: six>=1.15.0 in /opt/anaconda3/lib/python3.8/site-packages (from py2neo) (1.15.0)\n",
      "Requirement already satisfied: certifi in /opt/anaconda3/lib/python3.8/site-packages (from py2neo) (2020.12.5)\n",
      "Requirement already satisfied: interchange~=2021.0.4 in /opt/anaconda3/lib/python3.8/site-packages (from py2neo) (2021.0.4)\n",
      "Requirement already satisfied: pytz in /opt/anaconda3/lib/python3.8/site-packages (from interchange~=2021.0.4->py2neo) (2020.1)\n",
      "Requirement already satisfied: pyparsing>=2.0.2 in /opt/anaconda3/lib/python3.8/site-packages (from packaging->py2neo) (2.4.7)\n",
      "\u001b[33mWARNING: Ignoring invalid distribution -eras-preprocessing (/opt/anaconda3/lib/python3.8/site-packages)\u001b[0m\u001b[33m\n",
      "\u001b[0m\u001b[33mWARNING: Ignoring invalid distribution -atplotlib (/opt/anaconda3/lib/python3.8/site-packages)\u001b[0m\u001b[33m\n",
      "\u001b[0m\u001b[33mWARNING: Ignoring invalid distribution -eras-preprocessing (/opt/anaconda3/lib/python3.8/site-packages)\u001b[0m\u001b[33m\n",
      "\u001b[0m\u001b[33mWARNING: Ignoring invalid distribution -atplotlib (/opt/anaconda3/lib/python3.8/site-packages)\u001b[0m\u001b[33m\n",
      "\u001b[0m\u001b[33mWARNING: Ignoring invalid distribution -eras-preprocessing (/opt/anaconda3/lib/python3.8/site-packages)\u001b[0m\u001b[33m\n",
      "\u001b[0m\u001b[33mWARNING: Ignoring invalid distribution -atplotlib (/opt/anaconda3/lib/python3.8/site-packages)\u001b[0m\u001b[33m\n",
      "\u001b[0m\u001b[33mWARNING: Ignoring invalid distribution -eras-preprocessing (/opt/anaconda3/lib/python3.8/site-packages)\u001b[0m\u001b[33m\n",
      "\u001b[0m\u001b[33mWARNING: Ignoring invalid distribution -atplotlib (/opt/anaconda3/lib/python3.8/site-packages)\u001b[0m\u001b[33m\n",
      "\u001b[0m\u001b[33mWARNING: You are using pip version 22.0.3; however, version 22.0.4 is available.\n",
      "You should consider upgrading via the '/opt/anaconda3/bin/python -m pip install --upgrade pip' command.\u001b[0m\u001b[33m\n",
      "\u001b[0m"
     ]
    }
   ],
   "source": [
    "!pip install py2neo\n",
    "from py2neo import Graph\n",
    "import re\n",
    "import pandas as pd\n",
    "\n",
    "# use neo4j for real-time recommendations.\n",
    "g = Graph(\"bolt://localhost:7687/neo4j\", password = \"test\")"
   ]
  },
  {
   "cell_type": "code",
   "execution_count": 6,
   "id": "e0a0d2d8",
   "metadata": {},
   "outputs": [
    {
     "data": {
      "text/plain": [
       "889"
      ]
     },
     "execution_count": 6,
     "metadata": {},
     "output_type": "execute_result"
    }
   ],
   "source": [
    "df = pd.read_csv('./Data/processing/Neo4j/Amenity.csv')\n",
    "amenities = df['name'].unique()\n",
    "len(amenities)"
   ]
  },
  {
   "cell_type": "code",
   "execution_count": 7,
   "id": "09b1eeb0",
   "metadata": {},
   "outputs": [
    {
     "name": "stdout",
     "output_type": "stream",
     "text": [
      "no split character\n"
     ]
    },
    {
     "ename": "ClientError",
     "evalue": "[Procedure.ProcedureCallFailed] Failed to invoke procedure `ga.nlp.ml.word2vec.nn`: Caused by: java.lang.RuntimeException: Word2vec model not found",
     "output_type": "error",
     "traceback": [
      "\u001b[0;31m---------------------------------------------------------------------------\u001b[0m",
      "\u001b[0;31mClientError\u001b[0m                               Traceback (most recent call last)",
      "\u001b[0;32m<ipython-input-7-7f620f62388c>\u001b[0m in \u001b[0;36m<module>\u001b[0;34m\u001b[0m\n\u001b[1;32m     21\u001b[0m                 \u001b[0;32mfor\u001b[0m \u001b[0ma\u001b[0m \u001b[0;32min\u001b[0m \u001b[0mamen\u001b[0m\u001b[0;34m:\u001b[0m\u001b[0;34m\u001b[0m\u001b[0;34m\u001b[0m\u001b[0m\n\u001b[0;32m---> 22\u001b[0;31m                         \u001b[0mrealTimeRecommendation\u001b[0m\u001b[0;34m(\u001b[0m\u001b[0mstr\u001b[0m\u001b[0;34m(\u001b[0m\u001b[0ma\u001b[0m\u001b[0;34m.\u001b[0m\u001b[0mlower\u001b[0m\u001b[0;34m(\u001b[0m\u001b[0;34m)\u001b[0m\u001b[0;34m)\u001b[0m\u001b[0;34m,\u001b[0m\u001b[0;36m10\u001b[0m\u001b[0;34m)\u001b[0m\u001b[0;34m\u001b[0m\u001b[0;34m\u001b[0m\u001b[0m\n\u001b[0m\u001b[1;32m     23\u001b[0m         \u001b[0;32mexcept\u001b[0m\u001b[0;34m:\u001b[0m\u001b[0;34m\u001b[0m\u001b[0;34m\u001b[0m\u001b[0m\n",
      "\u001b[0;32m<ipython-input-7-7f620f62388c>\u001b[0m in \u001b[0;36mrealTimeRecommendation\u001b[0;34m(amenity, topK)\u001b[0m\n\u001b[1;32m      8\u001b[0m \t\t\t\t\t\t\t\"\"\"\n\u001b[0;32m----> 9\u001b[0;31m         \u001b[0;32mfor\u001b[0m \u001b[0mrow\u001b[0m \u001b[0;32min\u001b[0m \u001b[0mg\u001b[0m\u001b[0;34m.\u001b[0m\u001b[0mrun\u001b[0m\u001b[0;34m(\u001b[0m\u001b[0mquery\u001b[0m\u001b[0;34m,\u001b[0m \u001b[0mwid\u001b[0m\u001b[0;34m=\u001b[0m\u001b[0mamenity\u001b[0m\u001b[0;34m,\u001b[0m \u001b[0mk\u001b[0m\u001b[0;34m=\u001b[0m\u001b[0mtopK\u001b[0m\u001b[0;34m)\u001b[0m\u001b[0;34m:\u001b[0m\u001b[0;34m\u001b[0m\u001b[0;34m\u001b[0m\u001b[0m\n\u001b[0m\u001b[1;32m     10\u001b[0m                 \u001b[0mprocessed\u001b[0m\u001b[0;34m=\u001b[0m\u001b[0mre\u001b[0m\u001b[0;34m.\u001b[0m\u001b[0msub\u001b[0m\u001b[0;34m(\u001b[0m\u001b[0;34m'[^a-zA-Z0-9]+'\u001b[0m\u001b[0;34m,\u001b[0m \u001b[0;34m' '\u001b[0m\u001b[0;34m,\u001b[0m \u001b[0mrow\u001b[0m\u001b[0;34m[\u001b[0m\u001b[0;36m0\u001b[0m\u001b[0;34m]\u001b[0m\u001b[0;34m)\u001b[0m\u001b[0;34m\u001b[0m\u001b[0;34m\u001b[0m\u001b[0m\n",
      "\u001b[0;32m/opt/anaconda3/lib/python3.8/site-packages/py2neo/database.py\u001b[0m in \u001b[0;36mrun\u001b[0;34m(self, cypher, parameters, **kwparameters)\u001b[0m\n\u001b[1;32m    404\u001b[0m         \"\"\"\n\u001b[0;32m--> 405\u001b[0;31m         \u001b[0;32mreturn\u001b[0m \u001b[0mself\u001b[0m\u001b[0;34m.\u001b[0m\u001b[0mauto\u001b[0m\u001b[0;34m(\u001b[0m\u001b[0;34m)\u001b[0m\u001b[0;34m.\u001b[0m\u001b[0mrun\u001b[0m\u001b[0;34m(\u001b[0m\u001b[0mcypher\u001b[0m\u001b[0;34m,\u001b[0m \u001b[0mparameters\u001b[0m\u001b[0;34m,\u001b[0m \u001b[0;34m**\u001b[0m\u001b[0mkwparameters\u001b[0m\u001b[0;34m)\u001b[0m\u001b[0;34m\u001b[0m\u001b[0;34m\u001b[0m\u001b[0m\n\u001b[0m\u001b[1;32m    406\u001b[0m \u001b[0;34m\u001b[0m\u001b[0m\n",
      "\u001b[0;32m/opt/anaconda3/lib/python3.8/site-packages/py2neo/database.py\u001b[0m in \u001b[0;36mrun\u001b[0;34m(self, cypher, parameters, **kwparameters)\u001b[0m\n\u001b[1;32m    991\u001b[0m                                                   readonly=self.readonly)\n\u001b[0;32m--> 992\u001b[0;31m             \u001b[0mself\u001b[0m\u001b[0;34m.\u001b[0m\u001b[0m_connector\u001b[0m\u001b[0;34m.\u001b[0m\u001b[0mpull\u001b[0m\u001b[0;34m(\u001b[0m\u001b[0mresult\u001b[0m\u001b[0;34m,\u001b[0m \u001b[0;34m-\u001b[0m\u001b[0;36m1\u001b[0m\u001b[0;34m)\u001b[0m\u001b[0;34m\u001b[0m\u001b[0;34m\u001b[0m\u001b[0m\n\u001b[0m\u001b[1;32m    993\u001b[0m             \u001b[0;32mreturn\u001b[0m \u001b[0mCursor\u001b[0m\u001b[0;34m(\u001b[0m\u001b[0mresult\u001b[0m\u001b[0;34m,\u001b[0m \u001b[0mhydrant\u001b[0m\u001b[0;34m)\u001b[0m\u001b[0;34m\u001b[0m\u001b[0;34m\u001b[0m\u001b[0m\n",
      "\u001b[0;32m/opt/anaconda3/lib/python3.8/site-packages/py2neo/client/__init__.py\u001b[0m in \u001b[0;36mpull\u001b[0;34m(self, result, n)\u001b[0m\n\u001b[1;32m   1433\u001b[0m         \u001b[0;32mtry\u001b[0m\u001b[0;34m:\u001b[0m\u001b[0;34m\u001b[0m\u001b[0;34m\u001b[0m\u001b[0m\n\u001b[0;32m-> 1434\u001b[0;31m             \u001b[0mcx\u001b[0m\u001b[0;34m.\u001b[0m\u001b[0mpull\u001b[0m\u001b[0;34m(\u001b[0m\u001b[0mresult\u001b[0m\u001b[0;34m,\u001b[0m \u001b[0mn\u001b[0m\u001b[0;34m=\u001b[0m\u001b[0mn\u001b[0m\u001b[0;34m)\u001b[0m\u001b[0;34m\u001b[0m\u001b[0;34m\u001b[0m\u001b[0m\n\u001b[0m\u001b[1;32m   1435\u001b[0m         \u001b[0;32mexcept\u001b[0m \u001b[0;34m(\u001b[0m\u001b[0mConnectionUnavailable\u001b[0m\u001b[0;34m,\u001b[0m \u001b[0mConnectionBroken\u001b[0m\u001b[0;34m)\u001b[0m\u001b[0;34m:\u001b[0m\u001b[0;34m\u001b[0m\u001b[0;34m\u001b[0m\u001b[0m\n",
      "\u001b[0;32m/opt/anaconda3/lib/python3.8/site-packages/py2neo/client/bolt.py\u001b[0m in \u001b[0;36mpull\u001b[0;34m(self, result, n, capacity)\u001b[0m\n\u001b[1;32m    618\u001b[0m         \u001b[0;32melse\u001b[0m\u001b[0;34m:\u001b[0m\u001b[0;34m\u001b[0m\u001b[0;34m\u001b[0m\u001b[0m\n\u001b[0;32m--> 619\u001b[0;31m             \u001b[0mself\u001b[0m\u001b[0;34m.\u001b[0m\u001b[0m_audit\u001b[0m\u001b[0;34m(\u001b[0m\u001b[0mself\u001b[0m\u001b[0;34m.\u001b[0m\u001b[0m_transaction\u001b[0m\u001b[0;34m)\u001b[0m\u001b[0;34m\u001b[0m\u001b[0;34m\u001b[0m\u001b[0m\n\u001b[0m\u001b[1;32m    620\u001b[0m             \u001b[0;32mreturn\u001b[0m \u001b[0mresponse\u001b[0m\u001b[0;34m\u001b[0m\u001b[0;34m\u001b[0m\u001b[0m\n",
      "\u001b[0;32m/opt/anaconda3/lib/python3.8/site-packages/py2neo/client/bolt.py\u001b[0m in \u001b[0;36m_audit\u001b[0;34m(self, task)\u001b[0m\n\u001b[1;32m    809\u001b[0m         \u001b[0;32mtry\u001b[0m\u001b[0;34m:\u001b[0m\u001b[0;34m\u001b[0m\u001b[0;34m\u001b[0m\u001b[0m\n\u001b[0;32m--> 810\u001b[0;31m             \u001b[0mtask\u001b[0m\u001b[0;34m.\u001b[0m\u001b[0maudit\u001b[0m\u001b[0;34m(\u001b[0m\u001b[0;34m)\u001b[0m\u001b[0;34m\u001b[0m\u001b[0;34m\u001b[0m\u001b[0m\n\u001b[0m\u001b[1;32m    811\u001b[0m         \u001b[0;32mexcept\u001b[0m \u001b[0mNeo4jError\u001b[0m\u001b[0;34m:\u001b[0m\u001b[0;34m\u001b[0m\u001b[0;34m\u001b[0m\u001b[0m\n",
      "\u001b[0;32m/opt/anaconda3/lib/python3.8/site-packages/py2neo/client/bolt.py\u001b[0m in \u001b[0;36maudit\u001b[0;34m(self)\u001b[0m\n\u001b[1;32m   1139\u001b[0m         \u001b[0;32mfor\u001b[0m \u001b[0mitem\u001b[0m \u001b[0;32min\u001b[0m \u001b[0mself\u001b[0m\u001b[0;34m.\u001b[0m\u001b[0m_items\u001b[0m\u001b[0;34m:\u001b[0m\u001b[0;34m\u001b[0m\u001b[0;34m\u001b[0m\u001b[0m\n\u001b[0;32m-> 1140\u001b[0;31m             \u001b[0mitem\u001b[0m\u001b[0;34m.\u001b[0m\u001b[0maudit\u001b[0m\u001b[0;34m(\u001b[0m\u001b[0;34m)\u001b[0m\u001b[0;34m\u001b[0m\u001b[0;34m\u001b[0m\u001b[0m\n\u001b[0m\u001b[1;32m   1141\u001b[0m \u001b[0;34m\u001b[0m\u001b[0m\n",
      "\u001b[0;32m/opt/anaconda3/lib/python3.8/site-packages/py2neo/client/bolt.py\u001b[0m in \u001b[0;36maudit\u001b[0;34m(self)\u001b[0m\n\u001b[1;32m   1139\u001b[0m         \u001b[0;32mfor\u001b[0m \u001b[0mitem\u001b[0m \u001b[0;32min\u001b[0m \u001b[0mself\u001b[0m\u001b[0;34m.\u001b[0m\u001b[0m_items\u001b[0m\u001b[0;34m:\u001b[0m\u001b[0;34m\u001b[0m\u001b[0;34m\u001b[0m\u001b[0m\n\u001b[0;32m-> 1140\u001b[0;31m             \u001b[0mitem\u001b[0m\u001b[0;34m.\u001b[0m\u001b[0maudit\u001b[0m\u001b[0;34m(\u001b[0m\u001b[0;34m)\u001b[0m\u001b[0;34m\u001b[0m\u001b[0;34m\u001b[0m\u001b[0m\n\u001b[0m\u001b[1;32m   1141\u001b[0m \u001b[0;34m\u001b[0m\u001b[0m\n",
      "\u001b[0;32m/opt/anaconda3/lib/python3.8/site-packages/py2neo/client/bolt.py\u001b[0m in \u001b[0;36maudit\u001b[0;34m(self)\u001b[0m\n\u001b[1;32m   1302\u001b[0m             \u001b[0mself\u001b[0m\u001b[0;34m.\u001b[0m\u001b[0mset_ignored\u001b[0m\u001b[0;34m(\u001b[0m\u001b[0;34m)\u001b[0m\u001b[0;34m\u001b[0m\u001b[0;34m\u001b[0m\u001b[0m\n\u001b[0;32m-> 1303\u001b[0;31m             \u001b[0;32mraise\u001b[0m \u001b[0mself\u001b[0m\u001b[0;34m.\u001b[0m\u001b[0m_failure\u001b[0m\u001b[0;34m\u001b[0m\u001b[0;34m\u001b[0m\u001b[0m\n\u001b[0m\u001b[1;32m   1304\u001b[0m \u001b[0;34m\u001b[0m\u001b[0m\n",
      "\u001b[0;31mClientError\u001b[0m: [Procedure.ProcedureCallFailed] Failed to invoke procedure `ga.nlp.ml.word2vec.nn`: Caused by: java.lang.RuntimeException: Word2vec model not found",
      "\nDuring handling of the above exception, another exception occurred:\n",
      "\u001b[0;31mClientError\u001b[0m                               Traceback (most recent call last)",
      "\u001b[0;32m<ipython-input-7-7f620f62388c>\u001b[0m in \u001b[0;36m<module>\u001b[0;34m\u001b[0m\n\u001b[1;32m     23\u001b[0m         \u001b[0;32mexcept\u001b[0m\u001b[0;34m:\u001b[0m\u001b[0;34m\u001b[0m\u001b[0;34m\u001b[0m\u001b[0m\n\u001b[1;32m     24\u001b[0m                 \u001b[0mprint\u001b[0m\u001b[0;34m(\u001b[0m\u001b[0;34m'no split character'\u001b[0m\u001b[0;34m)\u001b[0m\u001b[0;34m\u001b[0m\u001b[0;34m\u001b[0m\u001b[0m\n\u001b[0;32m---> 25\u001b[0;31m                 \u001b[0mrealTimeRecommendation\u001b[0m\u001b[0;34m(\u001b[0m\u001b[0mstr\u001b[0m\u001b[0;34m(\u001b[0m\u001b[0mamenity\u001b[0m\u001b[0;34m.\u001b[0m\u001b[0mlower\u001b[0m\u001b[0;34m(\u001b[0m\u001b[0;34m)\u001b[0m\u001b[0;34m)\u001b[0m\u001b[0;34m,\u001b[0m\u001b[0;36m10\u001b[0m\u001b[0;34m)\u001b[0m\u001b[0;34m\u001b[0m\u001b[0;34m\u001b[0m\u001b[0m\n\u001b[0m\u001b[1;32m     26\u001b[0m \u001b[0;34m\u001b[0m\u001b[0m\n\u001b[1;32m     27\u001b[0m \u001b[0;34m\u001b[0m\u001b[0m\n",
      "\u001b[0;32m<ipython-input-7-7f620f62388c>\u001b[0m in \u001b[0;36mrealTimeRecommendation\u001b[0;34m(amenity, topK)\u001b[0m\n\u001b[1;32m      7\u001b[0m                                                         \u001b[0mCALL\u001b[0m \u001b[0mga\u001b[0m\u001b[0;34m.\u001b[0m\u001b[0mnlp\u001b[0m\u001b[0;34m.\u001b[0m\u001b[0mml\u001b[0m\u001b[0;34m.\u001b[0m\u001b[0mword2vec\u001b[0m\u001b[0;34m.\u001b[0m\u001b[0mnn\u001b[0m\u001b[0;34m(\u001b[0m\u001b[0;31m$\u001b[0m\u001b[0mwid\u001b[0m\u001b[0;34m,\u001b[0m\u001b[0;31m \u001b[0m\u001b[0;31m$\u001b[0m\u001b[0mk\u001b[0m\u001b[0;34m,\u001b[0m \u001b[0;34m'en-ConceptNet5'\u001b[0m\u001b[0;34m)\u001b[0m \u001b[0mYIELD\u001b[0m \u001b[0mword\u001b[0m\u001b[0;34m,\u001b[0m \u001b[0mdistance\u001b[0m \u001b[0mRETURN\u001b[0m \u001b[0mword\u001b[0m \u001b[0mAS\u001b[0m \u001b[0mlist\u001b[0m\u001b[0;34m;\u001b[0m\u001b[0;34m\u001b[0m\u001b[0;34m\u001b[0m\u001b[0m\n\u001b[1;32m      8\u001b[0m \t\t\t\t\t\t\t\"\"\"\n\u001b[0;32m----> 9\u001b[0;31m         \u001b[0;32mfor\u001b[0m \u001b[0mrow\u001b[0m \u001b[0;32min\u001b[0m \u001b[0mg\u001b[0m\u001b[0;34m.\u001b[0m\u001b[0mrun\u001b[0m\u001b[0;34m(\u001b[0m\u001b[0mquery\u001b[0m\u001b[0;34m,\u001b[0m \u001b[0mwid\u001b[0m\u001b[0;34m=\u001b[0m\u001b[0mamenity\u001b[0m\u001b[0;34m,\u001b[0m \u001b[0mk\u001b[0m\u001b[0;34m=\u001b[0m\u001b[0mtopK\u001b[0m\u001b[0;34m)\u001b[0m\u001b[0;34m:\u001b[0m\u001b[0;34m\u001b[0m\u001b[0;34m\u001b[0m\u001b[0m\n\u001b[0m\u001b[1;32m     10\u001b[0m                 \u001b[0mprocessed\u001b[0m\u001b[0;34m=\u001b[0m\u001b[0mre\u001b[0m\u001b[0;34m.\u001b[0m\u001b[0msub\u001b[0m\u001b[0;34m(\u001b[0m\u001b[0;34m'[^a-zA-Z0-9]+'\u001b[0m\u001b[0;34m,\u001b[0m \u001b[0;34m' '\u001b[0m\u001b[0;34m,\u001b[0m \u001b[0mrow\u001b[0m\u001b[0;34m[\u001b[0m\u001b[0;36m0\u001b[0m\u001b[0;34m]\u001b[0m\u001b[0;34m)\u001b[0m\u001b[0;34m\u001b[0m\u001b[0;34m\u001b[0m\u001b[0m\n\u001b[1;32m     11\u001b[0m                 \u001b[0mconcepts\u001b[0m\u001b[0;34m+=\u001b[0m\u001b[0mstr\u001b[0m\u001b[0;34m(\u001b[0m\u001b[0mprocessed\u001b[0m\u001b[0;34m)\u001b[0m\u001b[0;34m+\u001b[0m\u001b[0;34m\",\"\u001b[0m\u001b[0;34m\u001b[0m\u001b[0;34m\u001b[0m\u001b[0m\n",
      "\u001b[0;32m/opt/anaconda3/lib/python3.8/site-packages/py2neo/database.py\u001b[0m in \u001b[0;36mrun\u001b[0;34m(self, cypher, parameters, **kwparameters)\u001b[0m\n\u001b[1;32m    403\u001b[0m         \u001b[0;34m:\u001b[0m\u001b[0;32mreturn\u001b[0m\u001b[0;34m:\u001b[0m\u001b[0;34m\u001b[0m\u001b[0;34m\u001b[0m\u001b[0m\n\u001b[1;32m    404\u001b[0m         \"\"\"\n\u001b[0;32m--> 405\u001b[0;31m         \u001b[0;32mreturn\u001b[0m \u001b[0mself\u001b[0m\u001b[0;34m.\u001b[0m\u001b[0mauto\u001b[0m\u001b[0;34m(\u001b[0m\u001b[0;34m)\u001b[0m\u001b[0;34m.\u001b[0m\u001b[0mrun\u001b[0m\u001b[0;34m(\u001b[0m\u001b[0mcypher\u001b[0m\u001b[0;34m,\u001b[0m \u001b[0mparameters\u001b[0m\u001b[0;34m,\u001b[0m \u001b[0;34m**\u001b[0m\u001b[0mkwparameters\u001b[0m\u001b[0;34m)\u001b[0m\u001b[0;34m\u001b[0m\u001b[0;34m\u001b[0m\u001b[0m\n\u001b[0m\u001b[1;32m    406\u001b[0m \u001b[0;34m\u001b[0m\u001b[0m\n\u001b[1;32m    407\u001b[0m     \u001b[0;32mdef\u001b[0m \u001b[0mevaluate\u001b[0m\u001b[0;34m(\u001b[0m\u001b[0mself\u001b[0m\u001b[0;34m,\u001b[0m \u001b[0mcypher\u001b[0m\u001b[0;34m,\u001b[0m \u001b[0mparameters\u001b[0m\u001b[0;34m=\u001b[0m\u001b[0;32mNone\u001b[0m\u001b[0;34m,\u001b[0m \u001b[0;34m**\u001b[0m\u001b[0mkwparameters\u001b[0m\u001b[0;34m)\u001b[0m\u001b[0;34m:\u001b[0m\u001b[0;34m\u001b[0m\u001b[0;34m\u001b[0m\u001b[0m\n",
      "\u001b[0;32m/opt/anaconda3/lib/python3.8/site-packages/py2neo/database.py\u001b[0m in \u001b[0;36mrun\u001b[0;34m(self, cypher, parameters, **kwparameters)\u001b[0m\n\u001b[1;32m    990\u001b[0m                                                   \u001b[0mgraph_name\u001b[0m\u001b[0;34m=\u001b[0m\u001b[0mself\u001b[0m\u001b[0;34m.\u001b[0m\u001b[0mgraph\u001b[0m\u001b[0;34m.\u001b[0m\u001b[0mname\u001b[0m\u001b[0;34m,\u001b[0m\u001b[0;34m\u001b[0m\u001b[0;34m\u001b[0m\u001b[0m\n\u001b[1;32m    991\u001b[0m                                                   readonly=self.readonly)\n\u001b[0;32m--> 992\u001b[0;31m             \u001b[0mself\u001b[0m\u001b[0;34m.\u001b[0m\u001b[0m_connector\u001b[0m\u001b[0;34m.\u001b[0m\u001b[0mpull\u001b[0m\u001b[0;34m(\u001b[0m\u001b[0mresult\u001b[0m\u001b[0;34m,\u001b[0m \u001b[0;34m-\u001b[0m\u001b[0;36m1\u001b[0m\u001b[0;34m)\u001b[0m\u001b[0;34m\u001b[0m\u001b[0;34m\u001b[0m\u001b[0m\n\u001b[0m\u001b[1;32m    993\u001b[0m             \u001b[0;32mreturn\u001b[0m \u001b[0mCursor\u001b[0m\u001b[0;34m(\u001b[0m\u001b[0mresult\u001b[0m\u001b[0;34m,\u001b[0m \u001b[0mhydrant\u001b[0m\u001b[0;34m)\u001b[0m\u001b[0;34m\u001b[0m\u001b[0;34m\u001b[0m\u001b[0m\n\u001b[1;32m    994\u001b[0m         \u001b[0;32mfinally\u001b[0m\u001b[0;34m:\u001b[0m\u001b[0;34m\u001b[0m\u001b[0;34m\u001b[0m\u001b[0m\n",
      "\u001b[0;32m/opt/anaconda3/lib/python3.8/site-packages/py2neo/client/__init__.py\u001b[0m in \u001b[0;36mpull\u001b[0;34m(self, result, n)\u001b[0m\n\u001b[1;32m   1432\u001b[0m         \u001b[0mcx\u001b[0m \u001b[0;34m=\u001b[0m \u001b[0mself\u001b[0m\u001b[0;34m.\u001b[0m\u001b[0m_reacquire\u001b[0m\u001b[0;34m(\u001b[0m\u001b[0mresult\u001b[0m\u001b[0;34m.\u001b[0m\u001b[0mtransaction\u001b[0m\u001b[0;34m)\u001b[0m\u001b[0;34m\u001b[0m\u001b[0;34m\u001b[0m\u001b[0m\n\u001b[1;32m   1433\u001b[0m         \u001b[0;32mtry\u001b[0m\u001b[0;34m:\u001b[0m\u001b[0;34m\u001b[0m\u001b[0;34m\u001b[0m\u001b[0m\n\u001b[0;32m-> 1434\u001b[0;31m             \u001b[0mcx\u001b[0m\u001b[0;34m.\u001b[0m\u001b[0mpull\u001b[0m\u001b[0;34m(\u001b[0m\u001b[0mresult\u001b[0m\u001b[0;34m,\u001b[0m \u001b[0mn\u001b[0m\u001b[0;34m=\u001b[0m\u001b[0mn\u001b[0m\u001b[0;34m)\u001b[0m\u001b[0;34m\u001b[0m\u001b[0;34m\u001b[0m\u001b[0m\n\u001b[0m\u001b[1;32m   1435\u001b[0m         \u001b[0;32mexcept\u001b[0m \u001b[0;34m(\u001b[0m\u001b[0mConnectionUnavailable\u001b[0m\u001b[0;34m,\u001b[0m \u001b[0mConnectionBroken\u001b[0m\u001b[0;34m)\u001b[0m\u001b[0;34m:\u001b[0m\u001b[0;34m\u001b[0m\u001b[0;34m\u001b[0m\u001b[0m\n\u001b[1;32m   1436\u001b[0m             \u001b[0mself\u001b[0m\u001b[0;34m.\u001b[0m\u001b[0mprune\u001b[0m\u001b[0;34m(\u001b[0m\u001b[0mcx\u001b[0m\u001b[0;34m.\u001b[0m\u001b[0mprofile\u001b[0m\u001b[0;34m)\u001b[0m\u001b[0;34m\u001b[0m\u001b[0;34m\u001b[0m\u001b[0m\n",
      "\u001b[0;32m/opt/anaconda3/lib/python3.8/site-packages/py2neo/client/bolt.py\u001b[0m in \u001b[0;36mpull\u001b[0;34m(self, result, n, capacity)\u001b[0m\n\u001b[1;32m    617\u001b[0m                                         \"during pull\"), error)\n\u001b[1;32m    618\u001b[0m         \u001b[0;32melse\u001b[0m\u001b[0;34m:\u001b[0m\u001b[0;34m\u001b[0m\u001b[0;34m\u001b[0m\u001b[0m\n\u001b[0;32m--> 619\u001b[0;31m             \u001b[0mself\u001b[0m\u001b[0;34m.\u001b[0m\u001b[0m_audit\u001b[0m\u001b[0;34m(\u001b[0m\u001b[0mself\u001b[0m\u001b[0;34m.\u001b[0m\u001b[0m_transaction\u001b[0m\u001b[0;34m)\u001b[0m\u001b[0;34m\u001b[0m\u001b[0;34m\u001b[0m\u001b[0m\n\u001b[0m\u001b[1;32m    620\u001b[0m             \u001b[0;32mreturn\u001b[0m \u001b[0mresponse\u001b[0m\u001b[0;34m\u001b[0m\u001b[0;34m\u001b[0m\u001b[0m\n\u001b[1;32m    621\u001b[0m \u001b[0;34m\u001b[0m\u001b[0m\n",
      "\u001b[0;32m/opt/anaconda3/lib/python3.8/site-packages/py2neo/client/bolt.py\u001b[0m in \u001b[0;36m_audit\u001b[0;34m(self, task)\u001b[0m\n\u001b[1;32m    808\u001b[0m             \u001b[0;32mreturn\u001b[0m\u001b[0;34m\u001b[0m\u001b[0;34m\u001b[0m\u001b[0m\n\u001b[1;32m    809\u001b[0m         \u001b[0;32mtry\u001b[0m\u001b[0;34m:\u001b[0m\u001b[0;34m\u001b[0m\u001b[0;34m\u001b[0m\u001b[0m\n\u001b[0;32m--> 810\u001b[0;31m             \u001b[0mtask\u001b[0m\u001b[0;34m.\u001b[0m\u001b[0maudit\u001b[0m\u001b[0;34m(\u001b[0m\u001b[0;34m)\u001b[0m\u001b[0;34m\u001b[0m\u001b[0;34m\u001b[0m\u001b[0m\n\u001b[0m\u001b[1;32m    811\u001b[0m         \u001b[0;32mexcept\u001b[0m \u001b[0mNeo4jError\u001b[0m\u001b[0;34m:\u001b[0m\u001b[0;34m\u001b[0m\u001b[0;34m\u001b[0m\u001b[0m\n\u001b[1;32m    812\u001b[0m             \u001b[0mself\u001b[0m\u001b[0;34m.\u001b[0m\u001b[0mreset\u001b[0m\u001b[0;34m(\u001b[0m\u001b[0mforce\u001b[0m\u001b[0;34m=\u001b[0m\u001b[0;32mTrue\u001b[0m\u001b[0;34m)\u001b[0m\u001b[0;34m\u001b[0m\u001b[0;34m\u001b[0m\u001b[0m\n",
      "\u001b[0;32m/opt/anaconda3/lib/python3.8/site-packages/py2neo/client/bolt.py\u001b[0m in \u001b[0;36maudit\u001b[0;34m(self)\u001b[0m\n\u001b[1;32m   1138\u001b[0m     \u001b[0;32mdef\u001b[0m \u001b[0maudit\u001b[0m\u001b[0;34m(\u001b[0m\u001b[0mself\u001b[0m\u001b[0;34m)\u001b[0m\u001b[0;34m:\u001b[0m\u001b[0;34m\u001b[0m\u001b[0;34m\u001b[0m\u001b[0m\n\u001b[1;32m   1139\u001b[0m         \u001b[0;32mfor\u001b[0m \u001b[0mitem\u001b[0m \u001b[0;32min\u001b[0m \u001b[0mself\u001b[0m\u001b[0;34m.\u001b[0m\u001b[0m_items\u001b[0m\u001b[0;34m:\u001b[0m\u001b[0;34m\u001b[0m\u001b[0;34m\u001b[0m\u001b[0m\n\u001b[0;32m-> 1140\u001b[0;31m             \u001b[0mitem\u001b[0m\u001b[0;34m.\u001b[0m\u001b[0maudit\u001b[0m\u001b[0;34m(\u001b[0m\u001b[0;34m)\u001b[0m\u001b[0;34m\u001b[0m\u001b[0;34m\u001b[0m\u001b[0m\n\u001b[0m\u001b[1;32m   1141\u001b[0m \u001b[0;34m\u001b[0m\u001b[0m\n\u001b[1;32m   1142\u001b[0m \u001b[0;34m\u001b[0m\u001b[0m\n",
      "\u001b[0;32m/opt/anaconda3/lib/python3.8/site-packages/py2neo/client/bolt.py\u001b[0m in \u001b[0;36maudit\u001b[0;34m(self)\u001b[0m\n\u001b[1;32m   1138\u001b[0m     \u001b[0;32mdef\u001b[0m \u001b[0maudit\u001b[0m\u001b[0;34m(\u001b[0m\u001b[0mself\u001b[0m\u001b[0;34m)\u001b[0m\u001b[0;34m:\u001b[0m\u001b[0;34m\u001b[0m\u001b[0;34m\u001b[0m\u001b[0m\n\u001b[1;32m   1139\u001b[0m         \u001b[0;32mfor\u001b[0m \u001b[0mitem\u001b[0m \u001b[0;32min\u001b[0m \u001b[0mself\u001b[0m\u001b[0;34m.\u001b[0m\u001b[0m_items\u001b[0m\u001b[0;34m:\u001b[0m\u001b[0;34m\u001b[0m\u001b[0;34m\u001b[0m\u001b[0m\n\u001b[0;32m-> 1140\u001b[0;31m             \u001b[0mitem\u001b[0m\u001b[0;34m.\u001b[0m\u001b[0maudit\u001b[0m\u001b[0;34m(\u001b[0m\u001b[0;34m)\u001b[0m\u001b[0;34m\u001b[0m\u001b[0;34m\u001b[0m\u001b[0m\n\u001b[0m\u001b[1;32m   1141\u001b[0m \u001b[0;34m\u001b[0m\u001b[0m\n\u001b[1;32m   1142\u001b[0m \u001b[0;34m\u001b[0m\u001b[0m\n",
      "\u001b[0;32m/opt/anaconda3/lib/python3.8/site-packages/py2neo/client/bolt.py\u001b[0m in \u001b[0;36maudit\u001b[0;34m(self)\u001b[0m\n\u001b[1;32m   1301\u001b[0m         \u001b[0;32mif\u001b[0m \u001b[0mself\u001b[0m\u001b[0;34m.\u001b[0m\u001b[0m_failure\u001b[0m\u001b[0;34m:\u001b[0m\u001b[0;34m\u001b[0m\u001b[0;34m\u001b[0m\u001b[0m\n\u001b[1;32m   1302\u001b[0m             \u001b[0mself\u001b[0m\u001b[0;34m.\u001b[0m\u001b[0mset_ignored\u001b[0m\u001b[0;34m(\u001b[0m\u001b[0;34m)\u001b[0m\u001b[0;34m\u001b[0m\u001b[0;34m\u001b[0m\u001b[0m\n\u001b[0;32m-> 1303\u001b[0;31m             \u001b[0;32mraise\u001b[0m \u001b[0mself\u001b[0m\u001b[0;34m.\u001b[0m\u001b[0m_failure\u001b[0m\u001b[0;34m\u001b[0m\u001b[0;34m\u001b[0m\u001b[0m\n\u001b[0m\u001b[1;32m   1304\u001b[0m \u001b[0;34m\u001b[0m\u001b[0m\n\u001b[1;32m   1305\u001b[0m     \u001b[0;34m@\u001b[0m\u001b[0mproperty\u001b[0m\u001b[0;34m\u001b[0m\u001b[0;34m\u001b[0m\u001b[0m\n",
      "\u001b[0;31mClientError\u001b[0m: [Procedure.ProcedureCallFailed] Failed to invoke procedure `ga.nlp.ml.word2vec.nn`: Caused by: java.lang.RuntimeException: Word2vec model not found"
     ]
    }
   ],
   "source": [
    "dic = dict()\n",
    "\n",
    "def realTimeRecommendation(amenity,topK):\t\t\n",
    "\tconcepts=\"\"\n",
    "\n",
    "\tquery = \"\"\"\n",
    "\t\t\t\t\t\t\tCALL ga.nlp.ml.word2vec.nn($wid, $k, 'en-ConceptNet5') YIELD word, distance RETURN word AS list;\n",
    "\t\t\t\t\t\t\t\"\"\"\n",
    "\tfor row in g.run(query, wid=amenity, k=topK):\n",
    "\t\tprocessed=re.sub('[^a-zA-Z0-9]+', ' ', row[0])\n",
    "\t\tconcepts+=str(processed)+\",\"\n",
    "\t\n",
    "\tprint(amenity+\" concepts cached\")\n",
    "\tamenity=str(amenity)\n",
    "\tdic[amenity] = dic.get(amenity, [])\n",
    "\tdic[amenity].append(concepts.rstrip(',')) \n",
    "\n",
    "for amenity in amenities:\n",
    "\ttry:\n",
    "\t\tamen = amenity.split(' ')\n",
    "\t\tfor a in amen:\n",
    "\t\t\trealTimeRecommendation(str(a.lower()),10)\n",
    "\texcept:\n",
    "\t\tprint('no split character')\n",
    "\t\trealTimeRecommendation(str(amenity.lower()),10)\n",
    "\n",
    "    "
   ]
  },
  {
   "cell_type": "code",
   "execution_count": null,
   "id": "24a67e26",
   "metadata": {},
   "outputs": [],
   "source": [
    "dic"
   ]
  },
  {
   "cell_type": "code",
   "execution_count": 5,
   "id": "bf9b85e5",
   "metadata": {},
   "outputs": [],
   "source": [
    "import json\n",
    "with open('RASA_ConceptNet5/mem_cache_conceptNet5.json', 'w') as outfile:\n",
    "    json.dump(dic,outfile)"
   ]
  },
  {
   "cell_type": "code",
   "execution_count": 6,
   "id": "4d30249c",
   "metadata": {},
   "outputs": [],
   "source": [
    "outfile.close()"
   ]
  },
  {
   "cell_type": "code",
   "execution_count": 7,
   "id": "3d67dd10",
   "metadata": {},
   "outputs": [
    {
     "name": "stdout",
     "output_type": "stream",
     "text": [
      "['refrigerator,minirefrigerator,keep food cold,keeping food cold,electric refrigerator,ice safe,frigerator,cool food,fridge,microfridge', 'refrigerator,minirefrigerator,keep food cold,keeping food cold,electric refrigerator,ice safe,frigerator,cool food,fridge,microfridge', 'refrigerator,minirefrigerator,keep food cold,keeping food cold,electric refrigerator,ice safe,frigerator,cool food,fridge,microfridge', 'refrigerator,minirefrigerator,keep food cold,keeping food cold,electric refrigerator,ice safe,frigerator,cool food,fridge,microfridge', 'refrigerator,minirefrigerator,keep food cold,keeping food cold,electric refrigerator,ice safe,frigerator,cool food,fridge,microfridge', 'refrigerator,minirefrigerator,keep food cold,keeping food cold,electric refrigerator,ice safe,frigerator,cool food,fridge,microfridge', 'refrigerator,minirefrigerator,keep food cold,keeping food cold,electric refrigerator,ice safe,frigerator,cool food,fridge,microfridge', 'refrigerator,minirefrigerator,keep food cold,keeping food cold,electric refrigerator,ice safe,frigerator,cool food,fridge,microfridge', 'refrigerator,minirefrigerator,keep food cold,keeping food cold,electric refrigerator,ice safe,frigerator,cool food,fridge,microfridge', 'refrigerator,minirefrigerator,keep food cold,keeping food cold,electric refrigerator,ice safe,frigerator,cool food,fridge,microfridge', 'refrigerator,minirefrigerator,keep food cold,keeping food cold,electric refrigerator,ice safe,frigerator,cool food,fridge,microfridge', 'refrigerator,minirefrigerator,keep food cold,keeping food cold,electric refrigerator,ice safe,frigerator,cool food,fridge,microfridge', 'refrigerator,minirefrigerator,keep food cold,keeping food cold,electric refrigerator,ice safe,frigerator,cool food,fridge,microfridge', 'refrigerator,minirefrigerator,keep food cold,keeping food cold,electric refrigerator,ice safe,frigerator,cool food,fridge,microfridge', 'refrigerator,minirefrigerator,keep food cold,keeping food cold,electric refrigerator,ice safe,frigerator,cool food,fridge,microfridge', 'refrigerator,minirefrigerator,keep food cold,keeping food cold,electric refrigerator,ice safe,frigerator,cool food,fridge,microfridge', 'refrigerator,minirefrigerator,keep food cold,keeping food cold,electric refrigerator,ice safe,frigerator,cool food,fridge,microfridge', 'refrigerator,minirefrigerator,keep food cold,keeping food cold,electric refrigerator,ice safe,frigerator,cool food,fridge,microfridge', 'refrigerator,minirefrigerator,keep food cold,keeping food cold,electric refrigerator,ice safe,frigerator,cool food,fridge,microfridge', 'refrigerator,minirefrigerator,keep food cold,keeping food cold,electric refrigerator,ice safe,frigerator,cool food,fridge,microfridge', 'refrigerator,minirefrigerator,keep food cold,keeping food cold,electric refrigerator,ice safe,frigerator,cool food,fridge,microfridge', 'refrigerator,minirefrigerator,keep food cold,keeping food cold,electric refrigerator,ice safe,frigerator,cool food,fridge,microfridge', 'refrigerator,minirefrigerator,keep food cold,keeping food cold,electric refrigerator,ice safe,frigerator,cool food,fridge,microfridge', 'refrigerator,minirefrigerator,keep food cold,keeping food cold,electric refrigerator,ice safe,frigerator,cool food,fridge,microfridge', 'refrigerator,minirefrigerator,keep food cold,keeping food cold,electric refrigerator,ice safe,frigerator,cool food,fridge,microfridge', 'refrigerator,minirefrigerator,keep food cold,keeping food cold,electric refrigerator,ice safe,frigerator,cool food,fridge,microfridge', 'refrigerator,minirefrigerator,keep food cold,keeping food cold,electric refrigerator,ice safe,frigerator,cool food,fridge,microfridge', 'refrigerator,minirefrigerator,keep food cold,keeping food cold,electric refrigerator,ice safe,frigerator,cool food,fridge,microfridge', 'refrigerator,minirefrigerator,keep food cold,keeping food cold,electric refrigerator,ice safe,frigerator,cool food,fridge,microfridge', 'refrigerator,minirefrigerator,keep food cold,keeping food cold,electric refrigerator,ice safe,frigerator,cool food,fridge,microfridge', 'refrigerator,minirefrigerator,keep food cold,keeping food cold,electric refrigerator,ice safe,frigerator,cool food,fridge,microfridge', 'refrigerator,minirefrigerator,keep food cold,keeping food cold,electric refrigerator,ice safe,frigerator,cool food,fridge,microfridge', 'refrigerator,minirefrigerator,keep food cold,keeping food cold,electric refrigerator,ice safe,frigerator,cool food,fridge,microfridge', 'refrigerator,minirefrigerator,keep food cold,keeping food cold,electric refrigerator,ice safe,frigerator,cool food,fridge,microfridge', 'refrigerator,minirefrigerator,keep food cold,keeping food cold,electric refrigerator,ice safe,frigerator,cool food,fridge,microfridge', 'refrigerator,minirefrigerator,keep food cold,keeping food cold,electric refrigerator,ice safe,frigerator,cool food,fridge,microfridge', 'refrigerator,minirefrigerator,keep food cold,keeping food cold,electric refrigerator,ice safe,frigerator,cool food,fridge,microfridge', 'refrigerator,minirefrigerator,keep food cold,keeping food cold,electric refrigerator,ice safe,frigerator,cool food,fridge,microfridge', 'refrigerator,minirefrigerator,keep food cold,keeping food cold,electric refrigerator,ice safe,frigerator,cool food,fridge,microfridge', 'refrigerator,minirefrigerator,keep food cold,keeping food cold,electric refrigerator,ice safe,frigerator,cool food,fridge,microfridge', 'refrigerator,minirefrigerator,keep food cold,keeping food cold,electric refrigerator,ice safe,frigerator,cool food,fridge,microfridge', 'refrigerator,minirefrigerator,keep food cold,keeping food cold,electric refrigerator,ice safe,frigerator,cool food,fridge,microfridge', 'refrigerator,minirefrigerator,keep food cold,keeping food cold,electric refrigerator,ice safe,frigerator,cool food,fridge,microfridge', 'refrigerator,minirefrigerator,keep food cold,keeping food cold,electric refrigerator,ice safe,frigerator,cool food,fridge,microfridge', 'refrigerator,minirefrigerator,keep food cold,keeping food cold,electric refrigerator,ice safe,frigerator,cool food,fridge,microfridge', 'refrigerator,minirefrigerator,keep food cold,keeping food cold,electric refrigerator,ice safe,frigerator,cool food,fridge,microfridge', 'refrigerator,minirefrigerator,keep food cold,keeping food cold,electric refrigerator,ice safe,frigerator,cool food,fridge,microfridge']\n"
     ]
    }
   ],
   "source": [
    "data={}\n",
    "with open('RASA_ConceptNet5/mem_cache_conceptNet5.json') as json_file:\n",
    "    data = json.load(json_file)\n",
    "\n",
    "\n",
    "if 'refrigerator' in data:\n",
    "    print(data['refrigerator'])"
   ]
  },
  {
   "cell_type": "code",
   "execution_count": 8,
   "id": "b3858a32",
   "metadata": {},
   "outputs": [
    {
     "name": "stdout",
     "output_type": "stream",
     "text": [
      "[{\"a\": 1, \"b\": 2}]\n"
     ]
    }
   ],
   "source": [
    "import string \n",
    "strP = '{\"image\":\"https://a0.muscache.com/pictures/10272854/8dcca016_original.jpg\"}'\n",
    "strP = strP.strip(\"'\")\n",
    "strP\n",
    "\n",
    "import json\n",
    "dic={}\n",
    "dic['a'] = 1\n",
    "dic['b'] = 2\n",
    "aList=[]\n",
    "aList.append(dic)\n",
    "\n",
    "jsonStr = json.dumps(aList)\n",
    "print(jsonStr)"
   ]
  }
 ],
 "metadata": {
  "kernelspec": {
   "display_name": "Python 3",
   "language": "python",
   "name": "python3"
  },
  "language_info": {
   "codemirror_mode": {
    "name": "ipython",
    "version": 3
   },
   "file_extension": ".py",
   "mimetype": "text/x-python",
   "name": "python",
   "nbconvert_exporter": "python",
   "pygments_lexer": "ipython3",
   "version": "3.8.8"
  }
 },
 "nbformat": 4,
 "nbformat_minor": 5
}
