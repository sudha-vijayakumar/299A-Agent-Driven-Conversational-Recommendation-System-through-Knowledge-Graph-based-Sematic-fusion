{
 "cells": [
  {
   "cell_type": "code",
   "execution_count": 1,
   "id": "c13d5a6a",
   "metadata": {},
   "outputs": [
    {
     "name": "stdout",
     "output_type": "stream",
     "text": [
      "Requirement already satisfied: tweepy in /Users/sudhavijayakumar/opt/anaconda3/lib/python3.8/site-packages (3.10.0)\n",
      "Requirement already satisfied: requests[socks]>=2.11.1 in /Users/sudhavijayakumar/opt/anaconda3/lib/python3.8/site-packages (from tweepy) (2.26.0)\n",
      "Requirement already satisfied: requests-oauthlib>=0.7.0 in /Users/sudhavijayakumar/opt/anaconda3/lib/python3.8/site-packages (from tweepy) (1.3.0)\n",
      "Requirement already satisfied: six>=1.10.0 in /Users/sudhavijayakumar/opt/anaconda3/lib/python3.8/site-packages (from tweepy) (1.16.0)\n",
      "Requirement already satisfied: oauthlib>=3.0.0 in /Users/sudhavijayakumar/opt/anaconda3/lib/python3.8/site-packages (from requests-oauthlib>=0.7.0->tweepy) (3.1.1)\n",
      "Requirement already satisfied: charset-normalizer~=2.0.0 in /Users/sudhavijayakumar/opt/anaconda3/lib/python3.8/site-packages (from requests[socks]>=2.11.1->tweepy) (2.0.4)\n",
      "Requirement already satisfied: idna<4,>=2.5 in /Users/sudhavijayakumar/opt/anaconda3/lib/python3.8/site-packages (from requests[socks]>=2.11.1->tweepy) (3.2)\n",
      "Requirement already satisfied: certifi>=2017.4.17 in /Users/sudhavijayakumar/opt/anaconda3/lib/python3.8/site-packages (from requests[socks]>=2.11.1->tweepy) (2021.5.30)\n",
      "Requirement already satisfied: urllib3<1.27,>=1.21.1 in /Users/sudhavijayakumar/opt/anaconda3/lib/python3.8/site-packages (from requests[socks]>=2.11.1->tweepy) (1.26.6)\n",
      "Requirement already satisfied: PySocks!=1.5.7,>=1.5.6 in /Users/sudhavijayakumar/opt/anaconda3/lib/python3.8/site-packages (from requests[socks]>=2.11.1->tweepy) (1.7.1)\n",
      "Requirement already satisfied: textblob in /Users/sudhavijayakumar/opt/anaconda3/lib/python3.8/site-packages (0.15.3)\n",
      "Requirement already satisfied: nltk>=3.1 in /Users/sudhavijayakumar/opt/anaconda3/lib/python3.8/site-packages (from textblob) (3.6.2)\n",
      "Requirement already satisfied: joblib in /Users/sudhavijayakumar/opt/anaconda3/lib/python3.8/site-packages (from nltk>=3.1->textblob) (1.0.1)\n",
      "Requirement already satisfied: regex in /Users/sudhavijayakumar/opt/anaconda3/lib/python3.8/site-packages (from nltk>=3.1->textblob) (2021.8.3)\n",
      "Requirement already satisfied: tqdm in /Users/sudhavijayakumar/opt/anaconda3/lib/python3.8/site-packages (from nltk>=3.1->textblob) (4.62.2)\n",
      "Requirement already satisfied: click in /Users/sudhavijayakumar/opt/anaconda3/lib/python3.8/site-packages (from nltk>=3.1->textblob) (8.0.1)\n",
      "Requirement already satisfied: pycountry in /Users/sudhavijayakumar/opt/anaconda3/lib/python3.8/site-packages (20.7.3)\n",
      "Requirement already satisfied: wordcloud in /Users/sudhavijayakumar/opt/anaconda3/lib/python3.8/site-packages (1.8.1)\n",
      "Requirement already satisfied: matplotlib in /Users/sudhavijayakumar/opt/anaconda3/lib/python3.8/site-packages (from wordcloud) (3.4.2)\n",
      "Requirement already satisfied: numpy>=1.6.1 in /Users/sudhavijayakumar/opt/anaconda3/lib/python3.8/site-packages (from wordcloud) (1.20.1)\n",
      "Requirement already satisfied: pillow in /Users/sudhavijayakumar/opt/anaconda3/lib/python3.8/site-packages (from wordcloud) (8.3.1)\n",
      "Requirement already satisfied: pyparsing>=2.2.1 in /Users/sudhavijayakumar/opt/anaconda3/lib/python3.8/site-packages (from matplotlib->wordcloud) (2.4.7)\n",
      "Requirement already satisfied: kiwisolver>=1.0.1 in /Users/sudhavijayakumar/opt/anaconda3/lib/python3.8/site-packages (from matplotlib->wordcloud) (1.3.1)\n",
      "Requirement already satisfied: cycler>=0.10 in /Users/sudhavijayakumar/opt/anaconda3/lib/python3.8/site-packages (from matplotlib->wordcloud) (0.10.0)\n",
      "Requirement already satisfied: python-dateutil>=2.7 in /Users/sudhavijayakumar/opt/anaconda3/lib/python3.8/site-packages (from matplotlib->wordcloud) (2.8.2)\n",
      "Requirement already satisfied: six in /Users/sudhavijayakumar/opt/anaconda3/lib/python3.8/site-packages (from cycler>=0.10->matplotlib->wordcloud) (1.16.0)\n",
      "Requirement already satisfied: nltk in /Users/sudhavijayakumar/opt/anaconda3/lib/python3.8/site-packages (3.6.2)\n",
      "Requirement already satisfied: regex in /Users/sudhavijayakumar/opt/anaconda3/lib/python3.8/site-packages (from nltk) (2021.8.3)\n",
      "Requirement already satisfied: click in /Users/sudhavijayakumar/opt/anaconda3/lib/python3.8/site-packages (from nltk) (8.0.1)\n",
      "Requirement already satisfied: tqdm in /Users/sudhavijayakumar/opt/anaconda3/lib/python3.8/site-packages (from nltk) (4.62.2)\n",
      "Requirement already satisfied: joblib in /Users/sudhavijayakumar/opt/anaconda3/lib/python3.8/site-packages (from nltk) (1.0.1)\n"
     ]
    }
   ],
   "source": [
    "!pip install tweepy\n",
    "!pip install textblob\n",
    "!pip install pycountry\n",
    "!pip install wordcloud\n",
    "!pip install nltk"
   ]
  },
  {
   "cell_type": "markdown",
   "id": "e12179bf-4e3f-4fcf-b642-be1952a8b9f9",
   "metadata": {},
   "source": [
    "### References:\n",
    "- https://towardsdatascience.com/how-to-scrape-more-information-from-tweets-on-twitter-44fd540b8a1f\n",
    "- https://medium.com/analytics-vidhya/fetch-tweets-using-their-ids-with-tweepy-twitter-api-and-python-ee7a22dcb845\n",
    "- https://towardsdatascience.com/an-extensive-guide-to-collecting-tweets-from-twitter-api-v2-for-academic-research-using-python-3-518fcb71df2a"
   ]
  },
  {
   "cell_type": "code",
   "execution_count": 2,
   "id": "a806a171-6629-475b-887f-600b1a6a3a29",
   "metadata": {},
   "outputs": [
    {
     "name": "stderr",
     "output_type": "stream",
     "text": [
      "[nltk_data] Downloading package vader_lexicon to\n",
      "[nltk_data]     /Users/sudhavijayakumar/nltk_data...\n",
      "[nltk_data]   Package vader_lexicon is already up-to-date!\n"
     ]
    },
    {
     "data": {
      "text/plain": [
       "True"
      ]
     },
     "execution_count": 2,
     "metadata": {},
     "output_type": "execute_result"
    }
   ],
   "source": [
    "import nltk\n",
    "nltk.download('vader_lexicon')"
   ]
  },
  {
   "cell_type": "markdown",
   "id": "3bf5ddda-39c9-41a8-a7bd-a75b5186aee3",
   "metadata": {},
   "source": [
    "## Authentication"
   ]
  },
  {
   "cell_type": "code",
   "execution_count": 15,
   "id": "6fd3292a-4556-4e09-803f-b86caa67e995",
   "metadata": {},
   "outputs": [],
   "source": [
    "import os\n",
    "def auth():\n",
    "    return 'AAAAAAAAAAAAAAAAAAAAAP2SSwEAAAAAP3YsyQMv3P23uXMjYkGxW8C1f7w%3DYrdvQJLTbIIeIqZYwV9DGw7LVoIpx3dv8X7i7FTCKxFuD8YTzc'"
   ]
  },
  {
   "cell_type": "code",
   "execution_count": 16,
   "id": "1dba0f68-207c-437b-9d37-a6ea02a28878",
   "metadata": {},
   "outputs": [],
   "source": [
    "def create_headers(bearer_token):\n",
    "    headers = {\"Authorization\": \"Bearer {}\".format(bearer_token)}\n",
    "    return headers"
   ]
  },
  {
   "cell_type": "markdown",
   "id": "f47f3c1a-5cac-4afd-9fb5-859ccefa0229",
   "metadata": {},
   "source": [
    "## Endpoint"
   ]
  },
  {
   "cell_type": "code",
   "execution_count": 17,
   "id": "eecc91b1-3ec4-4a03-bebb-555cd1ee7e0c",
   "metadata": {},
   "outputs": [],
   "source": [
    "def create_url(keyword, start_date, end_date, max_results = 10):\n",
    "    \n",
    "    search_url = \"https://api.twitter.com/2/tweets/search/all\" #Change to the endpoint you want to collect data from\n",
    "\n",
    "    #change params based on the endpoint you are using\n",
    "    query_params = {'query': keyword,\n",
    "                    'start_time': start_date,\n",
    "                    'end_time': end_date,\n",
    "                    'max_results': max_results,\n",
    "                    'expansions': 'author_id,in_reply_to_user_id,geo.place_id',\n",
    "                    'tweet.fields': 'id,text,author_id,in_reply_to_user_id,geo,conversation_id,created_at,lang,public_metrics,referenced_tweets,reply_settings,source',\n",
    "                    'user.fields': 'id,name,username,created_at,description,public_metrics,verified',\n",
    "                    'place.fields': 'full_name,id,country,country_code,geo,name,place_type',\n",
    "                    'next_token': {}}\n",
    "    return (search_url, query_params)"
   ]
  },
  {
   "cell_type": "code",
   "execution_count": 18,
   "id": "a32b3a8f-1b22-43ad-b836-eed0de36018e",
   "metadata": {},
   "outputs": [],
   "source": [
    "import requests\n",
    "def connect_to_endpoint(url, headers, params, next_token = None):\n",
    "    params['next_token'] = next_token   #params object received from create_url function\n",
    "    response = requests.request(\"GET\", url, headers = headers, params = params)\n",
    "    print(\"Endpoint Response Code: \" + str(response.status_code))\n",
    "    if response.status_code != 200:\n",
    "        raise Exception(response.status_code, response.text)\n",
    "    return response.json()"
   ]
  },
  {
   "cell_type": "code",
   "execution_count": 19,
   "id": "e00aeb8a-035b-48b0-be30-08160b2af536",
   "metadata": {},
   "outputs": [],
   "source": [
    "#Inputs for the request\n",
    "#Inputs for the request\n",
    "bearer_token = auth()\n",
    "headers = create_headers(bearer_token)\n",
    "keyword = \"xbox lang:en\"\n",
    "start_time = \"2021-03-01T00:00:00.000Z\"\n",
    "end_time = \"2021-03-31T00:00:00.000Z\"\n",
    "max_results = 15"
   ]
  },
  {
   "cell_type": "code",
   "execution_count": 20,
   "id": "487967cd-d954-48b0-8e41-c9d5f4cc208c",
   "metadata": {},
   "outputs": [
    {
     "name": "stdout",
     "output_type": "stream",
     "text": [
      "Endpoint Response Code: 403\n"
     ]
    },
    {
     "ename": "Exception",
     "evalue": "(403, '{\"client_id\":\"21730045\",\"detail\":\"When authenticating requests to the Twitter API v2 endpoints, you must use keys and tokens from a Twitter developer App that is attached to a Project. You can create a project via the developer portal.\",\"registration_url\":\"https://developer.twitter.com/en/docs/projects/overview\",\"title\":\"Client Forbidden\",\"required_enrollment\":\"Standard Basic\",\"reason\":\"client-not-enrolled\",\"type\":\"https://api.twitter.com/2/problems/client-forbidden\"}')",
     "output_type": "error",
     "traceback": [
      "\u001b[0;31m---------------------------------------------------------------------------\u001b[0m",
      "\u001b[0;31mException\u001b[0m                                 Traceback (most recent call last)",
      "\u001b[0;32m/var/folders/18/1rt0491s0d5c46mtpnlpm6000000gn/T/ipykernel_1500/2644998183.py\u001b[0m in \u001b[0;36m<module>\u001b[0;34m\u001b[0m\n\u001b[1;32m      1\u001b[0m \u001b[0murl\u001b[0m \u001b[0;34m=\u001b[0m \u001b[0mcreate_url\u001b[0m\u001b[0;34m(\u001b[0m\u001b[0mkeyword\u001b[0m\u001b[0;34m,\u001b[0m \u001b[0mstart_time\u001b[0m\u001b[0;34m,\u001b[0m\u001b[0mend_time\u001b[0m\u001b[0;34m,\u001b[0m \u001b[0mmax_results\u001b[0m\u001b[0;34m)\u001b[0m\u001b[0;34m\u001b[0m\u001b[0;34m\u001b[0m\u001b[0m\n\u001b[0;32m----> 2\u001b[0;31m \u001b[0mjson_response\u001b[0m \u001b[0;34m=\u001b[0m \u001b[0mconnect_to_endpoint\u001b[0m\u001b[0;34m(\u001b[0m\u001b[0murl\u001b[0m\u001b[0;34m[\u001b[0m\u001b[0;36m0\u001b[0m\u001b[0;34m]\u001b[0m\u001b[0;34m,\u001b[0m \u001b[0mheaders\u001b[0m\u001b[0;34m,\u001b[0m \u001b[0murl\u001b[0m\u001b[0;34m[\u001b[0m\u001b[0;36m1\u001b[0m\u001b[0;34m]\u001b[0m\u001b[0;34m)\u001b[0m\u001b[0;34m\u001b[0m\u001b[0;34m\u001b[0m\u001b[0m\n\u001b[0m",
      "\u001b[0;32m/var/folders/18/1rt0491s0d5c46mtpnlpm6000000gn/T/ipykernel_1500/1713732103.py\u001b[0m in \u001b[0;36mconnect_to_endpoint\u001b[0;34m(url, headers, params, next_token)\u001b[0m\n\u001b[1;32m      5\u001b[0m     \u001b[0mprint\u001b[0m\u001b[0;34m(\u001b[0m\u001b[0;34m\"Endpoint Response Code: \"\u001b[0m \u001b[0;34m+\u001b[0m \u001b[0mstr\u001b[0m\u001b[0;34m(\u001b[0m\u001b[0mresponse\u001b[0m\u001b[0;34m.\u001b[0m\u001b[0mstatus_code\u001b[0m\u001b[0;34m)\u001b[0m\u001b[0;34m)\u001b[0m\u001b[0;34m\u001b[0m\u001b[0;34m\u001b[0m\u001b[0m\n\u001b[1;32m      6\u001b[0m     \u001b[0;32mif\u001b[0m \u001b[0mresponse\u001b[0m\u001b[0;34m.\u001b[0m\u001b[0mstatus_code\u001b[0m \u001b[0;34m!=\u001b[0m \u001b[0;36m200\u001b[0m\u001b[0;34m:\u001b[0m\u001b[0;34m\u001b[0m\u001b[0;34m\u001b[0m\u001b[0m\n\u001b[0;32m----> 7\u001b[0;31m         \u001b[0;32mraise\u001b[0m \u001b[0mException\u001b[0m\u001b[0;34m(\u001b[0m\u001b[0mresponse\u001b[0m\u001b[0;34m.\u001b[0m\u001b[0mstatus_code\u001b[0m\u001b[0;34m,\u001b[0m \u001b[0mresponse\u001b[0m\u001b[0;34m.\u001b[0m\u001b[0mtext\u001b[0m\u001b[0;34m)\u001b[0m\u001b[0;34m\u001b[0m\u001b[0;34m\u001b[0m\u001b[0m\n\u001b[0m\u001b[1;32m      8\u001b[0m     \u001b[0;32mreturn\u001b[0m \u001b[0mresponse\u001b[0m\u001b[0;34m.\u001b[0m\u001b[0mjson\u001b[0m\u001b[0;34m(\u001b[0m\u001b[0;34m)\u001b[0m\u001b[0;34m\u001b[0m\u001b[0;34m\u001b[0m\u001b[0m\n",
      "\u001b[0;31mException\u001b[0m: (403, '{\"client_id\":\"21730045\",\"detail\":\"When authenticating requests to the Twitter API v2 endpoints, you must use keys and tokens from a Twitter developer App that is attached to a Project. You can create a project via the developer portal.\",\"registration_url\":\"https://developer.twitter.com/en/docs/projects/overview\",\"title\":\"Client Forbidden\",\"required_enrollment\":\"Standard Basic\",\"reason\":\"client-not-enrolled\",\"type\":\"https://api.twitter.com/2/problems/client-forbidden\"}')"
     ]
    }
   ],
   "source": [
    "url = create_url(keyword, start_time,end_time, max_results)\n",
    "json_response = connect_to_endpoint(url[0], headers, url[1])"
   ]
  },
  {
   "cell_type": "code",
   "execution_count": null,
   "id": "ee712be9-8c1c-499c-ad6a-752034ddea2e",
   "metadata": {},
   "outputs": [],
   "source": [
    "json_response"
   ]
  },
  {
   "cell_type": "markdown",
   "id": "814173a9",
   "metadata": {},
   "source": [
    "### Read & Save Raw tweets"
   ]
  },
  {
   "cell_type": "code",
   "execution_count": 21,
   "id": "6dd7e6e0",
   "metadata": {},
   "outputs": [],
   "source": [
    "import os\n",
    "import tweepy as tw\n",
    "import pandas as pd\n",
    "import time"
   ]
  },
  {
   "cell_type": "code",
   "execution_count": 30,
   "id": "2184141a-a79a-48aa-b694-dea5e11179da",
   "metadata": {},
   "outputs": [],
   "source": [
    "def limit_handled(cursor, list_name):\n",
    "    while True:\n",
    "        try:\n",
    "            yield cursor.next()\n",
    "            # Catch Twitter API rate limit exception and wait for 15 minutes\n",
    "        except tweepy.RateLimitError:\n",
    "            print(\"\\nData points in list = {}\".format(len(list_name)))\n",
    "            print('Hit Twitter API rate limit.')\n",
    "            for i in range(3, 0, -1):\n",
    "                print(\"Wait for {} mins.\".format(i * 5))\n",
    "                time.sleep(5 * 60)\n",
    "        # Catch any other Twitter API exceptions\n",
    "        except tweepy.error.TweepError:\n",
    "            print('\\nCaught TweepError exception' )"
   ]
  },
  {
   "cell_type": "code",
   "execution_count": 31,
   "id": "7eb6a9c6",
   "metadata": {},
   "outputs": [],
   "source": [
    "consumer_key= 'NrblJQ39ZvPLl69EaOg92HymT'\n",
    "consumer_secret= 'JupK3xdr8WEECrBWszVDd1HhFgznbfghltji1pFYdOUhHiPU9k'\n",
    "access_token= '1428909779926151176-LpcExBSfWczJ91flWZiV6YGNfAw4pX'\n",
    "access_token_secret= 'wYsLw0dmG9V8SrVaeUsqwBp3FBYxuza2B0t8KuSpwaOEK'"
   ]
  },
  {
   "cell_type": "code",
   "execution_count": 32,
   "id": "e01cc8c4",
   "metadata": {},
   "outputs": [],
   "source": [
    "auth = tw.OAuthHandler(consumer_key, consumer_secret)\n",
    "auth.set_access_token(access_token, access_token_secret)\n",
    "api = tw.API(auth, wait_on_rate_limit=True)"
   ]
  },
  {
   "cell_type": "code",
   "execution_count": 33,
   "id": "3e2a6705",
   "metadata": {},
   "outputs": [],
   "source": [
    "# Define the search term and the date_since date as variables\n",
    "search_words = \"#airbnb\"\n",
    "date_since = \"2021-1-1\""
   ]
  },
  {
   "cell_type": "code",
   "execution_count": null,
   "id": "68d9a89f",
   "metadata": {},
   "outputs": [],
   "source": [
    "# Collect tweets\n",
    "tweets = tw.Cursor(api.search,\n",
    "              q=search_words,\n",
    "              lang=\"en\",\n",
    "              since=date_since, tweet_mode=\"extended\").items(2000)\n",
    "#     time.sleep(sleepTime)\n",
    "\n",
    "# Pulling information from tweets iterable object.\n",
    "# Add or remove tweet information you want in the below list comprehension.\n",
    "tweets_list = [[tweet.full_text, tweet.created_at, tweet.id_str, tweet.user.screen_name] for tweet in tweets]\n",
    "\n",
    "for i, page in enumerate(limit_handled(cursor, followers_list)):  \n",
    "    print(\"\\r\"+\"Loading\"+ i % 5 *\".\", end='')\n",
    "    \n",
    "    \n",
    "# Creation of dataframe from tweets_list.\n",
    "# Add or remove columns as you remove tweet information.\n",
    "tweets_df = pd.DataFrame(tweets_list,columns=['Tweet', 'Datetime', 'Id', 'Name'])\n"
   ]
  },
  {
   "cell_type": "code",
   "execution_count": null,
   "id": "7889a654",
   "metadata": {},
   "outputs": [],
   "source": [
    "tweets_df"
   ]
  },
  {
   "cell_type": "code",
   "execution_count": null,
   "id": "27cccf25",
   "metadata": {},
   "outputs": [],
   "source": [
    "tweets_df.to_csv('RawData.csv')#, mode='a')"
   ]
  },
  {
   "cell_type": "markdown",
   "id": "9c5ee032",
   "metadata": {},
   "source": [
    "### Sentiment analysis\n",
    "#### Reference: \n",
    "https://towardsdatascience.com/step-by-step-twitter-sentiment-analysis-in-python-d6f650ade58d"
   ]
  },
  {
   "cell_type": "code",
   "execution_count": 12,
   "id": "9369c628",
   "metadata": {},
   "outputs": [
    {
     "data": {
      "text/html": [
       "<div>\n",
       "<style scoped>\n",
       "    .dataframe tbody tr th:only-of-type {\n",
       "        vertical-align: middle;\n",
       "    }\n",
       "\n",
       "    .dataframe tbody tr th {\n",
       "        vertical-align: top;\n",
       "    }\n",
       "\n",
       "    .dataframe thead th {\n",
       "        text-align: right;\n",
       "    }\n",
       "</style>\n",
       "<table border=\"1\" class=\"dataframe\">\n",
       "  <thead>\n",
       "    <tr style=\"text-align: right;\">\n",
       "      <th></th>\n",
       "      <th>Tweet</th>\n",
       "      <th>Datetime</th>\n",
       "      <th>Id</th>\n",
       "      <th>Name</th>\n",
       "    </tr>\n",
       "  </thead>\n",
       "  <tbody>\n",
       "    <tr>\n",
       "      <th>0</th>\n",
       "      <td>Looking for car rental for your holiday or bus...</td>\n",
       "      <td>2021-09-16 06:35:05</td>\n",
       "      <td>1438390968357638147</td>\n",
       "      <td>Comparison_Site</td>\n",
       "    </tr>\n",
       "    <tr>\n",
       "      <th>1</th>\n",
       "      <td>Indonesian Minister Claims That Backpackers Ar...</td>\n",
       "      <td>2021-09-16 06:32:57</td>\n",
       "      <td>1438390429737623553</td>\n",
       "      <td>MDamericas</td>\n",
       "    </tr>\n",
       "    <tr>\n",
       "      <th>2</th>\n",
       "      <td>Bed with spring mattress 5 x 6’3 on offer 41,0...</td>\n",
       "      <td>2021-09-16 06:23:35</td>\n",
       "      <td>1438388074443124740</td>\n",
       "      <td>CentreSleep</td>\n",
       "    </tr>\n",
       "    <tr>\n",
       "      <th>3</th>\n",
       "      <td>Time now for a fascinating conversation betwee...</td>\n",
       "      <td>2021-09-16 06:06:00</td>\n",
       "      <td>1438383648969998337</td>\n",
       "      <td>BlockchainRDO</td>\n",
       "    </tr>\n",
       "    <tr>\n",
       "      <th>4</th>\n",
       "      <td>This is the switch of Google allowing vacation...</td>\n",
       "      <td>2021-09-16 06:01:13</td>\n",
       "      <td>1438382445657735173</td>\n",
       "      <td>BoostlyUK</td>\n",
       "    </tr>\n",
       "    <tr>\n",
       "      <th>...</th>\n",
       "      <td>...</td>\n",
       "      <td>...</td>\n",
       "      <td>...</td>\n",
       "      <td>...</td>\n",
       "    </tr>\n",
       "    <tr>\n",
       "      <th>1587</th>\n",
       "      <td>Luxury Hotel Cheval Blanc Paris Opens #airbnb ...</td>\n",
       "      <td>2021-09-08 01:31:17</td>\n",
       "      <td>1435415411760242688</td>\n",
       "      <td>top25hotels</td>\n",
       "    </tr>\n",
       "    <tr>\n",
       "      <th>1588</th>\n",
       "      <td>Luxury Hotel Cheval Blanc Paris Opens #airbnb ...</td>\n",
       "      <td>2021-09-08 01:31:06</td>\n",
       "      <td>1435415363429322757</td>\n",
       "      <td>hotelindex</td>\n",
       "    </tr>\n",
       "    <tr>\n",
       "      <th>1589</th>\n",
       "      <td>Luxury Hotel Cheval Blanc Paris Opens #airbnb ...</td>\n",
       "      <td>2021-09-08 01:31:04</td>\n",
       "      <td>1435415355170639872</td>\n",
       "      <td>travelindex</td>\n",
       "    </tr>\n",
       "    <tr>\n",
       "      <th>1590</th>\n",
       "      <td>Thank you airbnb for delivering us another BEY...</td>\n",
       "      <td>2021-09-08 00:51:01</td>\n",
       "      <td>1435405277927559171</td>\n",
       "      <td>Life_Soleil</td>\n",
       "    </tr>\n",
       "    <tr>\n",
       "      <th>1591</th>\n",
       "      <td>@WaiSallas I am so sorry. Please know some of ...</td>\n",
       "      <td>2021-09-07 16:44:58</td>\n",
       "      <td>1435282959590772745</td>\n",
       "      <td>stubbscrew</td>\n",
       "    </tr>\n",
       "  </tbody>\n",
       "</table>\n",
       "<p>1592 rows × 4 columns</p>\n",
       "</div>"
      ],
      "text/plain": [
       "                                                  Tweet             Datetime  \\\n",
       "0     Looking for car rental for your holiday or bus...  2021-09-16 06:35:05   \n",
       "1     Indonesian Minister Claims That Backpackers Ar...  2021-09-16 06:32:57   \n",
       "2     Bed with spring mattress 5 x 6’3 on offer 41,0...  2021-09-16 06:23:35   \n",
       "3     Time now for a fascinating conversation betwee...  2021-09-16 06:06:00   \n",
       "4     This is the switch of Google allowing vacation...  2021-09-16 06:01:13   \n",
       "...                                                 ...                  ...   \n",
       "1587  Luxury Hotel Cheval Blanc Paris Opens #airbnb ...  2021-09-08 01:31:17   \n",
       "1588  Luxury Hotel Cheval Blanc Paris Opens #airbnb ...  2021-09-08 01:31:06   \n",
       "1589  Luxury Hotel Cheval Blanc Paris Opens #airbnb ...  2021-09-08 01:31:04   \n",
       "1590  Thank you airbnb for delivering us another BEY...  2021-09-08 00:51:01   \n",
       "1591  @WaiSallas I am so sorry. Please know some of ...  2021-09-07 16:44:58   \n",
       "\n",
       "                       Id             Name  \n",
       "0     1438390968357638147  Comparison_Site  \n",
       "1     1438390429737623553       MDamericas  \n",
       "2     1438388074443124740      CentreSleep  \n",
       "3     1438383648969998337    BlockchainRDO  \n",
       "4     1438382445657735173        BoostlyUK  \n",
       "...                   ...              ...  \n",
       "1587  1435415411760242688      top25hotels  \n",
       "1588  1435415363429322757       hotelindex  \n",
       "1589  1435415355170639872      travelindex  \n",
       "1590  1435405277927559171      Life_Soleil  \n",
       "1591  1435282959590772745       stubbscrew  \n",
       "\n",
       "[1592 rows x 4 columns]"
      ]
     },
     "execution_count": 12,
     "metadata": {},
     "output_type": "execute_result"
    }
   ],
   "source": [
    "df = pd.read_csv ('RawData.csv',sep=',')\n",
    "del df['Unnamed: 0']\n",
    "df"
   ]
  },
  {
   "cell_type": "code",
   "execution_count": 14,
   "id": "cf545c16",
   "metadata": {},
   "outputs": [
    {
     "name": "stdout",
     "output_type": "stream",
     "text": [
      "Collecting langdetect\n",
      "  Downloading langdetect-1.0.9.tar.gz (981 kB)\n",
      "\u001b[K     |████████████████████████████████| 981 kB 1.3 MB/s eta 0:00:01\n",
      "\u001b[?25hRequirement already satisfied: six in /Users/sudhavijayakumar/opt/anaconda3/lib/python3.8/site-packages (from langdetect) (1.16.0)\n",
      "Building wheels for collected packages: langdetect\n",
      "  Building wheel for langdetect (setup.py) ... \u001b[?25ldone\n",
      "\u001b[?25h  Created wheel for langdetect: filename=langdetect-1.0.9-py3-none-any.whl size=993222 sha256=ec795e0ff3ce15f912435866372acc04905e46133a42d739f9604d29307df61e\n",
      "  Stored in directory: /Users/sudhavijayakumar/Library/Caches/pip/wheels/13/c7/b0/79f66658626032e78fc1a83103690ef6797d551cb22e56e734\n",
      "Successfully built langdetect\n",
      "Installing collected packages: langdetect\n",
      "Successfully installed langdetect-1.0.9\n",
      "total number:  1592\n",
      "positive number:  814\n",
      "negative number:  263\n",
      "neutral number:  515\n"
     ]
    },
    {
     "data": {
      "image/png": "[encoded data removed]",
      "text/plain": [
       "<Figure size 432x288 with 1 Axes>"
      ]
     },
     "metadata": {},
     "output_type": "display_data"
    }
   ],
   "source": [
    "# Import Libraries\n",
    "!pip install langdetect\n",
    "from textblob import TextBlob\n",
    "import sys\n",
    "import matplotlib.pyplot as plt\n",
    "import pandas as pd\n",
    "import numpy as np\n",
    "import os\n",
    "import nltk\n",
    "import pycountry\n",
    "import re\n",
    "import string\n",
    "from wordcloud import WordCloud, STOPWORDS\n",
    "from PIL import Image\n",
    "from nltk.sentiment.vader import SentimentIntensityAnalyzer\n",
    "from langdetect import detect\n",
    "from nltk.stem import SnowballStemmer\n",
    "from nltk.sentiment.vader import SentimentIntensityAnalyzer\n",
    "from sklearn.feature_extraction.text import CountVectorizer\n",
    "\n",
    "#Sentiment Analysis\n",
    "def percentage(part,whole):\n",
    "    return 100 * float(part)/float(whole)\n",
    "\n",
    "positive = 0\n",
    "negative = 0\n",
    "neutral = 0\n",
    "polarity = 0\n",
    "\n",
    "tweet_list = []\n",
    "user_list = []\n",
    "id_list = []\n",
    "\n",
    "neutral_list = []\n",
    "negative_list = []\n",
    "positive_list = []\n",
    "\n",
    "# tweets = tweepy.Cursor(api.search, q=\"airbnb\",tweet_mode=\"extended\",lang=\"en\").items(10)\n",
    "\n",
    "for index, row in df.iterrows():\n",
    "    \n",
    "    tweet_list.append(row['Tweet'])\n",
    "    analysis = TextBlob(row['Tweet'])\n",
    "    \n",
    "    score = SentimentIntensityAnalyzer().polarity_scores(row['Tweet'])\n",
    "    neg = score['neg']\n",
    "    neu = score['neu']\n",
    "    pos = score['pos']\n",
    "    comp = score['compound']\n",
    "    \n",
    "    polarity += analysis.sentiment.polarity\n",
    " \n",
    "    if neg > pos:\n",
    "        negative_list.append(row['Tweet'])\n",
    "        negative += 1\n",
    "    elif pos > neg:\n",
    "        positive_list.append(row['Tweet'])\n",
    "        positive += 1\n",
    "    elif pos == neg:\n",
    "        neutral_list.append(row['Tweet'])\n",
    "        neutral += 1\n",
    "        \n",
    "noOfTweet = 10        \n",
    "positive = percentage(positive, noOfTweet)\n",
    "negative = percentage(negative, noOfTweet)\n",
    "neutral = percentage(neutral, noOfTweet)\n",
    "polarity = percentage(polarity, noOfTweet)\n",
    "positive = format(positive, '.1f')\n",
    "negative = format(negative, '.1f')\n",
    "neutral = format(neutral, '.1f')\n",
    "\n",
    "#Number of Tweets (Total, Positive, Negative, Neutral)\n",
    "tweet_list = pd.DataFrame(tweet_list)\n",
    "user_list = pd.DataFrame(user_list)\n",
    "id_list = pd.DataFrame(id_list)\n",
    "\n",
    "neutral_list = pd.DataFrame(neutral_list)\n",
    "negative_list = pd.DataFrame(negative_list)\n",
    "positive_list = pd.DataFrame(positive_list)\n",
    "print(\"total number: \",len(tweet_list))\n",
    "print(\"positive number: \",len(positive_list))\n",
    "print(\"negative number: \", len(negative_list))\n",
    "print(\"neutral number: \",len(neutral_list))\n",
    "\n",
    "#Creating PieCart\n",
    "labels = ['Positive ['+str(positive)+'%]' , 'Neutral ['+str(neutral)+'%]','Negative ['+str(negative)+'%]']\n",
    "sizes = [positive, neutral, negative]\n",
    "colors = ['yellowgreen', 'blue','red']\n",
    "patches, texts = plt.pie(sizes,colors=colors, startangle=90)\n",
    "plt.style.use('default')\n",
    "plt.legend(labels)\n",
    "plt.title(\"Sentiment Analysis Results\")\n",
    "plt.axis('equal')\n",
    "plt.show()"
   ]
  },
  {
   "cell_type": "code",
   "execution_count": 15,
   "id": "8e74cf19",
   "metadata": {},
   "outputs": [
    {
     "ename": "NameError",
     "evalue": "name 'tw_list' is not defined",
     "output_type": "error",
     "traceback": [
      "\u001b[0;31m---------------------------------------------------------------------------\u001b[0m",
      "\u001b[0;31mNameError\u001b[0m                                 Traceback (most recent call last)",
      "\u001b[0;32m/var/folders/18/1rt0491s0d5c46mtpnlpm6000000gn/T/ipykernel_10853/2321681153.py\u001b[0m in \u001b[0;36m<module>\u001b[0;34m\u001b[0m\n\u001b[1;32m      1\u001b[0m \u001b[0;31m#Calculating Negative, Positive, Neutral and Compound values\u001b[0m\u001b[0;34m\u001b[0m\u001b[0;34m\u001b[0m\u001b[0;34m\u001b[0m\u001b[0m\n\u001b[0;32m----> 2\u001b[0;31m \u001b[0mtw_list\u001b[0m\u001b[0;34m[\u001b[0m\u001b[0;34m[\u001b[0m\u001b[0;34m'polarity'\u001b[0m\u001b[0;34m,\u001b[0m\u001b[0;34m'subjectivity'\u001b[0m\u001b[0;34m]\u001b[0m\u001b[0;34m]\u001b[0m \u001b[0;34m=\u001b[0m \u001b[0mdf\u001b[0m\u001b[0;34m[\u001b[0m\u001b[0;34m'Tweet'\u001b[0m\u001b[0;34m]\u001b[0m\u001b[0;34m.\u001b[0m\u001b[0mapply\u001b[0m\u001b[0;34m(\u001b[0m\u001b[0;32mlambda\u001b[0m \u001b[0mText\u001b[0m\u001b[0;34m:\u001b[0m \u001b[0mpd\u001b[0m\u001b[0;34m.\u001b[0m\u001b[0mSeries\u001b[0m\u001b[0;34m(\u001b[0m\u001b[0mTextBlob\u001b[0m\u001b[0;34m(\u001b[0m\u001b[0mText\u001b[0m\u001b[0;34m)\u001b[0m\u001b[0;34m.\u001b[0m\u001b[0msentiment\u001b[0m\u001b[0;34m)\u001b[0m\u001b[0;34m)\u001b[0m\u001b[0;34m\u001b[0m\u001b[0;34m\u001b[0m\u001b[0m\n\u001b[0m\u001b[1;32m      3\u001b[0m \u001b[0;32mfor\u001b[0m \u001b[0mindex\u001b[0m\u001b[0;34m,\u001b[0m \u001b[0mrow\u001b[0m \u001b[0;32min\u001b[0m \u001b[0mdf\u001b[0m\u001b[0;34m[\u001b[0m\u001b[0;34m'Tweet'\u001b[0m\u001b[0;34m]\u001b[0m\u001b[0;34m.\u001b[0m\u001b[0miteritems\u001b[0m\u001b[0;34m(\u001b[0m\u001b[0;34m)\u001b[0m\u001b[0;34m:\u001b[0m\u001b[0;34m\u001b[0m\u001b[0;34m\u001b[0m\u001b[0m\n\u001b[1;32m      4\u001b[0m     \u001b[0mscore\u001b[0m \u001b[0;34m=\u001b[0m \u001b[0mSentimentIntensityAnalyzer\u001b[0m\u001b[0;34m(\u001b[0m\u001b[0;34m)\u001b[0m\u001b[0;34m.\u001b[0m\u001b[0mpolarity_scores\u001b[0m\u001b[0;34m(\u001b[0m\u001b[0mrow\u001b[0m\u001b[0;34m)\u001b[0m\u001b[0;34m\u001b[0m\u001b[0;34m\u001b[0m\u001b[0m\n\u001b[1;32m      5\u001b[0m     \u001b[0mneg\u001b[0m \u001b[0;34m=\u001b[0m \u001b[0mscore\u001b[0m\u001b[0;34m[\u001b[0m\u001b[0;34m'neg'\u001b[0m\u001b[0;34m]\u001b[0m\u001b[0;34m\u001b[0m\u001b[0;34m\u001b[0m\u001b[0m\n",
      "\u001b[0;31mNameError\u001b[0m: name 'tw_list' is not defined"
     ]
    }
   ],
   "source": [
    "#Calculating Negative, Positive, Neutral and Compound values\n",
    "tw_list[['polarity','subjectivity']] = df['Tweet'].apply(lambda Text: pd.Series(TextBlob(Text).sentiment))\n",
    "for index, row in df['Tweet'].iteritems():\n",
    "    score = SentimentIntensityAnalyzer().polarity_scores(row)\n",
    "    neg = score['neg']\n",
    "    neu = score['neu']\n",
    "    pos = score['pos']\n",
    "    comp = score['compound']\n",
    "    if neg > pos:\n",
    "        df.loc[index, 'sentiment'] = \"negative\"\n",
    "    elif pos > neg:\n",
    "        df.loc[index, 'sentiment'] = \"positive\"\n",
    "    else:\n",
    "        df.loc[index, 'sentiment'] = \"neutral\"\n",
    "        df.loc[index, 'neg'] = neg\n",
    "        df.loc[index, 'neu'] = neu\n",
    "        df.loc[index, 'pos'] = pos\n",
    "        df.loc[index, 'compound'] = comp\n"
   ]
  },
  {
   "cell_type": "markdown",
   "id": "97a920cb",
   "metadata": {},
   "source": [
    "### Filter Negative reviews"
   ]
  },
  {
   "cell_type": "code",
   "execution_count": null,
   "id": "f3699646",
   "metadata": {},
   "outputs": [],
   "source": [
    "df = df[df['sentiment']=='negative']"
   ]
  },
  {
   "cell_type": "code",
   "execution_count": null,
   "id": "8fa99e37",
   "metadata": {},
   "outputs": [],
   "source": [
    "df"
   ]
  },
  {
   "cell_type": "markdown",
   "id": "adb4ca44",
   "metadata": {},
   "source": [
    "### Retrieve replies for a given id/ negative review\n"
   ]
  },
  {
   "cell_type": "code",
   "execution_count": 159,
   "id": "b340d7bc",
   "metadata": {},
   "outputs": [
    {
     "data": {
      "text/plain": [
       "[]"
      ]
     },
     "execution_count": 159,
     "metadata": {},
     "output_type": "execute_result"
    }
   ],
   "source": [
    "\n",
    "# update these for the tweet you want to process replies to 'name' = the account username and you can find the tweet id within the tweet URL\n",
    "name = 'missmira1122'\n",
    "tweet_id = '1433277555591639048'\n",
    "\n",
    "replies=[]\n",
    "for tweet in tw.Cursor(api.search,q='to:'+name, result_type='recent', timeout=999999).items(1000):\n",
    "    if hasattr(tweet, 'in_reply_to_status_id_str'):\n",
    "        if (tweet.in_reply_to_status_id_str==tweet_id):\n",
    "            replies.append(tweet.text)\n",
    "\n",
    "replies"
   ]
  },
  {
   "cell_type": "code",
   "execution_count": 160,
   "id": "333e132e",
   "metadata": {},
   "outputs": [],
   "source": [
    "#This code creates the dataset from Corpus.csv which is downloadable from the\n",
    "#internet well known dataset which is labeled manually by hand. But for the text\n",
    "#of tweets you need to fetch them with their IDs.\n",
    "import tweepy\n",
    "import csv\n",
    "\n",
    "# This method creates the training set\n",
    "def createTrainingSet(corpusFile, targetResultFile):\n",
    "    import csv\n",
    "    import time\n",
    "\n",
    "    counter = 0\n",
    "    corpus = []\n",
    "\n",
    "#     with open(corpusFile, 'r') as csvfile:\n",
    "#         lineReader = csv.reader(csvfile, delimiter=',', quotechar=\"\\\"\")\n",
    "#         for row in lineReader:\n",
    "#             corpus.append({\"tweet_id\": row[2], \"label\": row[1], \"topic\": row[0]})\n",
    "\n",
    "    sleepTime = 2\n",
    "    trainingDataSet = []\n",
    "\n",
    "#     for tweet in corpus:\n",
    "#         try:\n",
    "#             tweetFetched = api.get_status(tweet[\"tweet_id\"])\n",
    "#             print(\"Tweet fetched\" + tweetFetched.text)\n",
    "#             tweet[\"text\"] = tweetFetched.text\n",
    "#             trainingDataSet.append(tweet)\n",
    "#             time.sleep(sleepTime)\n",
    "\n",
    "#         except:\n",
    "#             print(\"Inside the exception - no:2\")\n",
    "#             continue\n",
    "\n",
    "    # Collect tweets\n",
    "    tweets = tw.Cursor(api.search,\n",
    "                  q=search_words,\n",
    "                  lang=\"en\",\n",
    "                  since=date_since).items(2000)\n",
    "\n",
    "    airbnb_tweets = [[tweet.user.screen_name, tweet.user.location, tweet.id] for tweet in tweets]\n",
    "    \n",
    "\n",
    "    with open(targetResultFile, 'w') as csvfile:\n",
    "        linewriter = csv.writer(csvfile, delimiter=',', quotechar=\"\\\"\")\n",
    "        for tweet in trainingDataSet:\n",
    "            try:\n",
    "                linewriter.writerow([tweet[\"tweet_id\"], tweet[\"text\"], tweet[\"label\"], tweet[\"topic\"]])\n",
    "            except Exception as e:\n",
    "                print(e)\n",
    "    return trainingDataSet\n",
    "\n",
    "# Code starts here\n",
    "# This is corpus dataset\n",
    "corpusFile = \"datasets/corpus.csv\"\n",
    "# This is my target file\n",
    "targetResultFile = \"datasets/targetResultFile.csv\"\n",
    "# Call the method\n",
    "resultFile = createTrainingSet(corpusFile, targetResultFile)"
   ]
  },
  {
   "cell_type": "code",
   "execution_count": null,
   "id": "9eab8fb0",
   "metadata": {},
   "outputs": [],
   "source": []
  }
 ],
 "metadata": {
  "kernelspec": {
   "display_name": "Python 3 (ipykernel)",
   "language": "python",
   "name": "python3"
  },
  "language_info": {
   "codemirror_mode": {
    "name": "ipython",
    "version": 3
   },
   "file_extension": ".py",
   "mimetype": "text/x-python",
   "name": "python",
   "nbconvert_exporter": "python",
   "pygments_lexer": "ipython3",
   "version": "3.8.8"
  }
 },
 "nbformat": 4,
 "nbformat_minor": 5
}
