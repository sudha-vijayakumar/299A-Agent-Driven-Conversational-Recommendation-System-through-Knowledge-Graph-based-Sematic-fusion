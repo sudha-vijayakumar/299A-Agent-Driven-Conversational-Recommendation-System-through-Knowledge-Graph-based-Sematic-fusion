{
 "cells": [
  {
   "cell_type": "code",
   "execution_count": 8,
   "id": "27620fa0",
   "metadata": {},
   "outputs": [],
   "source": [
    "from py2neo import Graph\n",
    "from neo4j_knowledge_base import Neo4jKnowledgeBase\n",
    "\n",
    "# use neo4j for real-time recommendations.\n",
    "g = Graph(\"bolt://localhost:7687/neo4j\", password = \"test\")\n",
    "# user_id=\"10952\" #to be replaced with dynamic value.\n"
   ]
  },
  {
   "cell_type": "code",
   "execution_count": 9,
   "id": "49cf0e44",
   "metadata": {},
   "outputs": [],
   "source": [
    "\n",
    "def realTimeRecommendation(topK):\t\t\n",
    "\n",
    "\tquery = \"\"\"\n",
    "\t\t\t\t\t\t\tCALL ga.nlp.ml.word2vec.nn('REFRIGERATOR', 10, 'en-ConceptNet5') YIELD word, distance RETURN word AS list;\n",
    "\t\t\t\t\t\t\t\"\"\"\n",
    "\tneighbours = {}\n",
    "# \tfor row in g.run(query, uid=user_id, k=topK):\n",
    "\tfor row in g.run(query):\n",
    "\t\tprint(row)\n",
    "\n",
    "# \tneighbours_ids = [x[0] for x in neighbours[row[0]]]\n",
    "\n",
    "# \treturn neighbours_ids\n",
    "\n",
    "neighbours_ids = realTimeRecommendation(5)"
   ]
  },
  {
   "cell_type": "code",
   "execution_count": null,
   "id": "6a30d8ff",
   "metadata": {},
   "outputs": [],
   "source": []
  }
 ],
 "metadata": {
  "kernelspec": {
   "display_name": "Python 3",
   "language": "python",
   "name": "python3"
  },
  "language_info": {
   "codemirror_mode": {
    "name": "ipython",
    "version": 3
   },
   "file_extension": ".py",
   "mimetype": "text/x-python",
   "name": "python",
   "nbconvert_exporter": "python",
   "pygments_lexer": "ipython3",
   "version": "3.8.8"
  }
 },
 "nbformat": 4,
 "nbformat_minor": 5
}
