{
 "cells": [
  {
   "cell_type": "markdown",
   "metadata": {},
   "source": [
    "# References:\n",
    "-"
   ]
  },
  {
   "cell_type": "markdown",
   "metadata": {},
   "source": [
    "### Import libraries"
   ]
  },
  {
   "cell_type": "code",
   "execution_count": 12,
   "metadata": {},
   "outputs": [],
   "source": [
    "import gensim\n",
    "import pandas as pd\n",
    "from gensim.models.doc2vec import Doc2Vec, Word2Vec\n",
    "from gensim.test.utils import get_tmpfile"
   ]
  },
  {
   "cell_type": "markdown",
   "metadata": {},
   "source": [
    "### Load data"
   ]
  },
  {
   "cell_type": "code",
   "execution_count": 13,
   "metadata": {},
   "outputs": [],
   "source": [
    "root = './RASA/data/'\n",
    "model_root='./RASA/offline_models/'\n",
    "processed = './Data/processing/Processed_Airbnb/'\n",
    "raw = './Data/raw/'"
   ]
  },
  {
   "cell_type": "markdown",
   "metadata": {},
   "source": [
    "### Recommend by user review comments\n",
    "- https://towardsdatascience.com/detecting-document-similarity-with-doc2vec-f8289a9a7db7"
   ]
  },
  {
   "cell_type": "code",
   "execution_count": 29,
   "metadata": {},
   "outputs": [
    {
     "name": "stdout",
     "output_type": "stream",
     "text": [
      "Top-5 recommended listing ids:\n",
      "\n",
      "['31979911', '35927687', '35927687', '31945057', '37528056']\n"
     ]
    }
   ],
   "source": [
    "reviews = pd.read_csv(processed+'ratings_filter.csv', sep=',')\n",
    "vector_file_name = root+\"embeddings/review_embeddings\"\n",
    "def recommendListingByUserComments(reviews,vector_file_name,topK):\n",
    "    result=[]\n",
    "    \n",
    "    comment_corpus_model = Doc2Vec.load(vector_file_name) \n",
    "    new_doc = gensim.parsing.preprocessing.preprocess_string(\"private room dishwasher safety\")\n",
    "    test_doc_vector = comment_corpus_model.infer_vector(new_doc)\n",
    "    sims = comment_corpus_model.dv.most_similar(positive = [test_doc_vector])\n",
    "    for s in sims[:topK+1]:\n",
    "        try:\n",
    "            result.append(reviews['listing_id'].iloc[s[0]])\n",
    "        except:\n",
    "            print()\n",
    "    return result\n",
    "\n",
    "print('Top-5 recommended listing ids:')\n",
    "print(recommendListingByUserComments(reviews,vector_file_name,5))"
   ]
  },
  {
   "cell_type": "markdown",
   "metadata": {},
   "source": [
    "### Recommend by listing vector properties"
   ]
  },
  {
   "cell_type": "code",
   "execution_count": 15,
   "metadata": {},
   "outputs": [
    {
     "name": "stdout",
     "output_type": "stream",
     "text": [
      "Top-5 recommended listing ids:\n",
      "[70598.0, 118097.0, 118097.0, 55621.0, 118097.0]\n"
     ]
    },
    {
     "name": "stderr",
     "output_type": "stream",
     "text": [
      "<ipython-input-4-1208d1b3b908>:9: DeprecationWarning: Call to deprecated `docvecs` (The `docvecs` property has been renamed `dv`.).\n",
      "  sims = comment_corpus_model.docvecs.most_similar(positive = [test_doc_vector])\n"
     ]
    }
   ],
   "source": [
    "listings = pd.read_csv(raw+'listings.csv.gz', sep=',')\n",
    "vector_file_name = root+\"embeddings/list_embeddings\"\n",
    "def recommendListingByProperties(listings,vector_file_name,topK):\n",
    "    result=[]\n",
    "    \n",
    "    comment_corpus_model = Doc2Vec.load(vector_file_name) \n",
    "    new_doc = gensim.parsing.preprocessing.preprocess_string(\"private room dishwasher safety\")\n",
    "    test_doc_vector = comment_corpus_model.infer_vector(new_doc)\n",
    "    sims = comment_corpus_model.docvecs.most_similar(positive = [test_doc_vector])\n",
    "    for s in sims[:topK]:\n",
    "        result.append(reviews['listing_id'].iloc[s[0]])\n",
    "    return result\n",
    "\n",
    "print('Top-5 recommended listing ids:')\n",
    "print(recommendListingByUserComments(reviews,vector_file_name,5))"
   ]
  },
  {
   "cell_type": "markdown",
   "metadata": {},
   "source": [
    "### Recommend by listings - ContentBased filtering"
   ]
  },
  {
   "cell_type": "code",
   "execution_count": 27,
   "metadata": {},
   "outputs": [
    {
     "name": "stdout",
     "output_type": "stream",
     "text": [
      "Top-5 recommendations:\n",
      "1383369\n",
      "505650\n",
      "18882385\n",
      "28170875\n",
      "23332938\n"
     ]
    }
   ],
   "source": [
    "model = Word2Vec.load(model_root+'ContentBasedFilter')\n",
    "watch = listings[[\"listing_id\",\"listing_url\",\"name\"]]\n",
    "\n",
    "# create movie id and tittle dictionary\n",
    "watch_dict = watch.groupby('listing_id')['listing_id'].apply(list).to_dict()\n",
    "\n",
    "def similar_watch(v, n = 5):\n",
    "\n",
    "    # extract most similar movies for the input vector\n",
    "    ms = model.wv.similar_by_vector(v, topn= n+1)[1:]\n",
    "    # extract name and similarity score of the similar movies\n",
    "    \n",
    "    return ms  \n",
    "\n",
    "topK=5\n",
    "ls = similar_watch('2818',topK)\n",
    "print('Top-'+str(topK)+' recommendations:')\n",
    "for j in ls:\n",
    "    print(j[0])\n",
    "   \n",
    "        "
   ]
  },
  {
   "cell_type": "markdown",
   "metadata": {},
   "source": [
    "### Recommend by listings - Collaborative filtering"
   ]
  },
  {
   "cell_type": "code",
   "execution_count": 5,
   "metadata": {},
   "outputs": [],
   "source": [
    "# https://sigdelta.com/blog/how-to-install-pyspark-locally/"
   ]
  },
  {
   "cell_type": "code",
   "execution_count": 11,
   "metadata": {},
   "outputs": [
    {
     "data": {
      "text/plain": [
       "['https://www.airbnb.com/rooms/29456931',\n",
       " 'https://www.airbnb.com/rooms/22789981',\n",
       " 'https://www.airbnb.com/rooms/38056203',\n",
       " 'https://www.airbnb.com/rooms/24534357',\n",
       " 'https://www.airbnb.com/rooms/13152028']"
      ]
     },
     "execution_count": 11,
     "metadata": {},
     "output_type": "execute_result"
    }
   ],
   "source": [
    "from pyspark import SparkContext\n",
    "from pyspark.sql import SparkSession\n",
    "from pyspark.ml.recommendation import ALSModel\n",
    "\n",
    "def recommendByALSCollabFilter(topK,user_id):\n",
    "\n",
    "    spark = SparkSession.builder.getOrCreate()\n",
    "    sc = spark.sparkContext\n",
    "    alsmodel = ALSModel.load(\"/Users/sudhavijayakumar/Documents/299/299A-SMARTRec/RASA/offline_models/als_model\")\n",
    "    # convert this into a dataframe so that it can be passed into the recommendForUserSubset\n",
    "    functiondf = sc.parallelize(user_id).toDF(['reviewer_id'])\n",
    "\n",
    "    recommendations = alsmodel.recommendForUserSubset(functiondf , topK)\n",
    "    recommendations.collect()\n",
    "\n",
    "    recommended_listings = [recommendations.collect()[0]['recommendations'][x]['listing_id'] for x in range(0,topK)]\n",
    "    return recommended_listings\n",
    "\n",
    "\n",
    "user_id = [[164729]]\n",
    "sims = recommendByALSCollabFilter(5,user_id)\n",
    "\n",
    "# Get first 5 matches\n",
    "listingss=[]\n",
    "for s in sims:\n",
    "\tlistingss.append('https://www.airbnb.com/rooms/'+str(s))\n",
    "listingss"
   ]
  }
 ],
 "metadata": {
  "interpreter": {
   "hash": "31f2aee4e71d21fbe5cf8b01ff0e069b9275f58929596ceb00d14d90e3e16cd6"
  },
  "kernelspec": {
   "display_name": "Python 3",
   "language": "python",
   "name": "python3"
  },
  "language_info": {
   "codemirror_mode": {
    "name": "ipython",
    "version": 3
   },
   "file_extension": ".py",
   "mimetype": "text/x-python",
   "name": "python",
   "nbconvert_exporter": "python",
   "pygments_lexer": "ipython3",
   "version": "3.8.8"
  }
 },
 "nbformat": 4,
 "nbformat_minor": 4
}
