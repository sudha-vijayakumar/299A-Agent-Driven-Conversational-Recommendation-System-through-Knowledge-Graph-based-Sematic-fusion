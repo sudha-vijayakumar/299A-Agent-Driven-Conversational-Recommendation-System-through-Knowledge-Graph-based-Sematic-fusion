{
 "cells": [
  {
   "cell_type": "code",
   "execution_count": 32,
   "id": "ea097ddc",
   "metadata": {},
   "outputs": [],
   "source": [
    "from py2neo import Graph\n",
    "import re\n",
    "import pandas as pd\n",
    "\n",
    "# use neo4j for real-time recommendations.\n",
    "g = Graph(\"bolt://localhost:7687/neo4j\", password = \"test\")"
   ]
  },
  {
   "cell_type": "code",
   "execution_count": 33,
   "id": "e0a0d2d8",
   "metadata": {},
   "outputs": [
    {
     "data": {
      "text/plain": [
       "889"
      ]
     },
     "execution_count": 33,
     "metadata": {},
     "output_type": "execute_result"
    }
   ],
   "source": [
    "df = pd.read_csv('./Data/processing/Neo4j/Amenity.csv')\n",
    "amenities = df['name'].unique()\n",
    "len(amenities)"
   ]
  },
  {
   "cell_type": "code",
   "execution_count": 34,
   "id": "952de2da",
   "metadata": {},
   "outputs": [
    {
     "name": "stdout",
     "output_type": "stream",
     "text": [
      "{'Age': [20]}\n",
      "{'Age': [20, 'Twenty']}\n"
     ]
    }
   ],
   "source": [
    "Details = {}\n",
    "Details[\"Age\"] = [20]\n",
    "print(Details)\n",
    "\n",
    "if \"Age\" in Details:\n",
    "\tDetails[\"Age\"].append(\"Twenty\")\n",
    "\tprint(Details)\n"
   ]
  },
  {
   "cell_type": "code",
   "execution_count": null,
   "id": "09b1eeb0",
   "metadata": {},
   "outputs": [],
   "source": [
    "dic = dict()\n",
    "\n",
    "def realTimeRecommendation(amenity,topK):\t\t\n",
    "\tconcepts=[]\n",
    "\tquery = \"\"\"\n",
    "\t\t\t\t\t\t\tCALL ga.nlp.ml.word2vec.nn($wid, $k, 'en-ConceptNet5') YIELD word, distance RETURN word AS list;\n",
    "\t\t\t\t\t\t\t\"\"\"\n",
    "\tfor row in g.run(query, wid=amenity, k=topK):\n",
    "\t\tprocessed=re.sub('[^a-zA-Z0-9]+', ' ', row[0])\n",
    "\t\tconcepts.append(processed)\n",
    "\t\n",
    "\t\tamenity=str(amenity)\n",
    "\t\tdic[amenity] = dic.get(amenity, [])\n",
    "\t\tdic[amenity].append(concepts) \n",
    "        \n",
    "# \t\tif str(amenity) in collection:\n",
    "# \t\t\tcollection[amenity].append(processed)\n",
    "# \t\telse:\n",
    "# \t\t\tcollection[amenity] = processed\n",
    "# \t\tprint(collection)\n",
    "\n",
    "for amenity in amenities[:2]:\n",
    "\ttry:\n",
    "\t\tamen = amenity.split(' ')\n",
    "\t\tfor a in amen:\n",
    "\t\t\trealTimeRecommendation(str(a.lower()),100)\n",
    "\texcept:\n",
    "\t\tprint('no split character')\n",
    "\t\trealTimeRecommendation(str(amenity.lower()),100)\n",
    "\n",
    "    "
   ]
  },
  {
   "cell_type": "code",
   "execution_count": null,
   "id": "24a67e26",
   "metadata": {},
   "outputs": [],
   "source": [
    "dic"
   ]
  },
  {
   "cell_type": "code",
   "execution_count": null,
   "id": "bf9b85e5",
   "metadata": {},
   "outputs": [],
   "source": [
    "import json\n",
    "with open('mem_cache_conceptNet5.json', 'w') as outfile:\n",
    "    json.dump(collection,outfile)"
   ]
  },
  {
   "cell_type": "code",
   "execution_count": null,
   "id": "4d30249c",
   "metadata": {},
   "outputs": [],
   "source": [
    "outfile.close()"
   ]
  },
  {
   "cell_type": "code",
   "execution_count": null,
   "id": "3d67dd10",
   "metadata": {},
   "outputs": [],
   "source": [
    "data={}\n",
    "with open('mem_cache_conceptNet5.json') as json_file:\n",
    "    data = json.load(json_file)\n",
    "\n",
    "\n",
    "if 'refrigerator' in data:\n",
    "    print(data['refrigerator'])"
   ]
  },
  {
   "cell_type": "code",
   "execution_count": null,
   "id": "f3c1239a",
   "metadata": {},
   "outputs": [],
   "source": []
  }
 ],
 "metadata": {
  "kernelspec": {
   "display_name": "Python 3",
   "language": "python",
   "name": "python3"
  },
  "language_info": {
   "codemirror_mode": {
    "name": "ipython",
    "version": 3
   },
   "file_extension": ".py",
   "mimetype": "text/x-python",
   "name": "python",
   "nbconvert_exporter": "python",
   "pygments_lexer": "ipython3",
   "version": "3.8.8"
  }
 },
 "nbformat": 4,
 "nbformat_minor": 5
}
