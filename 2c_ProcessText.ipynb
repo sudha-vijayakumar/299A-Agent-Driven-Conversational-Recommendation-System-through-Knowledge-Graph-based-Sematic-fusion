{
 "cells": [
  {
   "cell_type": "markdown",
   "id": "ea075b38-0dbe-47c3-8415-85f91ea295e2",
   "metadata": {},
   "source": [
    "## Purpose\n",
    "- **Input:** Airbnb - listings, reviews, single location.\n",
    "- **Output:** Creating the below files to generate dialogues, train data for conversation recommendation module.\n",
    "    - listings_info_filter\n",
    "    - ratings_filter\n",
    "    - listings_slot_value_filter\n",
    "    - Neo4j_nodes.csv\n",
    "    \n",
    "- 5.5k listings | 250k reviews"
   ]
  },
  {
   "cell_type": "markdown",
   "id": "9aeb710e",
   "metadata": {},
   "source": [
    "### References:\n",
    "\n",
    "- https://neo4j.com/developer/guide-import-csv/"
   ]
  },
  {
   "cell_type": "markdown",
   "id": "ab53d627",
   "metadata": {},
   "source": [
    "### Import libraries, raw data"
   ]
  },
  {
   "cell_type": "code",
   "execution_count": 24,
   "id": "af6bccdc-4cb5-4d43-9012-2dce994b5874",
   "metadata": {},
   "outputs": [],
   "source": [
    "import pandas as pd\n",
    "import os\n",
    "import numpy as np\n",
    "import warnings\n",
    "warnings.filterwarnings('ignore')"
   ]
  },
  {
   "cell_type": "markdown",
   "id": "3b6e2909",
   "metadata": {},
   "source": [
    "### Preprocessing helper methods"
   ]
  },
  {
   "cell_type": "code",
   "execution_count": 25,
   "id": "69d8e93a-fe14-458c-960e-ec08a0b62c66",
   "metadata": {},
   "outputs": [],
   "source": [
    "root='./Data/raw/'\n",
    "processor = './Data/processing/'"
   ]
  },
  {
   "cell_type": "code",
   "execution_count": 26,
   "id": "c5991c1c",
   "metadata": {},
   "outputs": [],
   "source": [
    "listings = pd.read_csv(root+'listings.csv.gz')\n"
   ]
  },
  {
   "cell_type": "code",
   "execution_count": 27,
   "id": "76cbcc53",
   "metadata": {},
   "outputs": [],
   "source": [
    "## These are the columns that will be used in the dialog generation.\n",
    "listingTemplate = pd.read_csv(processor+'listing_Template.csv')\n",
    "listing_reviews = pd.read_csv(processor+'Processed_Airbnb/listing_with_reviews.csv')\n",
    "listing_reviews = listing_reviews.set_index('listing_id').T.to_dict('list')"
   ]
  },
  {
   "cell_type": "markdown",
   "id": "fa7677da-d641-4b91-a989-38a4fa6dc86d",
   "metadata": {},
   "source": [
    "### Compute unique entities, create Neo4j nodes & edge map."
   ]
  },
  {
   "cell_type": "code",
   "execution_count": 28,
   "id": "c2c5dc56-572d-4b6f-8fc8-28140cf824b7",
   "metadata": {},
   "outputs": [
    {
     "name": "stdout",
     "output_type": "stream",
     "text": [
      "<class 'pandas.core.frame.DataFrame'>\n",
      "RangeIndex: 5402 entries, 0 to 5401\n",
      "Data columns (total 74 columns):\n",
      " #   Column                                        Non-Null Count  Dtype  \n",
      "---  ------                                        --------------  -----  \n",
      " 0   id                                            5402 non-null   int64  \n",
      " 1   listing_url                                   5402 non-null   object \n",
      " 2   scrape_id                                     5402 non-null   int64  \n",
      " 3   last_scraped                                  5402 non-null   object \n",
      " 4   name                                          5402 non-null   object \n",
      " 5   description                                   5392 non-null   object \n",
      " 6   neighborhood_overview                         3908 non-null   object \n",
      " 7   picture_url                                   5402 non-null   object \n",
      " 8   host_id                                       5402 non-null   int64  \n",
      " 9   host_url                                      5402 non-null   object \n",
      " 10  host_name                                     5401 non-null   object \n",
      " 11  host_since                                    5401 non-null   object \n",
      " 12  host_location                                 5389 non-null   object \n",
      " 13  host_about                                    3457 non-null   object \n",
      " 14  host_response_time                            3642 non-null   object \n",
      " 15  host_response_rate                            3642 non-null   object \n",
      " 16  host_acceptance_rate                          3897 non-null   object \n",
      " 17  host_is_superhost                             5401 non-null   object \n",
      " 18  host_thumbnail_url                            5401 non-null   object \n",
      " 19  host_picture_url                              5401 non-null   object \n",
      " 20  host_neighbourhood                            3169 non-null   object \n",
      " 21  host_listings_count                           5401 non-null   float64\n",
      " 22  host_total_listings_count                     5401 non-null   float64\n",
      " 23  host_verifications                            5402 non-null   object \n",
      " 24  host_has_profile_pic                          5401 non-null   object \n",
      " 25  host_identity_verified                        5401 non-null   object \n",
      " 26  neighbourhood                                 3908 non-null   object \n",
      " 27  neighbourhood_cleansed                        5402 non-null   object \n",
      " 28  neighbourhood_group_cleansed                  0 non-null      float64\n",
      " 29  latitude                                      5402 non-null   float64\n",
      " 30  longitude                                     5402 non-null   float64\n",
      " 31  property_type                                 5402 non-null   object \n",
      " 32  room_type                                     5402 non-null   object \n",
      " 33  accommodates                                  5402 non-null   int64  \n",
      " 34  bathrooms                                     0 non-null      float64\n",
      " 35  bathrooms_text                                5388 non-null   object \n",
      " 36  bedrooms                                      5081 non-null   float64\n",
      " 37  beds                                          5163 non-null   float64\n",
      " 38  amenities                                     5402 non-null   object \n",
      " 39  price                                         5402 non-null   object \n",
      " 40  minimum_nights                                5402 non-null   int64  \n",
      " 41  maximum_nights                                5402 non-null   int64  \n",
      " 42  minimum_minimum_nights                        5401 non-null   float64\n",
      " 43  maximum_minimum_nights                        5401 non-null   float64\n",
      " 44  minimum_maximum_nights                        5401 non-null   float64\n",
      " 45  maximum_maximum_nights                        5401 non-null   float64\n",
      " 46  minimum_nights_avg_ntm                        5401 non-null   float64\n",
      " 47  maximum_nights_avg_ntm                        5401 non-null   float64\n",
      " 48  calendar_updated                              0 non-null      float64\n",
      " 49  has_availability                              5402 non-null   object \n",
      " 50  availability_30                               5402 non-null   int64  \n",
      " 51  availability_60                               5402 non-null   int64  \n",
      " 52  availability_90                               5402 non-null   int64  \n",
      " 53  availability_365                              5402 non-null   int64  \n",
      " 54  calendar_last_scraped                         5402 non-null   object \n",
      " 55  number_of_reviews                             5402 non-null   int64  \n",
      " 56  number_of_reviews_ltm                         5402 non-null   int64  \n",
      " 57  number_of_reviews_l30d                        5402 non-null   int64  \n",
      " 58  first_review                                  4934 non-null   object \n",
      " 59  last_review                                   4934 non-null   object \n",
      " 60  review_scores_rating                          4934 non-null   float64\n",
      " 61  review_scores_accuracy                        4923 non-null   float64\n",
      " 62  review_scores_cleanliness                     4923 non-null   float64\n",
      " 63  review_scores_checkin                         4923 non-null   float64\n",
      " 64  review_scores_communication                   4923 non-null   float64\n",
      " 65  review_scores_location                        4923 non-null   float64\n",
      " 66  review_scores_value                           4923 non-null   float64\n",
      " 67  license                                       5366 non-null   object \n",
      " 68  instant_bookable                              5402 non-null   object \n",
      " 69  calculated_host_listings_count                5402 non-null   int64  \n",
      " 70  calculated_host_listings_count_entire_homes   5402 non-null   int64  \n",
      " 71  calculated_host_listings_count_private_rooms  5402 non-null   int64  \n",
      " 72  calculated_host_listings_count_shared_rooms   5402 non-null   int64  \n",
      " 73  reviews_per_month                             4934 non-null   float64\n",
      "dtypes: float64(23), int64(17), object(34)\n",
      "memory usage: 3.0+ MB\n"
     ]
    }
   ],
   "source": [
    "# listings = listings[listingTemplate.columns]\n",
    "listings.dropna()\n",
    "listings.info()"
   ]
  },
  {
   "cell_type": "code",
   "execution_count": 29,
   "id": "f8f71b65-721a-4e98-a652-b27010360504",
   "metadata": {},
   "outputs": [
    {
     "data": {
      "text/plain": [
       "5402"
      ]
     },
     "execution_count": 29,
     "metadata": {},
     "output_type": "execute_result"
    }
   ],
   "source": [
    "len(listings)"
   ]
  },
  {
   "cell_type": "code",
   "execution_count": 30,
   "id": "a857e1e7",
   "metadata": {},
   "outputs": [],
   "source": [
    "### Add Geo-location, check more efficient way to add location.\n",
    "listings['City'] = 'Amsterdam'\n",
    "listings['Country'] = 'Netherlands'\n",
    "listings[listings['neighbourhood_cleansed'].isna()]\n",
    "listings['neighbourhood'] = listings['neighbourhood'].fillna(listings['neighbourhood_cleansed'])\n",
    "listings['neighbourhood'] = listings['neighbourhood'].str.strip()\n",
    "listings['State'] = listings['neighbourhood']"
   ]
  },
  {
   "cell_type": "markdown",
   "id": "e4a16afd",
   "metadata": {},
   "source": [
    "#### Add all unique entities"
   ]
  },
  {
   "cell_type": "code",
   "execution_count": 31,
   "id": "9e908812",
   "metadata": {},
   "outputs": [],
   "source": [
    "### Add listings text description\n",
    "# \n",
    "\n",
    "col_parse = ['id',\n",
    " 'picture_url',\n",
    " 'host_identity_verified',\n",
    " 'neighbourhood',\n",
    " 'neighbourhood_cleansed',\n",
    " 'property_type',\n",
    " 'room_type',\n",
    " 'accommodates',\n",
    " 'bathrooms_text',\n",
    " 'bedrooms',\n",
    " 'beds',\n",
    " 'price',\n",
    " 'City',\n",
    " 'Country',\n",
    " 'State']\n",
    "\n",
    "listings['Listing_Text'] = listings['City']\n",
    "\n",
    "col = list(listings.columns.values)\n",
    "for i,j in listings.iterrows():\n",
    "    for c_name in col_parse:\n",
    "        listings['Listing_Text'][i] = listings['Listing_Text'][i] + str(c_name) + ':' + str(j[str(c_name)])+';'\n",
    "    \n"
   ]
  },
  {
   "cell_type": "code",
   "execution_count": 32,
   "id": "14bc4eb8",
   "metadata": {},
   "outputs": [],
   "source": [
    "listings['Review_Text'] = listings['Listing_Text']\n",
    "for i,j in listings.iterrows():\n",
    "    lid = (listings['id'][i])\n",
    "    try: \n",
    "        listings['Review_Text'][i] = listing_reviews[lid][1]\n",
    "    except:\n",
    "        listings['Review_Text'][i] = 'no review found'"
   ]
  },
  {
   "cell_type": "code",
   "execution_count": 33,
   "id": "ec022c8b",
   "metadata": {},
   "outputs": [
    {
     "data": {
      "text/plain": [
       "0       ['Daniel is really cool. The place was nice an...\n",
       "1       [\"The location of Sasha's B&B makes it ideal f...\n",
       "2       ['Why stay anywhere else in the city of canals...\n",
       "3       ['Very nice place and people.  Great location!...\n",
       "4       ['Not a long ago I stood at  Downtown Guesthou...\n",
       "                              ...                        \n",
       "5397                                      no review found\n",
       "5398                                      no review found\n",
       "5399                                      no review found\n",
       "5400                                      no review found\n",
       "5401                                      no review found\n",
       "Name: Review_Text, Length: 5402, dtype: object"
      ]
     },
     "execution_count": 33,
     "metadata": {},
     "output_type": "execute_result"
    }
   ],
   "source": [
    "listings['Review_Text']"
   ]
  },
  {
   "cell_type": "code",
   "execution_count": 34,
   "id": "48af9803",
   "metadata": {},
   "outputs": [],
   "source": [
    "#library that contains punctuation\n",
    "import string\n",
    "# string.punctuation\n",
    "# #defining the function to remove punctuation\n",
    "# def remove_punctuation(text):\n",
    "#     punctuationfree=\"\".join([i for i in text if i not in string.punctuation])\n",
    "#     return punctuationfree\n",
    "#storing the puntuation free text\n",
    "# listings['Review_Text']= listings['Review_Text'].apply(lambda x:remove_punctuation(x))\n",
    "# listings['Listing_Text']= listings['Listing_Text'].apply(lambda x:remove_punctuation(x))\n"
   ]
  },
  {
   "cell_type": "code",
   "execution_count": 35,
   "id": "93164c5d",
   "metadata": {},
   "outputs": [],
   "source": [
    "listings['Review_Text']= listings['Review_Text'].apply(lambda x: x.lower())\n",
    "listings['Listing_Text']= listings['Listing_Text'].apply(lambda x: x.lower())\n"
   ]
  },
  {
   "cell_type": "code",
   "execution_count": 40,
   "id": "d511498a",
   "metadata": {},
   "outputs": [
    {
     "data": {
      "text/plain": [
       "0       ['daniel is really cool. the place was nice an...\n",
       "1       [\"the location of sasha's b&b makes it ideal f...\n",
       "2       ['why stay anywhere else in the city of canals...\n",
       "3       ['very nice place and people.  great location!...\n",
       "4       ['not a long ago i stood at  downtown guesthou...\n",
       "                              ...                        \n",
       "5397                                      no review found\n",
       "5398                                      no review found\n",
       "5399                                      no review found\n",
       "5400                                      no review found\n",
       "5401                                      no review found\n",
       "Name: Review_Text, Length: 5402, dtype: object"
      ]
     },
     "execution_count": 40,
     "metadata": {},
     "output_type": "execute_result"
    }
   ],
   "source": [
    "listings['Review_Text']"
   ]
  },
  {
   "cell_type": "code",
   "execution_count": 36,
   "id": "73a1dfe2",
   "metadata": {},
   "outputs": [],
   "source": [
    "# import nltk\n",
    "# #Stop words present in the library\n",
    "# stopwords = nltk.corpus.stopwords.words('english')\n",
    "# #defining the function to remove stopwords from tokenized text\n",
    "# def remove_stopwords(text):\n",
    "#     output= [i for i in text if i not in stopwords]\n",
    "#     return output\n",
    "# listings['Review_Text']=listings['Review_Text'].apply(lambda x:remove_stopwords(x))\n",
    "# listings['Listing_Text']=listings['Listing_Text'].apply(lambda x:remove_stopwords(x))\n"
   ]
  },
  {
   "cell_type": "code",
   "execution_count": 37,
   "id": "f889dfb2",
   "metadata": {},
   "outputs": [],
   "source": [
    "# #defining the function for lemmatization\n",
    "# from nltk.stem import WordNetLemmatizer\n",
    "# #defining the object for Lemmatization\n",
    "# wordnet_lemmatizer = WordNetLemmatizer()\n",
    "# def lemmatizer(text):\n",
    "#     lemm_text = [wordnet_lemmatizer.lemmatize(word) for word in text]\n",
    "#     return lemm_text\n",
    "# listings['Review_Text']= listings['Review_Text'].apply(lambda x:lemmatizer(x))\n",
    "# listings['Listing_Text']= listings['Listing_Text'].apply(lambda x:lemmatizer(x))\n"
   ]
  },
  {
   "cell_type": "markdown",
   "id": "a7d922d9",
   "metadata": {},
   "source": [
    "### Define headers"
   ]
  },
  {
   "cell_type": "code",
   "execution_count": 38,
   "id": "b5f58386",
   "metadata": {},
   "outputs": [],
   "source": [
    "listings.to_csv(processor+'Processed_Airbnb/listings_text_processed.csv')\n"
   ]
  }
 ],
 "metadata": {
  "kernelspec": {
   "display_name": "Python 3 (ipykernel)",
   "language": "python",
   "name": "python3"
  },
  "language_info": {
   "codemirror_mode": {
    "name": "ipython",
    "version": 3
   },
   "file_extension": ".py",
   "mimetype": "text/x-python",
   "name": "python",
   "nbconvert_exporter": "python",
   "pygments_lexer": "ipython3",
   "version": "3.8.8"
  }
 },
 "nbformat": 4,
 "nbformat_minor": 5
}
