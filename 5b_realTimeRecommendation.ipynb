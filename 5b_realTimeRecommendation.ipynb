{
 "cells": [
  {
   "cell_type": "markdown",
   "metadata": {},
   "source": [
    "### Script\n",
    "- **Input:** Real-time in-DB recommendation using Neo4j Graph database.\n",
    "- **Output:** Sample recommendations."
   ]
  },
  {
   "cell_type": "markdown",
   "metadata": {},
   "source": [
    "### Import libraries"
   ]
  },
  {
   "cell_type": "code",
   "execution_count": 1,
   "metadata": {},
   "outputs": [
    {
     "name": "stdout",
     "output_type": "stream",
     "text": [
      "\u001b[33mWARNING: Ignoring invalid distribution -eras-preprocessing (/opt/anaconda3/lib/python3.8/site-packages)\u001b[0m\u001b[33m\n",
      "\u001b[0m\u001b[33mWARNING: Ignoring invalid distribution -atplotlib (/opt/anaconda3/lib/python3.8/site-packages)\u001b[0m\u001b[33m\n",
      "\u001b[0m\u001b[33mWARNING: Ignoring invalid distribution -eras-preprocessing (/opt/anaconda3/lib/python3.8/site-packages)\u001b[0m\u001b[33m\n",
      "\u001b[0m\u001b[33mWARNING: Ignoring invalid distribution -atplotlib (/opt/anaconda3/lib/python3.8/site-packages)\u001b[0m\u001b[33m\n",
      "\u001b[0mRequirement already satisfied: py2neo in /opt/anaconda3/lib/python3.8/site-packages (2021.2.3)\n",
      "Requirement already satisfied: packaging in /opt/anaconda3/lib/python3.8/site-packages (from py2neo) (20.9)\n",
      "Requirement already satisfied: interchange~=2021.0.4 in /opt/anaconda3/lib/python3.8/site-packages (from py2neo) (2021.0.4)\n",
      "Requirement already satisfied: six>=1.15.0 in /opt/anaconda3/lib/python3.8/site-packages (from py2neo) (1.15.0)\n",
      "Requirement already satisfied: pygments>=2.0.0 in /opt/anaconda3/lib/python3.8/site-packages (from py2neo) (2.8.1)\n",
      "Requirement already satisfied: certifi in /opt/anaconda3/lib/python3.8/site-packages (from py2neo) (2020.12.5)\n",
      "Requirement already satisfied: urllib3 in /opt/anaconda3/lib/python3.8/site-packages (from py2neo) (1.25.11)\n",
      "Requirement already satisfied: monotonic in /opt/anaconda3/lib/python3.8/site-packages (from py2neo) (1.6)\n",
      "Requirement already satisfied: pansi>=2020.7.3 in /opt/anaconda3/lib/python3.8/site-packages (from py2neo) (2020.7.3)\n",
      "Requirement already satisfied: pytz in /opt/anaconda3/lib/python3.8/site-packages (from interchange~=2021.0.4->py2neo) (2020.1)\n",
      "Requirement already satisfied: pyparsing>=2.0.2 in /opt/anaconda3/lib/python3.8/site-packages (from packaging->py2neo) (2.4.7)\n",
      "\u001b[33mWARNING: Ignoring invalid distribution -eras-preprocessing (/opt/anaconda3/lib/python3.8/site-packages)\u001b[0m\u001b[33m\n",
      "\u001b[0m\u001b[33mWARNING: Ignoring invalid distribution -atplotlib (/opt/anaconda3/lib/python3.8/site-packages)\u001b[0m\u001b[33m\n",
      "\u001b[0m\u001b[33mWARNING: Ignoring invalid distribution -eras-preprocessing (/opt/anaconda3/lib/python3.8/site-packages)\u001b[0m\u001b[33m\n",
      "\u001b[0m\u001b[33mWARNING: Ignoring invalid distribution -atplotlib (/opt/anaconda3/lib/python3.8/site-packages)\u001b[0m\u001b[33m\n",
      "\u001b[0m\u001b[33mWARNING: Ignoring invalid distribution -eras-preprocessing (/opt/anaconda3/lib/python3.8/site-packages)\u001b[0m\u001b[33m\n",
      "\u001b[0m\u001b[33mWARNING: Ignoring invalid distribution -atplotlib (/opt/anaconda3/lib/python3.8/site-packages)\u001b[0m\u001b[33m\n",
      "\u001b[0m\u001b[33mWARNING: Ignoring invalid distribution -eras-preprocessing (/opt/anaconda3/lib/python3.8/site-packages)\u001b[0m\u001b[33m\n",
      "\u001b[0m\u001b[33mWARNING: Ignoring invalid distribution -atplotlib (/opt/anaconda3/lib/python3.8/site-packages)\u001b[0m\u001b[33m\n",
      "\u001b[0m\u001b[33mWARNING: You are using pip version 22.0.3; however, version 22.0.4 is available.\n",
      "You should consider upgrading via the '/opt/anaconda3/bin/python -m pip install --upgrade pip' command.\u001b[0m\u001b[33m\n",
      "\u001b[0m"
     ]
    }
   ],
   "source": [
    "!pip3 install py2neo"
   ]
  },
  {
   "cell_type": "code",
   "execution_count": 2,
   "metadata": {},
   "outputs": [],
   "source": [
    "from pprint import pprint\n",
    "from py2neo import Graph, NodeMatcher\n",
    "g = Graph(\"bolt://localhost:7687/neo4j\", password = \"test\")"
   ]
  },
  {
   "cell_type": "code",
   "execution_count": 3,
   "metadata": {},
   "outputs": [
    {
     "data": {
      "text/html": [
       "<div>\n",
       "<style scoped>\n",
       "    .dataframe tbody tr th:only-of-type {\n",
       "        vertical-align: middle;\n",
       "    }\n",
       "\n",
       "    .dataframe tbody tr th {\n",
       "        vertical-align: top;\n",
       "    }\n",
       "\n",
       "    .dataframe thead th {\n",
       "        text-align: right;\n",
       "    }\n",
       "</style>\n",
       "<table border=\"1\" class=\"dataframe\">\n",
       "  <thead>\n",
       "    <tr style=\"text-align: right;\">\n",
       "      <th></th>\n",
       "      <th>a.name</th>\n",
       "    </tr>\n",
       "  </thead>\n",
       "  <tbody>\n",
       "    <tr>\n",
       "      <th>0</th>\n",
       "      <td>Refrigerator</td>\n",
       "    </tr>\n",
       "    <tr>\n",
       "      <th>1</th>\n",
       "      <td>Paid parking off premises</td>\n",
       "    </tr>\n",
       "    <tr>\n",
       "      <th>2</th>\n",
       "      <td>Long term stays allowed</td>\n",
       "    </tr>\n",
       "  </tbody>\n",
       "</table>\n",
       "</div>"
      ],
      "text/plain": [
       "                      a.name\n",
       "0               Refrigerator\n",
       "1  Paid parking off premises\n",
       "2    Long term stays allowed"
      ]
     },
     "execution_count": 3,
     "metadata": {},
     "output_type": "execute_result"
    }
   ],
   "source": [
    "query=\"\"\"\n",
    "MATCH (a:Amenity) RETURN a.name LIMIT 3\n",
    "\"\"\"\n",
    "g.run(query).to_data_frame()"
   ]
  },
  {
   "cell_type": "code",
   "execution_count": 4,
   "metadata": {},
   "outputs": [
    {
     "data": {
      "text/html": [
       "<div>\n",
       "<style scoped>\n",
       "    .dataframe tbody tr th:only-of-type {\n",
       "        vertical-align: middle;\n",
       "    }\n",
       "\n",
       "    .dataframe tbody tr th {\n",
       "        vertical-align: top;\n",
       "    }\n",
       "\n",
       "    .dataframe thead th {\n",
       "        text-align: right;\n",
       "    }\n",
       "</style>\n",
       "<table border=\"1\" class=\"dataframe\">\n",
       "  <thead>\n",
       "    <tr style=\"text-align: right;\">\n",
       "      <th></th>\n",
       "      <th>a.name</th>\n",
       "      <th>a.price</th>\n",
       "      <th>a.url</th>\n",
       "    </tr>\n",
       "  </thead>\n",
       "  <tbody>\n",
       "    <tr>\n",
       "      <th>0</th>\n",
       "      <td>571029</td>\n",
       "      <td>$150.00</td>\n",
       "      <td>https://www.airbnb.com/rooms/571029</td>\n",
       "    </tr>\n",
       "    <tr>\n",
       "      <th>1</th>\n",
       "      <td>729260</td>\n",
       "      <td>$150.00</td>\n",
       "      <td>https://www.airbnb.com/rooms/729260</td>\n",
       "    </tr>\n",
       "    <tr>\n",
       "      <th>2</th>\n",
       "      <td>733654</td>\n",
       "      <td>$150.00</td>\n",
       "      <td>https://www.airbnb.com/rooms/733654</td>\n",
       "    </tr>\n",
       "  </tbody>\n",
       "</table>\n",
       "</div>"
      ],
      "text/plain": [
       "   a.name  a.price                                a.url\n",
       "0  571029  $150.00  https://www.airbnb.com/rooms/571029\n",
       "1  729260  $150.00  https://www.airbnb.com/rooms/729260\n",
       "2  733654  $150.00  https://www.airbnb.com/rooms/733654"
      ]
     },
     "execution_count": 4,
     "metadata": {},
     "output_type": "execute_result"
    }
   ],
   "source": [
    "query=\"\"\"\n",
    "MATCH (a:Listing) WHERE a.price='$150.00' RETURN a.name,a.price,a.url LIMIT 3\n",
    "\"\"\"\n",
    "g.run(query).to_data_frame()"
   ]
  },
  {
   "cell_type": "markdown",
   "metadata": {},
   "source": [
    "### Content-based filtering"
   ]
  },
  {
   "cell_type": "code",
   "execution_count": 5,
   "metadata": {},
   "outputs": [],
   "source": [
    "query = \"\"\"\n",
    "MATCH (u:User {name:$cid})-[:RATED]->(s:Listing)-[:HAS_AMENITY]->(c:Amenity)<-[:HAS_AMENITY]-(z:Listing)\n",
    "WHERE NOT EXISTS ((u)-[:RATED]->(z))\n",
    "WITH s, z, COUNT(c) AS intersection\n",
    "MATCH (s)-[:HAS_AMENITY]->(sc:Amenity)\n",
    "WITH s, z, intersection, COLLECT(sc.name) AS s1\n",
    "MATCH (z)-[:HAS_AMENITY]->(zc:Amenity)\n",
    "WITH s, z, s1, intersection, COLLECT(zc.name) AS s2\n",
    "WITH s, z, intersection, s1+[x IN s2 WHERE NOT x IN s1] AS union, s1, s2\n",
    "RETURN s.name as UserListing, z.name as Recommendate, s1 as UserListingAmenities, s2 as RecommendateListingAmenities, ((1.0*intersection)/SIZE(union)) AS jaccard ORDER BY jaccard DESC LIMIT $k;\n",
    "\"\"\"\n",
    "recos=[]\n",
    "recoAmenity=[]\n",
    "for row in g.run(query, cid = \"8726758\", k = 5).data():\n",
    "    recos.append('https://www.airbnb.com/rooms/'+row['Recommendate'])\n",
    "    recoAmenity.append(row['UserListingAmenities'])\n"
   ]
  },
  {
   "cell_type": "code",
   "execution_count": 6,
   "metadata": {},
   "outputs": [
    {
     "data": {
      "text/plain": [
       "['https://www.airbnb.com/rooms/17968731',\n",
       " 'https://www.airbnb.com/rooms/2211896',\n",
       " 'https://www.airbnb.com/rooms/9104541',\n",
       " 'https://www.airbnb.com/rooms/43978539',\n",
       " 'https://www.airbnb.com/rooms/17968930']"
      ]
     },
     "execution_count": 6,
     "metadata": {},
     "output_type": "execute_result"
    }
   ],
   "source": [
    "recos"
   ]
  },
  {
   "cell_type": "markdown",
   "metadata": {},
   "source": [
    "### Collaborative Filtering\n",
    "- https://www.datatheque.com/posts/collaborative-filtering/\n",
    "- https://www.kernix.com/article/an-efficient-recommender-system-based-on-graph-database/"
   ]
  },
  {
   "cell_type": "code",
   "execution_count": 14,
   "metadata": {},
   "outputs": [
    {
     "ename": "KeyError",
     "evalue": "'27130534'",
     "output_type": "error",
     "traceback": [
      "\u001b[0;31m---------------------------------------------------------------------------\u001b[0m",
      "\u001b[0;31mKeyError\u001b[0m                                  Traceback (most recent call last)",
      "\u001b[0;32m<ipython-input-14-ab7b057affb1>\u001b[0m in \u001b[0;36m<module>\u001b[0;34m\u001b[0m\n\u001b[1;32m     47\u001b[0m     \u001b[0mrecos\u001b[0m\u001b[0;34m[\u001b[0m\u001b[0mrow\u001b[0m\u001b[0;34m[\u001b[0m\u001b[0;36m0\u001b[0m\u001b[0;34m]\u001b[0m\u001b[0;34m]\u001b[0m \u001b[0;34m=\u001b[0m \u001b[0mrow\u001b[0m\u001b[0;34m[\u001b[0m\u001b[0;36m1\u001b[0m\u001b[0;34m]\u001b[0m\u001b[0;34m\u001b[0m\u001b[0;34m\u001b[0m\u001b[0m\n\u001b[1;32m     48\u001b[0m \u001b[0;34m\u001b[0m\u001b[0m\n\u001b[0;32m---> 49\u001b[0;31m \u001b[0mrecommended_ids\u001b[0m \u001b[0;34m=\u001b[0m \u001b[0;34m[\u001b[0m\u001b[0mx\u001b[0m\u001b[0;34m[\u001b[0m\u001b[0;36m0\u001b[0m\u001b[0;34m]\u001b[0m \u001b[0;32mfor\u001b[0m \u001b[0mx\u001b[0m \u001b[0;32min\u001b[0m \u001b[0mrecos\u001b[0m\u001b[0;34m[\u001b[0m\u001b[0mrow\u001b[0m\u001b[0;34m[\u001b[0m\u001b[0;36m0\u001b[0m\u001b[0;34m]\u001b[0m\u001b[0;34m]\u001b[0m\u001b[0;34m]\u001b[0m\u001b[0;34m\u001b[0m\u001b[0;34m\u001b[0m\u001b[0m\n\u001b[0m\u001b[1;32m     50\u001b[0m \u001b[0;34m\u001b[0m\u001b[0m\n\u001b[1;32m     51\u001b[0m query=\"\"\"\n",
      "\u001b[0;31mKeyError\u001b[0m: '27130534'"
     ]
    }
   ],
   "source": [
    "from pprint import pprint\n",
    "from py2neo import Graph, NodeMatcher\n",
    "g = Graph(\"bolt://localhost:7687/neo4j\", password = \"test\")\n",
    "\n",
    "user_id=\"27130534\"\n",
    "\n",
    "query = \"\"\"\n",
    "        // Get count of all distinct listings that user 4789 has rated and find other users who have rated them\n",
    "        MATCH (u1:User {name:$uid})-[x:RATED]->(m:Listing)<-[y:RATED]-(u2:User)\n",
    "        WHERE u1 <> u2\n",
    "        WITH u1, u2, COUNT(DISTINCT m) as intersection_count\n",
    "        \n",
    "        // Get count of all the distinct products that are unique to each user\n",
    "        MATCH (u:User)-[:RATED]->(m:Listing)\n",
    "        WHERE u in [u1, u2]\n",
    "        WITH u1, u2, intersection_count, COUNT(DISTINCT m) as union_count\n",
    "       \n",
    "        // Compute Jaccard index\n",
    "        WITH u1, u2, intersection_count, union_count, (intersection_count*1.0/union_count) as jaccard_index\n",
    "        \n",
    "        // Get top k neighbours based on Jaccard index\n",
    "        ORDER BY jaccard_index DESC, u2.id\n",
    "        WITH u1, COLLECT([u2.name, jaccard_index, intersection_count, union_count])[0..$k] as neighbours\n",
    "        RETURN u1.name as user, neighbours\n",
    "        \"\"\"\n",
    "neighbours = {}\n",
    "for row in g.run(query, uid=user_id, k=5):\n",
    "    neighbours[row[0]] = row[1]\n",
    "\n",
    "neighbours_ids = [x[0] for x in neighbours[row[0]]]\n",
    "\n",
    "query = \"\"\"\n",
    "        // Get top n recommendations for user from the selected neighbours\n",
    "        MATCH (u1:User),\n",
    "              (neighbour:User)-[:RATED]->(p:Listing)        // get all listings rated by neighbour\n",
    "        WHERE u1.name = $uid\n",
    "          AND neighbour.id in $neighbours\n",
    "          AND not (u1)-[:RATED]->(p)                        // which u1 has not already bought\n",
    "        \n",
    "        WITH u1, p, COUNT(DISTINCT neighbour) as cnt                                // count times rated by neighbours\n",
    "        ORDER BY u1.name, cnt DESC                                               // and sort by count desc\n",
    "        RETURN u1.name as user, COLLECT([p.name,cnt])[0..$k] as recos  \n",
    "        \"\"\"\n",
    "\n",
    "recos = {}\n",
    "for row in g.run(query, uid=user_id, neighbours=neighbours_ids, k=5):\n",
    "    recos[row[0]] = row[1]\n",
    "    \n",
    "recommended_ids = [x[0] for x in recos[row[0]]]   \n",
    "\n",
    "query=\"\"\"\n",
    "MATCH (a:Listing) WHERE a.name in $name RETURN a.name,a.beds,a.bedrooms,a.bathrooms,a.picture_url,a.accomodates,a.review_scores_rating,a.price,a.url;\n",
    "\"\"\""
   ]
  },
  {
   "cell_type": "code",
   "execution_count": 12,
   "metadata": {},
   "outputs": [
    {
     "data": {
      "text/html": [
       "<div>\n",
       "<style scoped>\n",
       "    .dataframe tbody tr th:only-of-type {\n",
       "        vertical-align: middle;\n",
       "    }\n",
       "\n",
       "    .dataframe tbody tr th {\n",
       "        vertical-align: top;\n",
       "    }\n",
       "\n",
       "    .dataframe thead th {\n",
       "        text-align: right;\n",
       "    }\n",
       "</style>\n",
       "<table border=\"1\" class=\"dataframe\">\n",
       "  <thead>\n",
       "    <tr style=\"text-align: right;\">\n",
       "      <th></th>\n",
       "      <th>a.name</th>\n",
       "      <th>a.beds</th>\n",
       "      <th>a.bedrooms</th>\n",
       "      <th>a.bathrooms</th>\n",
       "      <th>a.picture_url</th>\n",
       "      <th>a.accomodates</th>\n",
       "      <th>a.review_scores_rating</th>\n",
       "      <th>a.price</th>\n",
       "      <th>a.url</th>\n",
       "    </tr>\n",
       "  </thead>\n",
       "  <tbody>\n",
       "    <tr>\n",
       "      <th>0</th>\n",
       "      <td>28871</td>\n",
       "      <td>1.0</td>\n",
       "      <td>1.0</td>\n",
       "      <td>1 shared bath</td>\n",
       "      <td>https://a0.muscache.com/pictures/160889/362340...</td>\n",
       "      <td>2.0</td>\n",
       "      <td>very good</td>\n",
       "      <td>$75.00</td>\n",
       "      <td>https://www.airbnb.com/rooms/28871</td>\n",
       "    </tr>\n",
       "    <tr>\n",
       "      <th>1</th>\n",
       "      <td>47061</td>\n",
       "      <td>2.0</td>\n",
       "      <td>2.0</td>\n",
       "      <td>1.5 baths</td>\n",
       "      <td>https://a0.muscache.com/pictures/268343/a08ce2...</td>\n",
       "      <td>3.0</td>\n",
       "      <td>very good</td>\n",
       "      <td>$120.00</td>\n",
       "      <td>https://www.airbnb.com/rooms/47061</td>\n",
       "    </tr>\n",
       "    <tr>\n",
       "      <th>2</th>\n",
       "      <td>80635</td>\n",
       "      <td>1.0</td>\n",
       "      <td>1.0</td>\n",
       "      <td>1.5 baths</td>\n",
       "      <td>https://a0.muscache.com/pictures/2da32e98-8c3a...</td>\n",
       "      <td>1.0</td>\n",
       "      <td>very good</td>\n",
       "      <td>$82.00</td>\n",
       "      <td>https://www.airbnb.com/rooms/80635</td>\n",
       "    </tr>\n",
       "    <tr>\n",
       "      <th>3</th>\n",
       "      <td>255809</td>\n",
       "      <td>2.0</td>\n",
       "      <td>2.0</td>\n",
       "      <td>1 private bath</td>\n",
       "      <td>https://a0.muscache.com/pictures/2dec027c-e715...</td>\n",
       "      <td>4.0</td>\n",
       "      <td>very good</td>\n",
       "      <td>$135.00</td>\n",
       "      <td>https://www.airbnb.com/rooms/255809</td>\n",
       "    </tr>\n",
       "  </tbody>\n",
       "</table>\n",
       "</div>"
      ],
      "text/plain": [
       "   a.name a.beds a.bedrooms     a.bathrooms  \\\n",
       "0   28871    1.0        1.0   1 shared bath   \n",
       "1   47061    2.0        2.0       1.5 baths   \n",
       "2   80635    1.0        1.0       1.5 baths   \n",
       "3  255809    2.0        2.0  1 private bath   \n",
       "\n",
       "                                       a.picture_url a.accomodates  \\\n",
       "0  https://a0.muscache.com/pictures/160889/362340...           2.0   \n",
       "1  https://a0.muscache.com/pictures/268343/a08ce2...           3.0   \n",
       "2  https://a0.muscache.com/pictures/2da32e98-8c3a...           1.0   \n",
       "3  https://a0.muscache.com/pictures/2dec027c-e715...           4.0   \n",
       "\n",
       "  a.review_scores_rating  a.price                                a.url  \n",
       "0              very good   $75.00   https://www.airbnb.com/rooms/28871  \n",
       "1              very good  $120.00   https://www.airbnb.com/rooms/47061  \n",
       "2              very good   $82.00   https://www.airbnb.com/rooms/80635  \n",
       "3              very good  $135.00  https://www.airbnb.com/rooms/255809  "
      ]
     },
     "execution_count": 12,
     "metadata": {},
     "output_type": "execute_result"
    }
   ],
   "source": [
    "g.run(query, name=recommended_ids).to_data_frame()"
   ]
  }
 ],
 "metadata": {
  "interpreter": {
   "hash": "31f2aee4e71d21fbe5cf8b01ff0e069b9275f58929596ceb00d14d90e3e16cd6"
  },
  "kernelspec": {
   "display_name": "Python 3",
   "language": "python",
   "name": "python3"
  },
  "language_info": {
   "codemirror_mode": {
    "name": "ipython",
    "version": 3
   },
   "file_extension": ".py",
   "mimetype": "text/x-python",
   "name": "python",
   "nbconvert_exporter": "python",
   "pygments_lexer": "ipython3",
   "version": "3.8.8"
  }
 },
 "nbformat": 4,
 "nbformat_minor": 4
}
