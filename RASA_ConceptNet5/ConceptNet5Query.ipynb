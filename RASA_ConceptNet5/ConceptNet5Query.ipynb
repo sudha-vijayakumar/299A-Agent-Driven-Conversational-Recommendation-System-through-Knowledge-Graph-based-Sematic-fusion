{
 "cells": [
  {
   "cell_type": "code",
   "execution_count": 170,
   "id": "ea097ddc",
   "metadata": {},
   "outputs": [],
   "source": [
    "from py2neo import Graph\n",
    "from neo4j_knowledge_base import Neo4jKnowledgeBase\n",
    "import re\n",
    "import pandas as pd\n",
    "\n",
    "# use neo4j for real-time recommendations.\n",
    "g = Graph(\"bolt://localhost:7687/neo4j\", password = \"test\")"
   ]
  },
  {
   "cell_type": "code",
   "execution_count": 171,
   "id": "e0a0d2d8",
   "metadata": {},
   "outputs": [],
   "source": [
    "df = pd.read_csv('/Users/sudhavijayakumar/Desktop/299/299A-SMARTRec/Data/processing/Neo4j/Amenity.csv')\n",
    "amenity = df['name']"
   ]
  },
  {
   "cell_type": "code",
   "execution_count": 172,
   "id": "09b1eeb0",
   "metadata": {},
   "outputs": [],
   "source": [
    "query_word='kitchen'\n",
    "from collections import defaultdict\n",
    "\n",
    "collection = defaultdict(list)\n",
    "\n",
    "def realTimeRecommendation(amenity,topK):\t\t\n",
    "\n",
    "\tquery = \"\"\"\n",
    "\t\t\t\t\t\t\tCALL ga.nlp.ml.word2vec.nn($wid, $k, 'en-ConceptNet5') YIELD word, distance RETURN word AS list;\n",
    "\t\t\t\t\t\t\t\"\"\"\n",
    "\tfor row in g.run(query, wid=amenity, k=topK):\n",
    "\t\tif query_word in collections:\n",
    "\t\t\tprocessed=re.sub('[^a-zA-Z0-9]+', ' ', row[0])\n",
    "\t\t\tcollection[amenity].append(processed)\n",
    "\t\telse:\n",
    "\t\t\tcollection[amenity] = (re.sub('[^a-zA-Z0-9]+', ' ', row[0]))\n",
    "\n",
    "\n",
    "for amenity in amenities[:1]:\n",
    "    try:\n",
    "        amen = amenity.split(' ')\n",
    "        for a in amen:\n",
    "            realTimeRecommendation(a.lower(),10)\n",
    "    except:\n",
    "        realTimeRecommendation(amenity.lower(),10)\n",
    "\n",
    "    "
   ]
  },
  {
   "cell_type": "code",
   "execution_count": 173,
   "id": "24a67e26",
   "metadata": {},
   "outputs": [
    {
     "data": {
      "text/plain": [
       "defaultdict(list,\n",
       "            {'refrigerator': ['refrigerator',\n",
       "              'minirefrigerator',\n",
       "              'keep food cold',\n",
       "              'keeping food cold',\n",
       "              'electric refrigerator',\n",
       "              'ice safe',\n",
       "              'frigerator',\n",
       "              'cool food',\n",
       "              'fridge',\n",
       "              'microfridge']})"
      ]
     },
     "execution_count": 173,
     "metadata": {},
     "output_type": "execute_result"
    }
   ],
   "source": [
    "collection"
   ]
  },
  {
   "cell_type": "code",
   "execution_count": 176,
   "id": "bf9b85e5",
   "metadata": {},
   "outputs": [],
   "source": [
    "import json\n",
    "with open('mem_cache_conceptNet5.json', 'w') as outfile:\n",
    "    json.dump(collection,outfile)"
   ]
  },
  {
   "cell_type": "code",
   "execution_count": 178,
   "id": "3d67dd10",
   "metadata": {},
   "outputs": [
    {
     "name": "stdout",
     "output_type": "stream",
     "text": [
      "['refrigerator', 'minirefrigerator', 'keep food cold', 'keeping food cold', 'electric refrigerator', 'ice safe', 'frigerator', 'cool food', 'fridge', 'microfridge']\n"
     ]
    }
   ],
   "source": [
    "data={}\n",
    "with open('mem_cache_conceptNet5.json') as json_file:\n",
    "    data = json.load(json_file)\n",
    "\n",
    "\n",
    "if 'refrigerator' in data:\n",
    "    print(data['refrigerator'])"
   ]
  },
  {
   "cell_type": "code",
   "execution_count": null,
   "id": "f3c1239a",
   "metadata": {},
   "outputs": [],
   "source": []
  }
 ],
 "metadata": {
  "kernelspec": {
   "display_name": "Python 3",
   "language": "python",
   "name": "python3"
  },
  "language_info": {
   "codemirror_mode": {
    "name": "ipython",
    "version": 3
   },
   "file_extension": ".py",
   "mimetype": "text/x-python",
   "name": "python",
   "nbconvert_exporter": "python",
   "pygments_lexer": "ipython3",
   "version": "3.8.8"
  }
 },
 "nbformat": 4,
 "nbformat_minor": 5
}
